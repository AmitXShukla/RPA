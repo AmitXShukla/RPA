{
 "cells": [
  {
   "cell_type": "markdown",
   "id": "6e9aaf75-2ba8-4f69-a0c4-ec9b4577d67f",
   "metadata": {},
   "source": [
    "## Creating a CRON job in linux\n",
    "---"
   ]
  },
  {
   "cell_type": "markdown",
   "id": "7c34d166-faa3-4db1-9922-ce858958305d",
   "metadata": {},
   "source": [
    "\n",
    "    o create a CRON job in Linux, you can follow these steps:\n",
    "\n",
    "    Open a terminal window and type crontab -e to open the crontab editor.\n",
    "\n",
    "    The first time you run crontab -e, you may be prompted to choose an editor. Select your preferred editor (e.g. nano, vim, etc.) and press Enter.\n",
    "\n",
    "    Once the editor opens, you can add your CRON job to the bottom of the file. The syntax for a CRON job is as follows:\n",
    "\n",
    "    javascript\n",
    "\n",
    "    * * * * * /path/to/command arg1 arg2\n",
    "\n",
    "    The five asterisks represent the minute, hour, day of the month, month, and day of the week that the command should run. For example, * * * * * means the command will run every minute of every hour of every day. You can replace the asterisks with specific values or ranges (e.g. 0 6 * * 1-5 means the command will run at 6:00 AM on weekdays).\n",
    "\n",
    "    The /path/to/command represents the path to the script or command you want to run, and arg1 arg2 represent any arguments the command requires.\n",
    "\n",
    "    Once you have added your CRON job to the file, save and exit the editor.\n",
    "\n",
    "    To verify that your CRON job has been added, type crontab -l to list all the CRON jobs associated with your user account."
   ]
  },
  {
   "cell_type": "raw",
   "id": "62b5b9ea-290a-463a-a380-87c9251d8f13",
   "metadata": {},
   "source": [
    "That's it! Your CRON job should now run automatically at the specified intervals"
   ]
  }
 ],
 "metadata": {
  "kernelspec": {
   "display_name": "Python 3 (ipykernel)",
   "language": "python",
   "name": "python3"
  },
  "language_info": {
   "codemirror_mode": {
    "name": "ipython",
    "version": 3
   },
   "file_extension": ".py",
   "mimetype": "text/x-python",
   "name": "python",
   "nbconvert_exporter": "python",
   "pygments_lexer": "ipython3",
   "version": "3.11.2"
  }
 },
 "nbformat": 4,
 "nbformat_minor": 5
}
