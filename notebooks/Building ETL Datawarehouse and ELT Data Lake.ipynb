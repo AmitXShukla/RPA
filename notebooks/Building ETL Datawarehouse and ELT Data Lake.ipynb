{
 "cells": [
  {
   "attachments": {},
   "cell_type": "markdown",
   "metadata": {},
   "source": [
    "# build World's Fastest ETL Datawarehouse & ELT Data Lake using Polars DataFrame\n",
    "---\n",
    "\n",
    "    Author: Amit Shukla\n",
    "\n",
    "[https://github.com/AmitXShukla](https://github.com/AmitXShukla)\n",
    "\n",
    "[https://twitter.com/ashuklax](https://github.com/AShuklaX)\n",
    "\n",
    "[https://youtube.com/AmitXShukla](https://youtube.com/@Amit.Shukla)\n",
    "\n",
    "TODO: REPHRASE\n",
    "\n",
    "This blog post will demonstrate how to build an ETL data warehouse and ELT data lake using Python Polars DataFrame. \n",
    "This solution will outperform any other available tools in terms of speed and accuracy.\n",
    "\n",
    "End of this blog, you will be able to create\n",
    "- A complete star schema based Facts, Dimension tables\n",
    "- Data Extract strategy\n",
    "- Time based, or Key based CDC logic data refresh\n",
    "- Data Loading strategy based on Incremental logic\n",
    "- Disaster Recovery plan\n",
    "- ELT Data Lake with searchable documents\n",
    "\n",
    "---\n",
    "\n",
    "#### Introduction\n",
    "I'm Amit Shukla, and I specialize in training neural networks for finance supply chain analysis, enabling them to identify data patterns and make accurate predictions.\n",
    "During the challenges posed by the COVID-19 pandemic, I successfully trained GL and Supply Chain neural networks to anticipate supply chain shortages. The valuable insights gained from this effort have significantly influenced the content of this tutorial series.\n",
    "\t\n",
    "#### Objective:\n",
    "By delving into this powerful tool, we will master the fundamental techniques of ETL Datawarehouse and ELT Data Lakes. This knowledge is crucial in preparing finance and supply chain data for advanced analytics, visualization, and predictive modeling using neural networks and machine learning.\n",
    "\t\n",
    "#### Subject\n",
    "It's important to note that this particular series will concentrate solely on `Datawarehouse and Data Lake`. \n",
    "Throughout this series, our main focus will be on learning `ETL DW and ELT Data Lakes`.\n",
    "\t\n",
    "#### Following\n",
    "However, in future installments, we will explore Data Analytics and delve into the realm of machine learning for predictive analytics.\n",
    "\tThank you for joining me, and I'm excited to embark on this educational journey together.\n",
    "\t\n",
    "Let's get started.\n",
    "\n",
    "---"
   ]
  },
  {
   "cell_type": "markdown",
   "metadata": {},
   "source": [
    "## Table of content\n",
    "---\n",
    "\n",
    "- Why another DataFrame\n",
    "- Installation\n",
    "- Finance and Supply chain Data Analytics\n",
    "- Creating Polars DataFrame\n",
    "- Data Types\n",
    "- IO\n",
    "- About Contexts\n",
    "    - selection\n",
    "    - filtering\n",
    "    - group by\n",
    "- About Expressions\n",
    "- Functions, User defined functions and Windows function\n",
    "- Transformation\n",
    "- Polar SQLs\n",
    "- Lazy API | Eager execution"
   ]
  },
  {
   "cell_type": "markdown",
   "metadata": {},
   "source": []
  }
 ],
 "metadata": {
  "language_info": {
   "name": "python"
  },
  "orig_nbformat": 4
 },
 "nbformat": 4,
 "nbformat_minor": 2
}
