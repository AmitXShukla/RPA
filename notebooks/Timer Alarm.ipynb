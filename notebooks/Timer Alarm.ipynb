{
 "cells": [
  {
   "attachments": {},
   "cell_type": "markdown",
   "metadata": {},
   "source": [
    "## Alarm clock\n",
    "Here's some Python code that implements an alarm clock:"
   ]
  },
  {
   "cell_type": "code",
   "execution_count": 1,
   "metadata": {},
   "outputs": [
    {
     "ename": "ModuleNotFoundError",
     "evalue": "No module named 'playsound'",
     "output_type": "error",
     "traceback": [
      "\u001b[1;31m---------------------------------------------------------------------------\u001b[0m",
      "\u001b[1;31mModuleNotFoundError\u001b[0m                       Traceback (most recent call last)",
      "Cell \u001b[1;32mIn[1], line 2\u001b[0m\n\u001b[0;32m      1\u001b[0m \u001b[39mimport\u001b[39;00m \u001b[39mtime\u001b[39;00m\n\u001b[1;32m----> 2\u001b[0m \u001b[39mimport\u001b[39;00m \u001b[39mplaysound\u001b[39;00m\n\u001b[0;32m      4\u001b[0m \u001b[39m# Define the alarm time\u001b[39;00m\n\u001b[0;32m      6\u001b[0m alarm_time \u001b[39m=\u001b[39m \u001b[39minput\u001b[39m(\u001b[39m\"\u001b[39m\u001b[39mEnter the time for the alarm in format HH:MM:SS: \u001b[39m\u001b[39m\"\u001b[39m)\n",
      "\u001b[1;31mModuleNotFoundError\u001b[0m: No module named 'playsound'"
     ]
    }
   ],
   "source": [
    "import time\n",
    "import playsound\n",
    "\n",
    "# Define the alarm time\n",
    "\n",
    "alarm_time = input(\"Enter the time for the alarm in format HH:MM:SS: \")\n",
    "\n",
    "# Start the alarm clock\n",
    "\n",
    "while True:\n",
    "    current_time = time.strftime(\"%H:%M:%S\")\n",
    "    if current_time == alarm_time:\n",
    "        print(\"Time's up!\")\n",
    "        playsound.playsound(\"alarm_sound.mp3\")  # Replace with your own alarm sound file\n",
    "        break\n",
    "    time.sleep(1)"
   ]
  },
  {
   "cell_type": "markdown",
   "metadata": {},
   "source": [
    "In this code, we first ask the user to enter the time for the alarm in the format HH:MM:SS. We assign this value to the alarm_time variable.\n",
    "\n",
    "Inside the while loop, we use the time.strftime() function to get the current time in the format HH:MM:SS. We then compare this to the alarm_time variable.\n",
    "\n",
    "If the current time matches the alarm time, we print a message to the console and use the playsound.playsound() function from the playsound module to play the alarm sound. You'll need to replace the \"alarm_sound.mp3\" parameter with the file path and name of your own alarm sound file.\n",
    "\n",
    "Finally, we break out of the while loop and the program ends."
   ]
  }
 ],
 "metadata": {
  "kernelspec": {
   "display_name": "RPA",
   "language": "python",
   "name": "python3"
  },
  "language_info": {
   "codemirror_mode": {
    "name": "ipython",
    "version": 3
   },
   "file_extension": ".py",
   "mimetype": "text/x-python",
   "name": "python",
   "nbconvert_exporter": "python",
   "pygments_lexer": "ipython3",
   "version": "3.11.2"
  },
  "orig_nbformat": 4
 },
 "nbformat": 4,
 "nbformat_minor": 2
}
