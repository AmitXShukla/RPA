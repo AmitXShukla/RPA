{
 "cells": [
  {
   "attachments": {},
   "cell_type": "markdown",
   "id": "d17889e3-8191-4d83-b4c1-49aaffdb0624",
   "metadata": {},
   "source": [
    "## Python Decorators\n",
    "\n",
    "---\n",
    "\n",
    "A decorator is a special type of function that modifies the behavior of another function by wrapping it. \n",
    "\n",
    "In other words, a decorator is a function that takes another function as an argument and returns a new function that \"wraps\" the original function.\n",
    "\n",
    "The new function produced by the decorator is then called instead of the original function when it is invoked.\n",
    "\n",
    "Here's an example of a simple decorator in Python:"
   ]
  },
  {
   "cell_type": "code",
   "execution_count": 16,
   "id": "ed794170-d057-4f32-a952-001cf1e62d65",
   "metadata": {},
   "outputs": [],
   "source": [
    "def add_logging(func):\n",
    "    def wrapper(*args, **kwargs):\n",
    "        print(f\"{func.__name__} was called with arguments {args} and {kwargs}\")\n",
    "        return func(*args, **kwargs)\n",
    "    return wrapper\n",
    "\n",
    "@add_logging\n",
    "def add(a, b, oper=\"add\"):\n",
    "    return a + b"
   ]
  },
  {
   "cell_type": "code",
   "execution_count": 17,
   "id": "3f92d6aa",
   "metadata": {},
   "outputs": [
    {
     "name": "stdout",
     "output_type": "stream",
     "text": [
      "add was called with arguments (5, 4) and {'oper': 'addition'}\n"
     ]
    },
    {
     "data": {
      "text/plain": [
       "9"
      ]
     },
     "execution_count": 17,
     "metadata": {},
     "output_type": "execute_result"
    }
   ],
   "source": [
    "add(5, 4, oper=\"addition\")"
   ]
  },
  {
   "cell_type": "markdown",
   "id": "d95a6a18",
   "metadata": {},
   "source": [
    "In this example, the `add_logging` decorator prints a message to the console each time the `add` function is called. \n",
    "The `wrapper` function produced by the decorator calls the `add` function with the original arguments.\n",
    "\n",
    "Here's how the decorator works:\n",
    "\n",
    "1. The `add_logging` decorator is defined as a function that takes another function, `func`, as an argument.\n",
    "2. The `wrapper` function is defined inside the `add_logging` decorator. The `wrapper` function takes the same arguments as the `func` function and calls it with those arguments.\n",
    "3. The `wrapper` function is returned by the `add_logging` decorator.\n",
    "4. The `@` symbol is used to indicate that a function or class is being decorated. In this example, the `add` function is decorated with the `add_logging` decorator by placing the `@` symbol before the `add_logging` name.\n",
    "5. When the `add` function is called, the `wrapper` function produced by the decorator is called instead of the original `add` function. The `wrapper` function prints a message to the console and then calls the `add` function with the original arguments.\n",
    "\n",
    "Decorators are a powerful tool in Python because they allow you to modify the behavior of functions without changing the original code. You can use decorators to add logging, authentication, caching, and other features to existing functions without changing the functions themselves."
   ]
  }
 ],
 "metadata": {
  "kernelspec": {
   "display_name": "Python 3 (ipykernel)",
   "language": "python",
   "name": "python3"
  },
  "language_info": {
   "codemirror_mode": {
    "name": "ipython",
    "version": 3
   },
   "file_extension": ".py",
   "mimetype": "text/x-python",
   "name": "python",
   "nbconvert_exporter": "python",
   "pygments_lexer": "ipython3",
   "version": "3.12.0"
  }
 },
 "nbformat": 4,
 "nbformat_minor": 5
}
