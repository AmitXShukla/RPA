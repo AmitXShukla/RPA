{
 "cells": [
  {
   "cell_type": "markdown",
   "id": "3d962221-3d7e-4bdf-8a80-d34c1e9dc18b",
   "metadata": {},
   "source": [
    "## Convert Images to Text\n",
    "---\n",
    "#### write code to convert Images to Text"
   ]
  },
  {
   "cell_type": "raw",
   "id": "08253a86-d2b3-40e9-adeb-a3be2525b1e5",
   "metadata": {},
   "source": [
    "################################\n",
    "# create RPA Virtual environment\n",
    "################################\n",
    "# py -m venv RPA\n",
    "# RPA\\Scripts\\activate.bat\n",
    "# import sys\n",
    "# sys.path\n",
    "# py -m pip --version\n",
    "\n",
    "############################################\n",
    "## MAKE SURE these packages are installed ##\n",
    "############################################\n",
    "# py -m pip install pytesseract\n",
    "# py -m pip install PIL\n",
    "################################"
   ]
  },
  {
   "cell_type": "code",
   "execution_count": null,
   "id": "2a4048a4-3034-4289-ad06-e107dfa72bef",
   "metadata": {},
   "outputs": [],
   "source": [
    "import pytesseract\n",
    "from PIL import Image\n",
    "\n",
    "def convert_image_to_text(image_path):\n",
    "    \"\"\"\n",
    "    Convert an image to text using OCR.\n",
    "\n",
    "    Args:\n",
    "        image_path (str): The file path to the input image.\n",
    "\n",
    "    Returns:\n",
    "        str: The extracted text from the image.\n",
    "    \"\"\"\n",
    "    # Open the image using PIL\n",
    "    image = Image.open(image_path)\n",
    "\n",
    "    # Perform OCR on the image using pytesseract\n",
    "    text = pytesseract.image_to_string(image)\n",
    "\n",
    "    return text\n",
    "\n",
    "# Example usage\n",
    "image_path = \"image.jpg\"\n",
    "text = convert_image_to_text(image_path)\n",
    "print(text)"
   ]
  },
  {
   "cell_type": "markdown",
   "id": "247b9b5c-1a45-43a2-84ce-1497995f7c69",
   "metadata": {},
   "source": [
    "In this code, we define a function called convert_image_to_text that takes an input image file path and returns the extracted text as a string.\n",
    "\n",
    "The function uses the PIL.Image.open() method to open the image, and then uses the pytesseract.image_to_string() method to perform OCR on the image and extract the text.\n",
    "\n",
    "We can then call the convert_image_to_text function with example data, passing in an input image file path, to extract the text from the image. Note that the accuracy of the OCR process may vary depending on the quality and content of the image."
   ]
  }
 ],
 "metadata": {
  "kernelspec": {
   "display_name": "Python 3 (ipykernel)",
   "language": "python",
   "name": "python3"
  },
  "language_info": {
   "codemirror_mode": {
    "name": "ipython",
    "version": 3
   },
   "file_extension": ".py",
   "mimetype": "text/x-python",
   "name": "python",
   "nbconvert_exporter": "python",
   "pygments_lexer": "ipython3",
   "version": "3.11.2"
  }
 },
 "nbformat": 4,
 "nbformat_minor": 5
}
