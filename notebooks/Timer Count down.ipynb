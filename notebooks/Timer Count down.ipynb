{
 "cells": [
  {
   "attachments": {},
   "cell_type": "markdown",
   "metadata": {},
   "source": [
    "## Count down timer\n",
    "Here's some Python code that displays a countdown timer:"
   ]
  },
  {
   "cell_type": "code",
   "execution_count": 1,
   "metadata": {},
   "outputs": [
    {
     "name": "stdout",
     "output_type": "stream",
     "text": [
      "Time remaining: 60 seconds\n",
      "Time remaining: 59 seconds\n",
      "Time remaining: 58 seconds\n",
      "Time remaining: 57 seconds\n",
      "Time remaining: 56 seconds\n",
      "Time remaining: 55 seconds\n",
      "Time remaining: 54 seconds\n",
      "Time remaining: 53 seconds\n",
      "Time remaining: 52 seconds\n",
      "Time remaining: 51 seconds\n",
      "Time remaining: 50 seconds\n",
      "Time remaining: 49 seconds\n"
     ]
    },
    {
     "ename": "KeyboardInterrupt",
     "evalue": "",
     "output_type": "error",
     "traceback": [
      "\u001b[1;31m---------------------------------------------------------------------------\u001b[0m",
      "\u001b[1;31mKeyboardInterrupt\u001b[0m                         Traceback (most recent call last)",
      "Cell \u001b[1;32mIn[1], line 11\u001b[0m\n\u001b[0;32m      9\u001b[0m \u001b[39mwhile\u001b[39;00m countdown_time \u001b[39m>\u001b[39m \u001b[39m0\u001b[39m:\n\u001b[0;32m     10\u001b[0m     \u001b[39mprint\u001b[39m(\u001b[39m\"\u001b[39m\u001b[39mTime remaining: \u001b[39m\u001b[39m{}\u001b[39;00m\u001b[39m seconds\u001b[39m\u001b[39m\"\u001b[39m\u001b[39m.\u001b[39mformat(countdown_time))\n\u001b[1;32m---> 11\u001b[0m     time\u001b[39m.\u001b[39;49msleep(\u001b[39m1\u001b[39;49m)\n\u001b[0;32m     12\u001b[0m     countdown_time \u001b[39m-\u001b[39m\u001b[39m=\u001b[39m \u001b[39m1\u001b[39m\n\u001b[0;32m     14\u001b[0m \u001b[39m# Countdown has ended\u001b[39;00m\n",
      "\u001b[1;31mKeyboardInterrupt\u001b[0m: "
     ]
    }
   ],
   "source": [
    "import time\n",
    "\n",
    "# Define the countdown time in seconds\n",
    "\n",
    "countdown_time = 60\n",
    "\n",
    "# Start the countdown\n",
    "\n",
    "while countdown_time > 0:\n",
    "    print(\"Time remaining: {} seconds\".format(countdown_time))\n",
    "    time.sleep(1)\n",
    "    countdown_time -= 1\n",
    "\n",
    "# Countdown has ended\n",
    "\n",
    "print(\"Time's up!\")"
   ]
  },
  {
   "cell_type": "markdown",
   "metadata": {},
   "source": [
    "In this code, we first define the countdown time in seconds. We then start a while loop that runs until the countdown time reaches 0. Inside the loop, we print the time remaining in seconds using the format() function to insert the countdown_time variable into the string.\n",
    "\n",
    "We then pause the program execution for 1 second using the time.sleep() function and decrement the countdown_time variable by 1.\n",
    "\n",
    "When the countdown time reaches 0, we print a message to indicate that the countdown has ended."
   ]
  }
 ],
 "metadata": {
  "kernelspec": {
   "display_name": "RPA",
   "language": "python",
   "name": "python3"
  },
  "language_info": {
   "codemirror_mode": {
    "name": "ipython",
    "version": 3
   },
   "file_extension": ".py",
   "mimetype": "text/x-python",
   "name": "python",
   "nbconvert_exporter": "python",
   "pygments_lexer": "ipython3",
   "version": "3.11.2"
  },
  "orig_nbformat": 4
 },
 "nbformat": 4,
 "nbformat_minor": 2
}
