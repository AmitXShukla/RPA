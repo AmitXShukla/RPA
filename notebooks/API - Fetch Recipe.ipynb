{
 "cells": [
  {
   "cell_type": "markdown",
   "id": "f000b967-63bf-4090-b2b7-8f2c8b6a2a07",
   "metadata": {},
   "source": [
    "## Fetch Recipe API\n",
    "---\n",
    "\n",
    "To fetch recipe data from an API, you first need to find a suitable recipe API provider and sign up for an API key. Once you have your API key, you can use it to make requests to the API.\n",
    "\n",
    "Here's an example Python code snippet that demonstrates how to fetch recipe data from the Spoonacular API using the requests library:"
   ]
  },
  {
   "cell_type": "raw",
   "id": "f8d01681-af9d-483b-9613-18346c5979fd",
   "metadata": {},
   "source": [
    "################################\n",
    "# create RPA Virtual environment\n",
    "################################\n",
    "# py -m venv RPA\n",
    "# RPA\\Scripts\\activate.bat\n",
    "# import sys\n",
    "# sys.path\n",
    "# py -m pip --version\n",
    "\n",
    "############################################\n",
    "## MAKE SURE these packages are installed ##\n",
    "############################################\n",
    "# py -m pip install requests\n",
    "################################"
   ]
  },
  {
   "cell_type": "code",
   "execution_count": null,
   "id": "6b0c9fc9-1927-4458-a15f-0da219aca14c",
   "metadata": {},
   "outputs": [],
   "source": [
    "import requests\n",
    "\n",
    "# Set API key and API endpoint\n",
    "api_key = 'YOUR_API_KEY'\n",
    "api_url = f'https://api.spoonacular.com/recipes/random?apiKey={api_key}'\n",
    "\n",
    "# Define request parameters\n",
    "params = {\n",
    "    'number': 5,  # Number of recipes to retrieve\n",
    "}\n",
    "\n",
    "# Execute the request and print results\n",
    "response = requests.get(api_url, params=params)\n",
    "data = response.json()\n",
    "\n",
    "for recipe in data['recipes']:\n",
    "    print(recipe['title'])\n",
    "    print(recipe['sourceUrl'])\n",
    "    print(recipe['image'])\n",
    "    print(recipe['summary'])"
   ]
  },
  {
   "cell_type": "raw",
   "id": "1b58effe-c5db-4d0c-9778-98c899f3d39e",
   "metadata": {},
   "source": [
    "In this example, we are accessing the Spoonacular API to retrieve a random set of 5 recipes. You can modify the request parameters and use different API endpoints to perform other tasks, such as searching for recipes by keyword or retrieving nutrition information for specific ingredients. Make sure to consult the API documentation for details on the available endpoints and request parameters."
   ]
  },
  {
   "attachments": {},
   "cell_type": "markdown",
   "id": "23f1f95e",
   "metadata": {},
   "source": [
    "Finding a recipe for making your favorite dish or working on a project which shows recipes for different dishes then this Recipe API will be your savior. This awesome API will let you fetch Recipes for any dish and also display the Nutricians and Calories the dish will have."
   ]
  },
  {
   "cell_type": "raw",
   "id": "f43ef609",
   "metadata": {},
   "source": [
    "# Get your FREE API : https://developer.edamam.com/\n",
    "# pip install py_edamamfrom py_edamam \n",
    "\n",
    "import Edamamrecipe = Edamam( \n",
    "\trecipes_appid=\"Your App ID\",\n",
    "\trecipes_appkey=\"Your API Key\",\n",
    "\t)\n",
    "\n",
    "# Search for recipes\n",
    "recipes = recipe.search_recipe(\"Pineapple Cake\")\n",
    "print(recipes)\n",
    "\n",
    "# Get Recipe and Nutritions\n",
    "for r in recipes:\n",
    "\tprint(r)\n",
    "\tprint(r.calories)\n",
    "\tprint(r.cautions)\n",
    "\tprint(r.dietLabels)\n",
    "\tprint(r.healthLabels)\n",
    "    print(r.ingredients_quantities)"
   ]
  }
 ],
 "metadata": {
  "kernelspec": {
   "display_name": "Python 3 (ipykernel)",
   "language": "python",
   "name": "python3"
  },
  "language_info": {
   "codemirror_mode": {
    "name": "ipython",
    "version": 3
   },
   "file_extension": ".py",
   "mimetype": "text/x-python",
   "name": "python",
   "nbconvert_exporter": "python",
   "pygments_lexer": "ipython3",
   "version": "3.11.2"
  }
 },
 "nbformat": 4,
 "nbformat_minor": 5
}
