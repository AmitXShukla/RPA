{
 "cells": [
  {
   "cell_type": "markdown",
   "id": "90913ab0-6033-4ef2-b9e7-44d06d03e63a",
   "metadata": {},
   "source": [
    "## Python - Pass by reference, value or assignment\n",
    "\n",
    "---\n",
    "\n",
    "In Python, the distinction between pass by reference and pass by value is not straightforward due to Python's unique approach known as \"pass by assignment.\" \n",
    "\n",
    "In traditional pass by reference, the function and the caller use the same variable and object, allowing changes made within the function to directly affect the original variable. \n",
    "\n",
    "On the other hand, pass by value involves creating independent copies of the original values, ensuring modifications within the function do not impact the original variable. \n",
    "\n",
    "In Python, all values are references to objects, but these references are passed by value. This means that modifications to mutable objects like lists can affect the original variable outside the function, resembling pass by reference behavior.\n",
    "\n",
    "However, for immutable objects like integers, changes made within the function **do not** alter the original variable outside, resembling pass by value.\n"
   ]
  },
  {
   "cell_type": "code",
   "execution_count": 11,
   "id": "195bdabb",
   "metadata": {},
   "outputs": [
    {
     "name": "stdout",
     "output_type": "stream",
     "text": [
      "memeory lcoation of x:  140722769152728\n",
      "value of a inside func:  10\n",
      "value of a after func:  5\n",
      "memeory lcoation of a:  140722769152568\n"
     ]
    },
    {
     "data": {
      "text/plain": [
       "(None, None)"
      ]
     },
     "execution_count": 11,
     "metadata": {},
     "output_type": "execute_result"
    }
   ],
   "source": [
    "def foo(x):\n",
    "    x = 10\n",
    "    print(\"memeory lcoation of x: \",id(x))\n",
    "    a = 10\n",
    "    print(\"value of a inside func: \", a)\n",
    "    return a\n",
    "\n",
    "a = 5\n",
    "foo(a)\n",
    "print(\"value of a after func: \", a), print(\"memeory lcoation of a: \", id(a))"
   ]
  },
  {
   "cell_type": "code",
   "execution_count": 12,
   "id": "e215dc5c",
   "metadata": {},
   "outputs": [
    {
     "name": "stdout",
     "output_type": "stream",
     "text": [
      "memeory lcoation of x:  140722769152728\n",
      "value of a inside func:  10\n",
      "value of a after func:  10\n",
      "memeory lcoation of a:  140722769152728\n"
     ]
    },
    {
     "data": {
      "text/plain": [
       "(None, None)"
      ]
     },
     "execution_count": 12,
     "metadata": {},
     "output_type": "execute_result"
    }
   ],
   "source": [
    "def foo(x):\n",
    "    x = 10\n",
    "    print(\"memeory lcoation of x: \",id(x))\n",
    "    a = 10\n",
    "    print(\"value of a inside func: \", a)\n",
    "    return a\n",
    "\n",
    "a = 5\n",
    "a = foo(a) ## pass by assignment\n",
    "print(\"value of a after func: \", a), print(\"memeory lcoation of a: \", id(a))"
   ]
  }
 ],
 "metadata": {
  "kernelspec": {
   "display_name": "Python 3 (ipykernel)",
   "language": "python",
   "name": "python3"
  },
  "language_info": {
   "codemirror_mode": {
    "name": "ipython",
    "version": 3
   },
   "file_extension": ".py",
   "mimetype": "text/x-python",
   "name": "python",
   "nbconvert_exporter": "python",
   "pygments_lexer": "ipython3",
   "version": "3.12.0"
  }
 },
 "nbformat": 4,
 "nbformat_minor": 5
}
