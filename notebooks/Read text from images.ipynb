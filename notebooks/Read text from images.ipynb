{
 "cells": [
  {
   "attachments": {},
   "cell_type": "markdown",
   "id": "7ad30548-2bed-422f-b232-b4c00d92350e",
   "metadata": {},
   "source": [
    "## Read text from Images\n",
    "---\n",
    "\n",
    "This tutorial will demonstrate how to read text from a screenshot of a web page using Python pytesseract and Pillow modules.\n",
    "\n",
    "Frequently, we require a snapshot of an email, webpage, online order, receipt, or other document and then we want to read content of images.\n",
    "\n",
    "A typical use case is, validating content of a Vendor paper invoice to what's in Voucher invoice.\n",
    "\n",
    "In these scenarios, the following code can help streamline the process of reading text content from images.\n",
    "\n",
    "The tutorial will cover the following:\n",
    "\n",
    "- Creating generic functions\n",
    "- Extending this functionality to automate reading text from multiple screenshots.\n",
    "\n",
    "To read text from images using Tesseract OCR in Python, we can use the pytesseract library, which is a Python wrapper for the Tesseract OCR engine. Here's an example code snippet:\n",
    "\n",
    "[download tesseract here](https://tesseract-ocr.github.io/tessdoc/#binaries)\n",
    "\n",
    "`Note that Tesseract OCR is not perfect and may not be able to extract text accurately from all images.`"
   ]
  },
  {
   "cell_type": "code",
   "execution_count": 1,
   "id": "b4a9ba38-a657-41ed-ac2e-83745fd42d33",
   "metadata": {},
   "outputs": [],
   "source": [
    "################################\n",
    "# create RPA Virtual environment\n",
    "################################\n",
    "# py -m venv RPA\n",
    "# RPA\\Scripts\\activate.bat\n",
    "# import sys\n",
    "# sys.path\n",
    "# py -m pip --version\n",
    "\n",
    "############################################\n",
    "## MAKE SURE these packages are installed ##\n",
    "############################################\n",
    "# py -m pip install pytesseract\n",
    "# py -m pip install PIL\n",
    "################################"
   ]
  },
  {
   "cell_type": "code",
   "execution_count": 1,
   "id": "ed097989",
   "metadata": {},
   "outputs": [],
   "source": [
    "from PIL import Image\n",
    "img = Image.open('../downloads/AAPL.png')\n",
    "img.show()"
   ]
  },
  {
   "cell_type": "code",
   "execution_count": 2,
   "id": "012d5197",
   "metadata": {},
   "outputs": [
    {
     "data": {
      "text/plain": [
       "'C:\\\\amit.la\\\\WIP\\\\RPA\\\\downloads\\\\ts'"
      ]
     },
     "execution_count": 2,
     "metadata": {},
     "output_type": "execute_result"
    }
   ],
   "source": [
    "# make sure, you have tesseract included in your environment path\n",
    "\n",
    "import os\n",
    "os.getenv(\"tesseract\")"
   ]
  },
  {
   "attachments": {},
   "cell_type": "markdown",
   "id": "85c17431",
   "metadata": {},
   "source": [
    "## ChatGPT Generated Code"
   ]
  },
  {
   "cell_type": "code",
   "execution_count": 10,
   "id": "e1eeb598-f7ea-47eb-85c0-d8c7321a7a95",
   "metadata": {},
   "outputs": [
    {
     "name": "stdout",
     "output_type": "stream",
     "text": [
      "2022/10/05 13:19:33 2/3\n",
      "\n",
      "REMOTE e510 Quperzon paces. stavus\n",
      "\n",
      "Me, RECEIVED,\n",
      "Failed to receive\n",
      "\n",
      "October 3, 2022 at 7:33:02 aM POT RPRFTLOOL\n",
      "ERROR CODE ( 700 )\n",
      "Error in fax transmission,\n",
      "\n",
      "2he\n",
      "ay,\n",
      "KAISER PERMANENTE.\n",
      "\n",
      "Compl? CCS Sacramento\n",
      "Fax. 1-910-094-9500\n",
      "\n",
      "HRB Sandra.M.Conez@kp.org\n",
      "\n",
      "Subject: siausurwT Refenel?\n",
      "\n",
      "#8 KAISER PERMANENTE.\n",
      "\n",
      "esa VSR RVD Li RSLS IR) LOB ee CY\n",
      "ler eU MLL MI EN LUMA SYD UE ARES Bo vo\n",
      "\n"
     ]
    }
   ],
   "source": [
    "import pytesseract\n",
    "from PIL import Image\n",
    "\n",
    "##############################################################################\n",
    "# in case if tesseract is not included in PATH\n",
    "pytesseract.pytesseract.tesseract_cmd = r'C:\\amit.la\\WIP\\RPA\\downloads\\ts\\tesseract.exe'\n",
    "##############################################################################\n",
    "\n",
    "def read_image_text(image_path):\n",
    "    \"\"\"\n",
    "    Reads text from an image file using Tesseract OCR.\n",
    "\n",
    "    Args:\n",
    "        image_path (str): The file path to the input image.\n",
    "\n",
    "    Returns:\n",
    "        str: The extracted text from the image.\n",
    "    \"\"\"\n",
    "    # Load the image file\n",
    "    image = Image.open(image_path)\n",
    "\n",
    "    # Use Tesseract OCR to extract the text from the image\n",
    "    text = pytesseract.image_to_string(image)\n",
    "\n",
    "    return text\n",
    "\n",
    "# Example usage\n",
    "image_path = \"../downloads/medical_form.png\"\n",
    "# image_path = \"../downloads/email.png\"\n",
    "# image_path = \"../downloads/vaccine.png\"\n",
    "# image_path = \"../downloads/blurry_1.png\"\n",
    "# image_path = \"../downloads/blurry_2.png\"\n",
    "text = read_image_text(image_path)\n",
    "print(text)"
   ]
  },
  {
   "cell_type": "markdown",
   "id": "f804f950-c3f3-4cd2-b247-dde2f601ab2b",
   "metadata": {},
   "source": [
    "In this code, we define a function called read_image_text that takes an input image file path and returns the extracted text from the image.\n",
    "\n",
    "The function first uses the PIL (Python Imaging Library) Image module to load the image file from the given file path.\n",
    "\n",
    "Next, the function uses the pytesseract library to extract the text from the image using the image_to_string() function. This function takes the image as input and returns the extracted text as a string.\n",
    "\n",
    "Finally, the function returns the extracted text.\n",
    "\n",
    "We can call the read_image_text function with example data, passing in an image file path. The function will return the extracted text from the image as a string. Note that Tesseract OCR is not perfect and may not be able to extract text accurately from all images."
   ]
  },
  {
   "cell_type": "code",
   "execution_count": null,
   "id": "a227006a",
   "metadata": {},
   "outputs": [],
   "source": [
    "images = {\n",
    "        \"AAPL\": \"../downloads/AAPL.png\",\n",
    "        \"ORCL\": \"../downloads/ORCL.png\",\n",
    "        \"TSLA\": \"../downloads/TSLA.png\",\n",
    "        \"GOOG\": \"../downloads/GOOG.png\",\n",
    "        \"MSFT\": \"../downloads/MSFT.png\"\n",
    "    }"
   ]
  },
  {
   "cell_type": "code",
   "execution_count": null,
   "id": "63bcbb05",
   "metadata": {},
   "outputs": [],
   "source": [
    "for key,value in images.items():\n",
    "    # print(key, value)\n",
    "    text = read_image_text(value)\n",
    "    print(text)"
   ]
  }
 ],
 "metadata": {
  "kernelspec": {
   "display_name": "Python 3 (ipykernel)",
   "language": "python",
   "name": "python3"
  },
  "language_info": {
   "codemirror_mode": {
    "name": "ipython",
    "version": 3
   },
   "file_extension": ".py",
   "mimetype": "text/x-python",
   "name": "python",
   "nbconvert_exporter": "python",
   "pygments_lexer": "ipython3",
   "version": "3.11.2"
  }
 },
 "nbformat": 4,
 "nbformat_minor": 5
}
