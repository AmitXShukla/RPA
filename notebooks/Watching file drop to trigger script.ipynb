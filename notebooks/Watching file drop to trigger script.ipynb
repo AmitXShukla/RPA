{
 "cells": [
  {
   "cell_type": "markdown",
   "id": "44ba4c90-1a2e-4f8a-957d-93eb14900e6d",
   "metadata": {},
   "source": [
    "## Watching file drop to trigger script\n",
    "Python code that demonstrates how to watch a directory for new file drops and trigger a script when a file is added:"
   ]
  },
  {
   "cell_type": "code",
   "execution_count": null,
   "id": "e3c63563-6f56-481c-8d5d-e021273a860c",
   "metadata": {},
   "outputs": [],
   "source": [
    "import time\n",
    "import os\n",
    "\n",
    "# Define the directory to watch\n",
    "\n",
    "watch_dir = '/path/to/watch/dir/'\n",
    "\n",
    "# Define the command to run when a new file is added\n",
    "\n",
    "command = 'python /path/to/your/script.py'\n",
    "\n",
    "# Define the set of already seen files\n",
    "\n",
    "seen_files = set()\n",
    "\n",
    "# Start watching the directory for new files\n",
    "\n",
    "while True:\n",
    "    # Get the list of files in the directory\n",
    "    files = os.listdir(watch_dir)\n",
    "\n",
    "    # Check each file in the directory\n",
    "    for file in files:\n",
    "        # If the file is new, trigger the command\n",
    "        if file not in seen_files:\n",
    "            seen_files.add(file)\n",
    "            os.system(command)\n",
    "\n",
    "    # Wait for a little bit before checking again\n",
    "    time.sleep(1)"
   ]
  },
  {
   "cell_type": "raw",
   "id": "1e2a775b-b256-4b26-81c0-b8f5cb1d6b2c",
   "metadata": {},
   "source": [
    "In this code, we first define the directory we want to watch for new files to be dropped. We also define the command we want to run when a new file is added to the directory.\n",
    "\n",
    "We start an infinite loop that checks for new files in the directory every second. For each file in the directory, we check if it has already been seen before. If it has not been seen before, we add it to the set of seen files and trigger the command by running it with the os.system function.\n",
    "\n",
    "We then wait for a second before checking the directory again. This loop will continue running until the program is terminated."
   ]
  }
 ],
 "metadata": {
  "kernelspec": {
   "display_name": "Python 3 (ipykernel)",
   "language": "python",
   "name": "python3"
  },
  "language_info": {
   "codemirror_mode": {
    "name": "ipython",
    "version": 3
   },
   "file_extension": ".py",
   "mimetype": "text/x-python",
   "name": "python",
   "nbconvert_exporter": "python",
   "pygments_lexer": "ipython3",
   "version": "3.11.2"
  }
 },
 "nbformat": 4,
 "nbformat_minor": 5
}
