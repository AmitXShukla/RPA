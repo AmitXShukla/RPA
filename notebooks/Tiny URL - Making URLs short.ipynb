{
 "cells": [
  {
   "cell_type": "markdown",
   "id": "3e5f3fab-e08b-4285-9002-afc4d359b130",
   "metadata": {},
   "source": [
    "## Tiny URL - Making URLs short\n",
    "---\n",
    "\n",
    "To create a Tiny URL, we can use various URL shortening services such as Bitly, TinyURL, etc. These services provide an API that can be used to shorten a given URL. Here is an example code snippet that demonstrates how to use the Bitly API to create a Tiny URL:"
   ]
  },
  {
   "cell_type": "code",
   "execution_count": null,
   "id": "b2b915bf-b62c-4ced-a350-e26e281ad1c9",
   "metadata": {},
   "outputs": [],
   "source": [
    "################################\n",
    "# create RPA Virtual environment\n",
    "################################\n",
    "# py -m venv RPA\n",
    "# RPA\\Scripts\\activate.bat\n",
    "# import sys\n",
    "# sys.path\n",
    "# py -m pip --version\n",
    "\n",
    "############################################\n",
    "## MAKE SURE these packages are installed ##\n",
    "############################################\n",
    "# py -m pip install requests\n",
    "# py -m pip install json\n",
    "################################\n",
    "# signup and update API Key\n",
    "################################"
   ]
  },
  {
   "cell_type": "code",
   "execution_count": null,
   "id": "840c856c-72a3-47de-8c9d-eeecaecdb5ee",
   "metadata": {},
   "outputs": [],
   "source": [
    "import requests\n",
    "import json\n",
    "\n",
    "def create_tiny_url(url):\n",
    "    \"\"\"\n",
    "    Create a Tiny URL using the Bitly API.\n",
    "\n",
    "    Args:\n",
    "        url (str): The URL to be shortened.\n",
    "\n",
    "    Returns:\n",
    "        str: The shortened URL.\n",
    "    \"\"\"\n",
    "    # Bitly access token\n",
    "    access_token = \"your_access_token_here\"\n",
    "\n",
    "    # Bitly API endpoint for URL shortening\n",
    "    endpoint = \"https://api-ssl.bitly.com/v4/shorten\"\n",
    "\n",
    "    # Set up the request headers and data\n",
    "    headers = {\n",
    "        \"Authorization\": f\"Bearer {access_token}\",\n",
    "        \"Content-Type\": \"application/json\"\n",
    "    }\n",
    "    data = {\n",
    "        \"long_url\": url,\n",
    "        \"domain\": \"bit.ly\"\n",
    "    }\n",
    "\n",
    "    # Send the request and get the response\n",
    "    response = requests.post(endpoint, headers=headers, data=json.dumps(data))\n",
    "\n",
    "    # Extract the shortened URL from the response JSON\n",
    "    short_url = response.json().get(\"link\")\n",
    "\n",
    "    return short_url\n",
    "\n",
    "# Example usage\n",
    "url = \"https://www.google.com\"\n",
    "tiny_url = create_tiny_url(url)\n",
    "print(tiny_url)"
   ]
  },
  {
   "cell_type": "raw",
   "id": "b8c23873-e6f8-4eca-a8c9-2a0cef346022",
   "metadata": {},
   "source": [
    "In this code, we define a function called create_tiny_url that takes a URL as input and returns a Tiny URL. The function uses the Bitly API to shorten the URL, using an access token and API endpoint. We set up the request headers and data and then send the request using the requests library. Finally, we extract the shortened URL from the response JSON and return it.\n",
    "\n",
    "To use the code, we can call the create_tiny_url function with an example URL, and it will return a Tiny URL. Note that you will need to sign up for a Bitly account and obtain an access token to use this code."
   ]
  }
 ],
 "metadata": {
  "kernelspec": {
   "display_name": "Python 3 (ipykernel)",
   "language": "python",
   "name": "python3"
  },
  "language_info": {
   "codemirror_mode": {
    "name": "ipython",
    "version": 3
   },
   "file_extension": ".py",
   "mimetype": "text/x-python",
   "name": "python",
   "nbconvert_exporter": "python",
   "pygments_lexer": "ipython3",
   "version": "3.11.2"
  }
 },
 "nbformat": 4,
 "nbformat_minor": 5
}
