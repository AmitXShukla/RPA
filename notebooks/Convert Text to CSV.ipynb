{
 "cells": [
  {
   "cell_type": "raw",
   "id": "760e133f-3b8b-486f-a7d1-8d2a16066cb2",
   "metadata": {},
   "source": [
    "################################\n",
    "# create RPA Virtual environment\n",
    "################################\n",
    "# py -m venv RPA\n",
    "# RPA\\Scripts\\activate.bat\n",
    "# import sys\n",
    "# sys.path\n",
    "# py -m pip --version\n",
    "\n",
    "############################################\n",
    "## MAKE SURE these packages are installed ##\n",
    "############################################\n",
    "# py -m pip install csv\n",
    "################################"
   ]
  },
  {
   "cell_type": "code",
   "execution_count": null,
   "id": "09d9c733-8975-48ad-ab07-8e432fa71482",
   "metadata": {},
   "outputs": [],
   "source": [
    "import csv\n",
    "\n",
    "def convert_text_to_csv(input_file, output_file, delimiter=','):\n",
    "    \"\"\"\n",
    "    Convert a text file to a CSV file.\n",
    "\n",
    "    Args:\n",
    "        input_file (str): The file path to the input text file.\n",
    "        output_file (str): The file path to save the output CSV file to.\n",
    "        delimiter (str): The delimiter to use between fields in the CSV file.\n",
    "    \"\"\"\n",
    "    # Open the input file in read mode\n",
    "    with open(input_file, 'r') as f:\n",
    "        # Read the lines of the input file\n",
    "        lines = f.readlines()\n",
    "\n",
    "    # Split each line into fields using the delimiter\n",
    "    rows = [line.strip().split(delimiter) for line in lines]\n",
    "\n",
    "    # Write the rows to the output CSV file\n",
    "    with open(output_file, 'w', newline='') as f:\n",
    "        writer = csv.writer(f)\n",
    "        writer.writerows(rows)\n",
    "\n",
    "# Example usage\n",
    "input_file = \"input.txt\"\n",
    "output_file = \"output.csv\"\n",
    "convert_text_to_csv(input_file, output_file)"
   ]
  },
  {
   "cell_type": "raw",
   "id": "97b6efa2-d768-4d5f-af18-d601230604fb",
   "metadata": {},
   "source": [
    "In this code, we define a function called convert_text_to_csv that takes an input file path, an output file path, and an optional parameter for the delimiter to use in the CSV file.\n",
    "\n",
    "The function opens the input file in read mode using the open() function and reads the lines of the file using the readlines() method. It then splits each line into fields using the delimiter and stores the resulting rows as a list of lists.\n",
    "\n",
    "Finally, the function opens the output CSV file in write mode using the csv.writer() function and writes the rows to the file using the writerows() method.\n",
    "\n",
    "We can call the convert_text_to_csv function with example data, passing in an input file path, an output file path, and an optional delimiter parameter if necessary. Note that if the input text file does not have a consistent field delimiter, we may need to perform additional parsing or cleaning of the data before converting it to CSV."
   ]
  },
  {
   "cell_type": "markdown",
   "id": "8ea125c7-cd47-4539-9c2e-2a8c522be54d",
   "metadata": {
    "tags": []
   },
   "source": [
    "## Convert Text to CSV\n",
    "---\n",
    "\n",
    "#### write code to convert Text to CSV\n",
    "\n",
    "Converting text to CSV is a relatively simple task in Python. Here's an example Python code snippet that reads a text file and converts it to a CSV file:"
   ]
  }
 ],
 "metadata": {
  "kernelspec": {
   "display_name": "Python 3 (ipykernel)",
   "language": "python",
   "name": "python3"
  },
  "language_info": {
   "codemirror_mode": {
    "name": "ipython",
    "version": 3
   },
   "file_extension": ".py",
   "mimetype": "text/x-python",
   "name": "python",
   "nbconvert_exporter": "python",
   "pygments_lexer": "ipython3",
   "version": "3.11.2"
  }
 },
 "nbformat": 4,
 "nbformat_minor": 5
}
