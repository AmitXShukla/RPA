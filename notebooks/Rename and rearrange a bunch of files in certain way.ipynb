{
 "cells": [
  {
   "cell_type": "markdown",
   "id": "65c62a77-2e9a-4109-8567-de6abc73ab6f",
   "metadata": {},
   "source": [
    "## rename and rearrange a bunch of files in certain way\n",
    "\n",
    "using os and shutil modules:"
   ]
  },
  {
   "cell_type": "code",
   "execution_count": null,
   "id": "adb55a26-6199-4a1c-95f3-0b3fea2c33e0",
   "metadata": {},
   "outputs": [],
   "source": [
    "import os\n",
    "import shutil\n",
    "\n",
    "# Define the directory containing the files\n",
    "\n",
    "# directory = '/path/to/files'\n",
    "directory = '../SampleData'\n",
    "\n",
    "# Define the file extension we want to work with\n",
    "\n",
    "file_extension = '.csv'\n",
    "\n",
    "# Define the new directory structure we want to create\n",
    "\n",
    "new_directory = '../Sampledata/new/files'\n",
    "\n",
    "# Loop through each file in the directory\n",
    "\n",
    "for filename in os.listdir(directory):\n",
    "    if filename.endswith(file_extension):\n",
    "        # Extract the relevant parts of the filename\n",
    "        parts = filename.split('_')\n",
    "        name = parts[0]\n",
    "        number = parts[1][:-len(file_extension)]\n",
    "\n",
    "        # Construct the new filename and directory structure\n",
    "        new_filename = f'{number}_{name}{file_extension}'\n",
    "        new_subdirectory = os.path.join(new_directory, name)\n",
    "\n",
    "        # Create the new subdirectory if it doesn't exist\n",
    "        os.makedirs(new_subdirectory, exist_ok=True)\n",
    "\n",
    "        # Move the file to the new location with the new filename\n",
    "        shutil.move(os.path.join(directory, filename), os.path.join(new_subdirectory, new_filename))"
   ]
  },
  {
   "cell_type": "raw",
   "id": "7f5e0406-37f9-4680-b3f1-932b2177d067",
   "metadata": {},
   "source": [
    "In this code, we first define the directory containing the files we want to rename and rearrange. We also define the file extension we want to work with (in this case, \".txt\").\n",
    "\n",
    "We then define the new directory structure we want to create for the renamed files.\n",
    "\n",
    "We loop through each file in the directory using the os.listdir function. We only process files with the specified file extension.\n",
    "\n",
    "For each file, we extract the relevant parts of the filename using string manipulation. In this example, we assume that the filename is in the format \"name_number.txt\", where \"name\" and \"number\" are variable parts of the filename. We extract the \"name\" and \"number\" parts of the filename separately.\n",
    "\n",
    "We then construct the new filename and directory structure based on the extracted parts. In this example, we want to rearrange the files so that they are organized by \"name\" in subdirectories, with the filename in the format \"number_name.txt\".\n",
    "\n",
    "We create the new subdirectory if it doesn't already exist using the os.makedirs function with the exist_ok=True argument. We then move the file to the new location with the new filename using the shutil.move function."
   ]
  }
 ],
 "metadata": {
  "kernelspec": {
   "display_name": "Python 3 (ipykernel)",
   "language": "python",
   "name": "python3"
  },
  "language_info": {
   "codemirror_mode": {
    "name": "ipython",
    "version": 3
   },
   "file_extension": ".py",
   "mimetype": "text/x-python",
   "name": "python",
   "nbconvert_exporter": "python",
   "pygments_lexer": "ipython3",
   "version": "3.11.2"
  }
 },
 "nbformat": 4,
 "nbformat_minor": 5
}
