{
 "cells": [
  {
   "cell_type": "markdown",
   "id": "84a2bbc4-8678-471c-ab01-8375cdc9b3eb",
   "metadata": {},
   "source": [
    "## memory use on windows MAC OS or Linux\n",
    "Python code that demonstrates how to display memory usage on Windows, Mac OS, or Linux:"
   ]
  },
  {
   "cell_type": "code",
   "execution_count": null,
   "id": "1906d7b4-48c0-4746-9974-0d652717fd71",
   "metadata": {},
   "outputs": [],
   "source": [
    "import psutil\n",
    "\n",
    "# Get the memory usage information\n",
    "\n",
    "memory = psutil.virtual_memory()\n",
    "\n",
    "# Print the memory usage information\n",
    "\n",
    "print(\"Total Memory: {:.2f} GB\".format(memory.total / (1024 **3)))\n",
    "print(\"Available Memory: {:.2f} GB\".format(memory.available / (1024** 3)))\n",
    "print(\"Used Memory: {:.2f} GB\".format(memory.used / (1024 ** 3)))\n",
    "print(\"Memory Percent: {}%\".format(memory.percent))"
   ]
  },
  {
   "cell_type": "raw",
   "id": "4e202aea-0d15-4852-bac1-6d2d71640f7a",
   "metadata": {},
   "source": [
    "In this code, we use the psutil module to get information about the system's memory usage. We then print out the total memory, available memory, used memory, and memory percent.\n",
    "\n",
    "The psutil.virtual_memory() function returns a namedtuple containing the following fields:\n",
    "\n",
    "    total: the total amount of physical memory in bytes\n",
    "    available: the amount of available physical memory in bytes\n",
    "    used: the amount of physical memory currently in use in bytes\n",
    "    percent: the percentage of physical memory currently in use\n",
    "\n",
    "We then print out this information in GB to make it more human-readable."
   ]
  }
 ],
 "metadata": {
  "kernelspec": {
   "display_name": "Python 3 (ipykernel)",
   "language": "python",
   "name": "python3"
  },
  "language_info": {
   "codemirror_mode": {
    "name": "ipython",
    "version": 3
   },
   "file_extension": ".py",
   "mimetype": "text/x-python",
   "name": "python",
   "nbconvert_exporter": "python",
   "pygments_lexer": "ipython3",
   "version": "3.11.2"
  }
 },
 "nbformat": 4,
 "nbformat_minor": 5
}
