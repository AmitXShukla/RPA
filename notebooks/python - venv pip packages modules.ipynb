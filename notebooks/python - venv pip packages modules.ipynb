{
 "cells": [
  {
   "attachments": {},
   "cell_type": "markdown",
   "id": "d17889e3-8191-4d83-b4c1-49aaffdb0624",
   "metadata": {},
   "source": [
    "# About Virtual Environment, Packages, PIP, Module, documentation in Python\n",
    "\n",
    "---\n",
    "\n",
    "This tutorial is gentle introduction to learn basics of VENV, PIP packages and modules in python.\n",
    "\n",
    "Whole point of software modular programming is combining useful functionalities of a program in modules and packaging it altogether for sharing and re-using all or pieces of functionalities in other or similar application programming.\n",
    "\n",
    "We will learn above concepts while doing some real world analysis.\n",
    "\n",
    "Let's assume, We are working on a mini project for Finance Analytics."
   ]
  },
  {
   "cell_type": "markdown",
   "id": "663ec5ac",
   "metadata": {},
   "source": [
    "A `Python virtual environment` is a self-contained directory tree that includes a Python installation for a particular version of Python, plus a number of additional packages.\n",
    "\n",
    "By setting up a Python working environment, you ensure your code is maintainable, version controlled and testable across different configurations."
   ]
  },
  {
   "cell_type": "code",
   "execution_count": 1,
   "id": "cb7025c7",
   "metadata": {},
   "outputs": [],
   "source": [
    "# To create a virtual environment, follow the steps:\n",
    "\n",
    "# On Windows: \n",
    "# !python -m venv <env_name> <env_name>\\Scripts\\activate\n",
    "\n",
    "# On macOS or Linux: \n",
    "# !python3 -m venv <env_name> source <env_name>/bin/activate\n",
    "\n",
    "# Then, install required packages using pip: \n",
    "# !pip install <package_name>"
   ]
  },
  {
   "cell_type": "markdown",
   "id": "5f88ff79",
   "metadata": {},
   "source": [
    "## Modules, Packages\n",
    "\n",
    "A Python package and a Python module are both components of the Python language used for organizing and structuring code.\n",
    "\n",
    "A Python module is a single file containing Python (or C) definitions and statements, which can be imported and used in other Python programs. To create a module, you simply save a Python script with a .py extension.\n",
    "\n",
    "A Python package, on the other hand, is a way to group and organize related modules together in a hierarchical structure using dot notation. A package is created by including a special file called __init__.py inside a directory. This file can be empty or contain initialization code for the package. The presence of this file turns the directory into a package, allowing you to import and use its modules in other Python scripts.\n",
    "\n",
    "Here's a simple example to illustrate the relationship:\n",
    "\n",
    "Suppose you have a package named `fin_package` and a module named `fin_calc_module`. The structure would look like this:\n",
    "\n",
    "fin_package/\n",
    "- `__init__.py`\n",
    "- fin_calc_module.py\n",
    "- inv_calc_module.py\n",
    "\n",
    "In this example, `fin_package` is the package, and `fin_cal_module`, `inv_cal_module` are moduled inside the package. You can import and use them like this:"
   ]
  },
  {
   "cell_type": "code",
   "execution_count": 11,
   "id": "f5ad7d5b",
   "metadata": {},
   "outputs": [],
   "source": [
    "# import fin_package.fin_calc_module\n",
    "# result = fin_package.fin_calc_module.getInterest(10000)\n",
    "\n",
    "## By using packages and modules together, you can build well-organized, maintainable, and scalable Python applications."
   ]
  },
  {
   "cell_type": "code",
   "execution_count": null,
   "id": "d99b7a6e",
   "metadata": {},
   "outputs": [],
   "source": [
    "# available defs/ in namespace\n",
    "dir()"
   ]
  },
  {
   "cell_type": "markdown",
   "id": "f2427137",
   "metadata": {},
   "source": [
    "## define a module"
   ]
  },
  {
   "cell_type": "code",
   "execution_count": 9,
   "id": "b0b27af7",
   "metadata": {},
   "outputs": [],
   "source": [
    "########################\n",
    "## fin_calc_module.py ##\n",
    "########################\n",
    "\n",
    "# This is a module which defines formula to calculate principal interest based on a given amount\n",
    "# let's first setup OOPs for Liability class\n",
    "import random\n",
    "class Liability:\n",
    "\n",
    "    def __init__(self, P, n, r, t):\n",
    "        self.principalAmount = P\n",
    "        # self.rate = r/100\n",
    "        self.rate = r/100\n",
    "        self.compound = n # in case of simple interest, n = 1\n",
    "        self.time = t/12\n",
    "\n",
    "    def getLoanInterest(self):\n",
    "    # compound rate interest deposit\n",
    "        # returns a tuple of interest and Total\n",
    "        return round(self.principalAmount \n",
    "                     * (1 + self.rate / self.compound)**(self.compound * self.time) \n",
    "                     - self.principalAmount, ndigits=2), round(self.principalAmount, ndigits=2)\n",
    "    \n",
    "def getInterest(amount):\n",
    "    compound=1.0\n",
    "    rate=2.875\n",
    "    t=60\n",
    "    d = Liability(amount, compound, rate, t)\n",
    "    return d.getLoanInterest()"
   ]
  },
  {
   "cell_type": "code",
   "execution_count": 13,
   "id": "8c20ed74",
   "metadata": {},
   "outputs": [
    {
     "data": {
      "text/plain": [
       "(1522.57, 10000)"
      ]
     },
     "execution_count": 13,
     "metadata": {},
     "output_type": "execute_result"
    }
   ],
   "source": [
    "getInterest(10000)"
   ]
  },
  {
   "cell_type": "markdown",
   "id": "f1da611c",
   "metadata": {},
   "source": [
    "## importing packages & modules"
   ]
  },
  {
   "cell_type": "code",
   "execution_count": 14,
   "id": "cdfaf98d",
   "metadata": {},
   "outputs": [],
   "source": [
    "# import fin_package.fin_calc_module\n",
    "# result = fin_package.fin_calc_module.getInterest(10000)"
   ]
  },
  {
   "cell_type": "code",
   "execution_count": null,
   "id": "3ab75692",
   "metadata": {},
   "outputs": [],
   "source": [
    "# import fin_package.fin_calc_module as finc\n",
    "# result = finc.getInterest(10000)"
   ]
  },
  {
   "cell_type": "code",
   "execution_count": null,
   "id": "8ba290ea",
   "metadata": {},
   "outputs": [],
   "source": [
    "# from fin_package.fin_calc_module import getInterest\n",
    "# result = getInterest(10000)"
   ]
  },
  {
   "cell_type": "code",
   "execution_count": null,
   "id": "417e3887",
   "metadata": {},
   "outputs": [],
   "source": [
    "# from fin_package.fin_calc_module import *\n",
    "# result = getInterest(10000)"
   ]
  },
  {
   "cell_type": "markdown",
   "id": "e1b6a396",
   "metadata": {},
   "source": [
    "## running as script"
   ]
  },
  {
   "cell_type": "markdown",
   "id": "a0f49641",
   "metadata": {},
   "source": [
    "if (__name__ == '__main__'):\n",
    "    compound=1.0\n",
    "    rate=2.875\n",
    "    t=60\n",
    "    d = Liability(amount, compound, rate, t)\n",
    "    print(d.getLoanInterest())"
   ]
  },
  {
   "cell_type": "markdown",
   "id": "cc0d9aa6",
   "metadata": {},
   "source": [
    "## using `__all__`\n",
    "\n",
    "By defining the `__all__` variable in the `__init__`.py file, you establish the module names that a wildcard import will bring into your namespace. In this case, you only want to export the FIN and INV modules from your package."
   ]
  },
  {
   "cell_type": "code",
   "execution_count": 15,
   "id": "07e320e8",
   "metadata": {},
   "outputs": [],
   "source": [
    "# __all__ = [\"fin_calc_defs\", \"inv_calc_defs\"]"
   ]
  }
 ],
 "metadata": {
  "kernelspec": {
   "display_name": "Python 3 (ipykernel)",
   "language": "python",
   "name": "python3"
  },
  "language_info": {
   "codemirror_mode": {
    "name": "ipython",
    "version": 3
   },
   "file_extension": ".py",
   "mimetype": "text/x-python",
   "name": "python",
   "nbconvert_exporter": "python",
   "pygments_lexer": "ipython3",
   "version": "3.12.0"
  }
 },
 "nbformat": 4,
 "nbformat_minor": 5
}
