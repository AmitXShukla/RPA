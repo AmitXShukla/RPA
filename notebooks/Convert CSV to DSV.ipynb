{
 "cells": [
  {
   "cell_type": "markdown",
   "id": "0bb1f2a5-dd2b-4684-b7aa-415d3c30ff36",
   "metadata": {},
   "source": [
    "## Convert CSV to DSV\n",
    "---\n",
    "#### write code to convert CSV to DSV\n",
    "\n",
    "To convert a CSV file to a delimited file with a custom delimiter (DSV), we can use Python's built-in csv module. Here's an example Python code snippet that reads a CSV file and converts it to a DSV file:"
   ]
  },
  {
   "cell_type": "raw",
   "id": "4d68289b-1b7f-442c-a2f6-bd2aa0ad5776",
   "metadata": {},
   "source": [
    "################################\n",
    "# create RPA Virtual environment\n",
    "################################\n",
    "# py -m venv RPA\n",
    "# RPA\\Scripts\\activate.bat\n",
    "# import sys\n",
    "# sys.path\n",
    "# py -m pip --version\n",
    "\n",
    "############################################\n",
    "## MAKE SURE these packages are installed ##\n",
    "############################################\n",
    "# py -m pip install csv\n",
    "################################"
   ]
  },
  {
   "cell_type": "code",
   "execution_count": null,
   "id": "78c29707-7129-4b0b-baec-3c06c7ee5c9c",
   "metadata": {},
   "outputs": [],
   "source": [
    "import csv\n",
    "\n",
    "def convert_csv_to_dsv(input_file, output_file, delimiter='|'):\n",
    "    \"\"\"\n",
    "    Convert a CSV file to a delimited file with a custom delimiter (DSV).\n",
    "\n",
    "    Args:\n",
    "        input_file (str): The file path to the input CSV file.\n",
    "        output_file (str): The file path to save the output DSV file to.\n",
    "        delimiter (str): The delimiter to use in the DSV file.\n",
    "    \"\"\"\n",
    "    # Open the input CSV file in read mode\n",
    "    with open(input_file, 'r') as f:\n",
    "        reader = csv.reader(f)\n",
    "        # Read the rows from the input CSV file\n",
    "        rows = [row for row in reader]\n",
    "\n",
    "    # Write the rows to the output DSV file\n",
    "    with open(output_file, 'w', newline='') as f:\n",
    "        writer = csv.writer(f, delimiter=delimiter)\n",
    "        writer.writerows(rows)\n",
    "\n",
    "# Example usage\n",
    "input_file = \"input.csv\"\n",
    "output_file = \"output.dsv\"\n",
    "delimiter = '|'\n",
    "convert_csv_to_dsv(input_file, output_file, delimiter)"
   ]
  },
  {
   "cell_type": "raw",
   "id": "0331ab31-9419-42f6-9e41-49a5285d134d",
   "metadata": {},
   "source": [
    "In this code, we define a function called convert_csv_to_dsv that takes an input file path, an output file path, and an optional parameter for the delimiter to use in the DSV file.\n",
    "\n",
    "The function opens the input CSV file in read mode using the open() function and reads the rows of the file using the csv.reader() function. It then stores the rows as a list of lists.\n",
    "\n",
    "Finally, the function opens the output DSV file in write mode using the csv.writer() function and writes the rows to the file using the custom delimiter specified by the delimiter parameter.\n",
    "\n",
    "We can call the convert_csv_to_dsv function with example data, passing in an input file path, an output file path, and an optional delimiter parameter if necessary. Note that the delimiter should be a single character that is not used in the data itself, to ensure that the DSV file is properly formatted."
   ]
  }
 ],
 "metadata": {
  "kernelspec": {
   "display_name": "Python 3 (ipykernel)",
   "language": "python",
   "name": "python3"
  },
  "language_info": {
   "codemirror_mode": {
    "name": "ipython",
    "version": 3
   },
   "file_extension": ".py",
   "mimetype": "text/x-python",
   "name": "python",
   "nbconvert_exporter": "python",
   "pygments_lexer": "ipython3",
   "version": "3.11.2"
  }
 },
 "nbformat": 4,
 "nbformat_minor": 5
}
