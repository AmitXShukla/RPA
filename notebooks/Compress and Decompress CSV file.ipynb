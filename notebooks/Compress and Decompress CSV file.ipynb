{
 "cells": [
  {
   "cell_type": "code",
   "execution_count": null,
   "id": "d7c24af0-fbbf-4b2d-a5d9-3f771d150d76",
   "metadata": {},
   "outputs": [],
   "source": [
    "- [Compress and Decompress CSV file]\n",
    "Sure! Here's some Python code that demonstrates how to compress and decompress a CSV file using the gzip module:\n",
    "import gzip\n",
    "import csv\n",
    "\n",
    "# Define the path to the CSV file we want to compress\n",
    "\n",
    "input_file = '/path/to/csv/file.csv'\n",
    "\n",
    "# Define the path to the compressed file we want to create\n",
    "\n",
    "compressed_file = '/path/to/compressed/file.csv.gz'\n",
    "\n",
    "# Define the path to the decompressed file we want to create\n",
    "\n",
    "decompressed_file = '/path/to/decompressed/file.csv'\n",
    "\n",
    "# Compress the CSV file\n",
    "\n",
    "with open(input_file, 'rt') as file_in, gzip.open(compressed_file, 'wt') as file_out:\n",
    "    reader = csv.reader(file_in)\n",
    "    writer = csv.writer(file_out)\n",
    "    for row in reader:\n",
    "        writer.writerow(row)\n",
    "\n",
    "# Decompress the CSV file\n",
    "\n",
    "with gzip.open(compressed_file, 'rt') as file_in, open(decompressed_file, 'w') as file_out:\n",
    "    reader = csv.reader(file_in)\n",
    "    writer = csv.writer(file_out)\n",
    "    for row in reader:\n",
    "        writer.writerow(row)\n",
    "\n",
    "In this code, we first define the path to the CSV file we want to compress. We also define the path to the compressed file we want to create and the path to the decompressed file we want to create.\n",
    "\n",
    "We compress the CSV file using the gzip.open function with the 'wt' mode to write text data to the compressed file. We use the csv.reader and csv.writer functions to read and write CSV data. We loop through each row of the CSV file and write it to the compressed file using the writer.writerow method.\n",
    "\n",
    "We decompress the CSV file using the gzip.open function with the 'rt' mode to read text data from the compressed file. We use the csv.reader and csv.writer functions to read and write CSV data. We loop through each row of the compressed file and write it to the decompressed file using the writer.writerow method.\n"
   ]
  }
 ],
 "metadata": {
  "kernelspec": {
   "display_name": "Python 3 (ipykernel)",
   "language": "python",
   "name": "python3"
  },
  "language_info": {
   "codemirror_mode": {
    "name": "ipython",
    "version": 3
   },
   "file_extension": ".py",
   "mimetype": "text/x-python",
   "name": "python",
   "nbconvert_exporter": "python",
   "pygments_lexer": "ipython3",
   "version": "3.11.2"
  }
 },
 "nbformat": 4,
 "nbformat_minor": 5
}
