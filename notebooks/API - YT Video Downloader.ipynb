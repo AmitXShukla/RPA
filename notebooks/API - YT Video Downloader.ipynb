{
 "cells": [
  {
   "cell_type": "markdown",
   "id": "f000b967-63bf-4090-b2b7-8f2c8b6a2a07",
   "metadata": {},
   "source": [
    "## YT Video Downloader\n",
    "---\n",
    "\n",
    "To download YouTube videos in Python, we can use the pytube library, which is a lightweight, Python-based library that can be used for downloading YouTube videos. Here's an example code snippet that demonstrates how to download a YouTube video using pytube:"
   ]
  },
  {
   "cell_type": "raw",
   "id": "e22bd6f1",
   "metadata": {},
   "source": [
    "################################\n",
    "# create RPA Virtual environment\n",
    "################################\n",
    "# py -m venv RPA\n",
    "# RPA\\Scripts\\activate.bat\n",
    "# import sys\n",
    "# sys.path\n",
    "# py -m pip --version\n",
    "\n",
    "############################################\n",
    "## MAKE SURE these packages are installed ##\n",
    "############################################\n",
    "# py -m pip install pytube\n",
    "################################"
   ]
  },
  {
   "cell_type": "code",
   "execution_count": null,
   "id": "6b0c9fc9-1927-4458-a15f-0da219aca14c",
   "metadata": {},
   "outputs": [],
   "source": [
    "from pytube import YouTube\n",
    "\n",
    "def download_video(url, output_path):\n",
    "    \"\"\"\n",
    "    Downloads a YouTube video from the given URL and saves it to the specified output path.\n",
    "\n",
    "    Args:\n",
    "        url (str): The URL of the YouTube video to download.\n",
    "        output_path (str): The path to save the downloaded video to.\n",
    "    \"\"\"\n",
    "    # Create a YouTube object from the video URL\n",
    "    yt = YouTube(url)\n",
    "\n",
    "    # Get the highest resolution stream\n",
    "    stream = yt.streams.get_highest_resolution()\n",
    "\n",
    "    # Download the video to the specified output path\n",
    "    stream.download(output_path)\n",
    "\n",
    "# Example usage\n",
    "url = \"https://www.youtube.com/watch?v=dQw4w9WgXcQ\"\n",
    "output_path = \"../downloads/output.mp4\"\n",
    "download_video(url, output_path)"
   ]
  },
  {
   "cell_type": "raw",
   "id": "1b58effe-c5db-4d0c-9778-98c899f3d39e",
   "metadata": {},
   "source": [
    "In this code, we define a function called download_video that takes a YouTube video URL and an output file path as input. The function creates a YouTube object from the video URL using pytube, and then gets the highest resolution stream for the video. Finally, the function downloads the video to the specified output path using the download() method of the stream object.\n",
    "\n",
    "We can call the download_video function with example data, passing in a YouTube video URL and an output file path. The function will download the video to the specified output path. Note that the pytube library may not work with all YouTube videos due to various restrictions and limitations."
   ]
  }
 ],
 "metadata": {
  "kernelspec": {
   "display_name": "Python 3 (ipykernel)",
   "language": "python",
   "name": "python3"
  },
  "language_info": {
   "codemirror_mode": {
    "name": "ipython",
    "version": 3
   },
   "file_extension": ".py",
   "mimetype": "text/x-python",
   "name": "python",
   "nbconvert_exporter": "python",
   "pygments_lexer": "ipython3",
   "version": "3.11.2"
  }
 },
 "nbformat": 4,
 "nbformat_minor": 5
}
