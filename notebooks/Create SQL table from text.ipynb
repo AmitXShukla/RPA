{
 "cells": [
  {
   "cell_type": "markdown",
   "id": "564152a0-6feb-4572-aa36-08cfbabce16e",
   "metadata": {
    "tags": []
   },
   "source": [
    "## Create SQL table from text\n",
    "---\n",
    "\n",
    "#### write code to convert table row to SQL Insert Scripts"
   ]
  },
  {
   "cell_type": "code",
   "execution_count": 2,
   "id": "f3ed07c9-26ea-48b8-aea7-21e458dd6fa7",
   "metadata": {
    "tags": []
   },
   "outputs": [
    {
     "name": "stdout",
     "output_type": "stream",
     "text": [
      "INSERT INTO employees VALUES ('Alice', '25', 'Engineer');\n"
     ]
    }
   ],
   "source": [
    "def row_to_sql_insert(table_name, row_data):\n",
    "    \"\"\"\n",
    "    Convert a table row to an SQL INSERT script.\n",
    "\n",
    "    Args:\n",
    "        table_name (str): The name of the table to insert the row into.\n",
    "        row_data (list): A list of values representing the data for the row.\n",
    "\n",
    "    Returns:\n",
    "        str: An SQL INSERT script for inserting the row into the specified table.\n",
    "    \"\"\"\n",
    "    values_str = \", \".join(f\"'{value}'\" for value in row_data)\n",
    "    return f\"INSERT INTO {table_name} VALUES ({values_str});\"\n",
    "\n",
    "# Example usage\n",
    "table_name = \"employees\"\n",
    "row_data = [\"Alice\", \"25\", \"Engineer\"]\n",
    "sql_insert = row_to_sql_insert(table_name, row_data)\n",
    "print(sql_insert)"
   ]
  },
  {
   "cell_type": "raw",
   "id": "5a814312-f035-4229-8cae-eaa7168a4aed",
   "metadata": {},
   "source": [
    "In this code, we define a function called row_to_sql_insert that takes a table name and a list of row data as arguments, and returns an SQL INSERT script for inserting the row into the specified table.\n",
    "\n",
    "The function works by first converting the row data to a comma-separated string of values enclosed in single quotes using a list comprehension and the join() method. It then uses an f-string to format the values string and table name into an SQL INSERT script.\n",
    "\n",
    "We can then call the row_to_sql_insert function with example data, and print the resulting SQL INSERT script to the console using the print() function.\n",
    "\n",
    "Note that this code assumes that all the values in the row data are strings, and that they should be enclosed in single quotes in the SQL script. If your row data contains non-string values, or if you want to use a different format for the SQL script, you may need to modify the code accordingly."
   ]
  },
  {
   "cell_type": "code",
   "execution_count": null,
   "id": "000bc607-436a-4f71-aff7-813d4f379ccf",
   "metadata": {},
   "outputs": [],
   "source": []
  }
 ],
 "metadata": {
  "kernelspec": {
   "display_name": "Python 3 (ipykernel)",
   "language": "python",
   "name": "python3"
  },
  "language_info": {
   "codemirror_mode": {
    "name": "ipython",
    "version": 3
   },
   "file_extension": ".py",
   "mimetype": "text/x-python",
   "name": "python",
   "nbconvert_exporter": "python",
   "pygments_lexer": "ipython3",
   "version": "3.11.2"
  }
 },
 "nbformat": 4,
 "nbformat_minor": 5
}
