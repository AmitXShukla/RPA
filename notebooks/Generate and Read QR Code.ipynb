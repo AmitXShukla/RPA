{
 "cells": [
  {
   "cell_type": "markdown",
   "metadata": {},
   "source": [
    "# ask ChatGPT to write code for Generating QR Code\n",
    "---"
   ]
  },
  {
   "cell_type": "code",
   "execution_count": 1,
   "metadata": {
    "tags": []
   },
   "outputs": [],
   "source": [
    "################################\n",
    "# create RPA Virtual environment\n",
    "################################\n",
    "# py -m venv RPA\n",
    "# RPA\\Scripts\\activate.bat\n",
    "# import sys\n",
    "# sys.path\n",
    "# py -m pip --version\n",
    "\n",
    "############################################\n",
    "## MAKE SURE these packages are installed ##\n",
    "############################################\n",
    "# py -m pip install qrcode\n",
    "################################\n",
    "\n",
    "# reading QR code\n",
    "############################################\n",
    "## MAKE SURE these packages are installed ##\n",
    "############################################\n",
    "# py -m pip install pyzbar\n",
    "# py -m pip install Pillow\n",
    "################################"
   ]
  },
  {
   "attachments": {},
   "cell_type": "markdown",
   "metadata": {},
   "source": [
    "## ChatGPT generated code"
   ]
  },
  {
   "cell_type": "code",
   "execution_count": 1,
   "metadata": {
    "tags": []
   },
   "outputs": [],
   "source": [
    "import qrcode\n",
    "\n",
    "url = 'https://github.com/AmitXShukla'\n",
    "# name of output file\n",
    "filename = 'SampleData/Amit_TestQRcode.png'\n",
    "\n",
    "# create QR code instance and add data\n",
    "qr = qrcode.QRCode(version=1,\n",
    "                   box_size=10,\n",
    "                   border=5)\n",
    "qr.add_data(url)\n",
    "qr.make(fit=True)\n",
    "\n",
    "# generate and save QR code image\n",
    "img = qr.make_image(fill_color='black',\n",
    "                    back_color='white')\n",
    "img.save(filename)"
   ]
  },
  {
   "cell_type": "markdown",
   "metadata": {},
   "source": [
    "#### read directory to verify newly generate files"
   ]
  },
  {
   "cell_type": "code",
   "execution_count": 2,
   "metadata": {
    "tags": []
   },
   "outputs": [
    {
     "data": {
      "text/plain": [
       "['Amit_TestQRcode.png', 'sampleData.csv']"
      ]
     },
     "execution_count": 2,
     "metadata": {},
     "output_type": "execute_result"
    }
   ],
   "source": [
    "import os\n",
    "os.listdir(\"SampleData\")"
   ]
  },
  {
   "cell_type": "markdown",
   "metadata": {},
   "source": [
    "# ask ChatGPT to read QR code image reader script\n",
    "---"
   ]
  },
  {
   "cell_type": "code",
   "execution_count": 12,
   "metadata": {},
   "outputs": [
    {
     "name": "stdout",
     "output_type": "stream",
     "text": [
      "Decoded data: https://github.com/AmitXShukla\n"
     ]
    }
   ],
   "source": [
    "from pyzbar.pyzbar import decode\n",
    "from PIL import Image\n",
    "\n",
    "# filename = 'qrcode.png' # name of QR code image file\n",
    "# filename is already defined above\n",
    "\n",
    "# open image file and decode QR code\n",
    "with Image.open(filename) as img:\n",
    "    result = decode(img)\n",
    "\n",
    "# print decoded data\n",
    "if result:\n",
    "    data = result[0][0].decode('utf-8')\n",
    "    print(f'Decoded data: {data}')\n",
    "else:\n",
    "    print('No QR code found in image')"
   ]
  }
 ],
 "metadata": {
  "kernelspec": {
   "display_name": "Python 3 (ipykernel)",
   "language": "python",
   "name": "python3"
  },
  "language_info": {
   "codemirror_mode": {
    "name": "ipython",
    "version": 3
   },
   "file_extension": ".py",
   "mimetype": "text/x-python",
   "name": "python",
   "nbconvert_exporter": "python",
   "pygments_lexer": "ipython3",
   "version": "3.11.2"
  },
  "vscode": {
   "interpreter": {
    "hash": "04b8008dc8de53db04c4b46981e564130c4f658f9828d716cf8a3f9d3479d0f3"
   }
  }
 },
 "nbformat": 4,
 "nbformat_minor": 4
}
