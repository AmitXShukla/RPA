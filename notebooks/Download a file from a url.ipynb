{
 "cells": [
  {
   "cell_type": "markdown",
   "id": "ae17e7d7-d76d-4e5b-829d-22c93c1ea3be",
   "metadata": {},
   "source": [
    "## Download a file from a url\n",
    "---"
   ]
  },
  {
   "cell_type": "code",
   "execution_count": 1,
   "id": "d9423601-bd8f-4779-a01a-e0275a46ba1b",
   "metadata": {
    "tags": []
   },
   "outputs": [
    {
     "ename": "SyntaxError",
     "evalue": "invalid syntax (2094871362.py, line 12)",
     "output_type": "error",
     "traceback": [
      "\u001b[1;36m  Cell \u001b[1;32mIn[1], line 12\u001b[1;36m\u001b[0m\n\u001b[1;33m    In this code, we first define the URL of the file we want to download (url) and the name we want to give to the downloaded file (file_name). We then use the requests.get() function to send a GET request to the URL and obtain the response. The response.content attribute contains the binary content of the file, which we write to disk using the open() function in binary mode (\"wb\") and the write() method.\u001b[0m\n\u001b[1;37m       ^\u001b[0m\n\u001b[1;31mSyntaxError\u001b[0m\u001b[1;31m:\u001b[0m invalid syntax\n"
     ]
    }
   ],
   "source": [
    "import requests\n",
    "\n",
    "url = \"https://example.com/sample.pdf\"\n",
    "file_name = \"sample.pdf\"\n",
    "\n",
    "response = requests.get(url)\n",
    "\n",
    "with open(file_name, \"wb\") as f:\n",
    "    f.write(response.content)"
   ]
  },
  {
   "cell_type": "raw",
   "id": "e4755c7a-c936-4378-8ac8-b6151eb83fd3",
   "metadata": {},
   "source": [
    "In this code, we first define the URL of the file we want to download (url) and the name we want to give to the downloaded file (file_name). We then use the requests.get() function to send a GET request to the URL and obtain the response. The response.content attribute contains the binary content of the file, which we write to disk using the open() function in binary mode (\"wb\") and the write() method.\n",
    "\n",
    "Note that you may need to modify this code depending on the type of file you are downloading and its size. For example, for large files, you may want to download the file in chunks rather than all at once to avoid using too much memory. Additionally, some websites may have restrictions on downloading files, so you should always check the terms of service and robots.txt file of a website before downloading files from it."
   ]
  },
  {
   "cell_type": "code",
   "execution_count": null,
   "id": "66302fa9-f2cf-430a-8166-ba53b30d3ee1",
   "metadata": {},
   "outputs": [],
   "source": []
  }
 ],
 "metadata": {
  "kernelspec": {
   "display_name": "Python 3 (ipykernel)",
   "language": "python",
   "name": "python3"
  },
  "language_info": {
   "codemirror_mode": {
    "name": "ipython",
    "version": 3
   },
   "file_extension": ".py",
   "mimetype": "text/x-python",
   "name": "python",
   "nbconvert_exporter": "python",
   "pygments_lexer": "ipython3",
   "version": "3.11.2"
  }
 },
 "nbformat": 4,
 "nbformat_minor": 5
}
