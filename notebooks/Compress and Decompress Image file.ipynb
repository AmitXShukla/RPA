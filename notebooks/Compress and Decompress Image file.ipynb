{
 "cells": [
  {
   "cell_type": "markdown",
   "id": "12c727c9-aaea-44e0-b993-4d87f9016bc3",
   "metadata": {},
   "source": [
    "## Compress and Decompress Image file\n",
    "\n",
    "Here's some Python code that demonstrates how to compress and decompress an image file using the gzip and Pillow modules:"
   ]
  },
  {
   "cell_type": "code",
   "execution_count": null,
   "id": "774be5fb-3943-4bdd-ba7f-60ab7d214f4d",
   "metadata": {},
   "outputs": [],
   "source": [
    "import gzip\n",
    "from PIL import Image\n",
    "\n",
    "# Define the path to the image file we want to compress\n",
    "\n",
    "input_file = '/path/to/image/file.jpg'\n",
    "\n",
    "# Define the path to the compressed file we want to create\n",
    "\n",
    "compressed_file = '/path/to/compressed/file.jpg.gz'\n",
    "\n",
    "# Define the path to the decompressed file we want to create\n",
    "\n",
    "decompressed_file = '/path/to/decompressed/file.jpg'\n",
    "\n",
    "# Compress the image file\n",
    "\n",
    "with open(input_file, 'rb') as file_in, gzip.open(compressed_file, 'wb') as file_out:\n",
    "    img = Image.open(file_in)\n",
    "    img.save(file_out)\n",
    "\n",
    "# Decompress the image file\n",
    "\n",
    "with gzip.open(compressed_file, 'rb') as file_in, open(decompressed_file, 'wb') as file_out:\n",
    "    img = Image.open(file_in)\n",
    "    img.save(file_out)"
   ]
  },
  {
   "cell_type": "raw",
   "id": "0f5e3efa-9d64-4784-aaa1-a1e20eb56ede",
   "metadata": {},
   "source": [
    "In this code, we first define the path to the image file we want to compress. We also define the path to the compressed file we want to create and the path to the decompressed file we want to create.\n",
    "\n",
    "We compress the image file using the gzip.open function with the 'wb' mode to write binary data to the compressed file. We use the Pillow module to open the image file from the input file and save it to the compressed file using the img.save method.\n",
    "\n",
    "We decompress the image file using the gzip.open function with the 'rb' mode to read binary data from the compressed file. We use the Pillow module to open the image file from the compressed file and save it to the decompressed file using the img.save method."
   ]
  }
 ],
 "metadata": {
  "kernelspec": {
   "display_name": "Python 3 (ipykernel)",
   "language": "python",
   "name": "python3"
  },
  "language_info": {
   "codemirror_mode": {
    "name": "ipython",
    "version": 3
   },
   "file_extension": ".py",
   "mimetype": "text/x-python",
   "name": "python",
   "nbconvert_exporter": "python",
   "pygments_lexer": "ipython3",
   "version": "3.11.2"
  }
 },
 "nbformat": 4,
 "nbformat_minor": 5
}
