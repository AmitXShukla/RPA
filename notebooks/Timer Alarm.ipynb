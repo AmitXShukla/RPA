{
 "cells": [
  {
   "cell_type": "code",
   "execution_count": null,
   "metadata": {},
   "outputs": [],
   "source": [
    "- [Alarm clock]\n",
    "Here's some Python code that implements an alarm clock:\n",
    "import time\n",
    "import playsound\n",
    "\n",
    "# Define the alarm time\n",
    "\n",
    "alarm_time = input(\"Enter the time for the alarm in format HH:MM:SS: \")\n",
    "\n",
    "# Start the alarm clock\n",
    "\n",
    "while True:\n",
    "    current_time = time.strftime(\"%H:%M:%S\")\n",
    "    if current_time == alarm_time:\n",
    "        print(\"Time's up!\")\n",
    "        playsound.playsound(\"alarm_sound.mp3\")  # Replace with your own alarm sound file\n",
    "        break\n",
    "    time.sleep(1)\n",
    "\n",
    "In this code, we first ask the user to enter the time for the alarm in the format HH:MM:SS. We assign this value to the alarm_time variable.\n",
    "\n",
    "Inside the while loop, we use the time.strftime() function to get the current time in the format HH:MM:SS. We then compare this to the alarm_time variable.\n",
    "\n",
    "If the current time matches the alarm time, we print a message to the console and use the playsound.playsound() function from the playsound module to play the alarm sound. You'll need to replace the \"alarm_sound.mp3\" parameter with the file path and name of your own alarm sound file.\n",
    "\n",
    "Finally, we break out of the while loop and the program ends."
   ]
  }
 ],
 "metadata": {
  "language_info": {
   "name": "python"
  },
  "orig_nbformat": 4
 },
 "nbformat": 4,
 "nbformat_minor": 2
}
