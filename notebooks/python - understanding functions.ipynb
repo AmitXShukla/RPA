{
 "cells": [
  {
   "attachments": {},
   "cell_type": "markdown",
   "id": "90913ab0-6033-4ef2-b9e7-44d06d03e63a",
   "metadata": {},
   "source": [
    "## Python - understanding Python function basics\n",
    "\n",
    "---\n",
    "\n",
    "In this notebook, we will learn basic elements of defining a function. All of content below are directly reference through standard Python documentation referring to [sections 4.7 & 4.8](https://docs.python.org/3/tutorial/controlflow.html#defining-functions)."
   ]
  },
  {
   "cell_type": "markdown",
   "id": "843d81fc",
   "metadata": {},
   "source": [
    "4.7. Defining Functions\n",
    "\n",
    "We can create a function that writes the Fibonacci series to an arbitrary boundary:\n",
    ">>>"
   ]
  },
  {
   "cell_type": "code",
   "execution_count": 1,
   "id": "780f797c-a739-47be-873d-36b11ce14605",
   "metadata": {},
   "outputs": [],
   "source": [
    "def fib(n):    # write Fibonacci series up to n\n",
    "    \"\"\"Print a Fibonacci series up to n.\"\"\"\n",
    "    a, b = 0, 1\n",
    "    while a < n:\n",
    "        print(a, end=' ')\n",
    "        a, b = b, a+b\n",
    "    print()"
   ]
  },
  {
   "cell_type": "code",
   "execution_count": 2,
   "id": "2b4eb823-24d6-41c9-a9f9-ab3c59edc31c",
   "metadata": {},
   "outputs": [
    {
     "name": "stdout",
     "output_type": "stream",
     "text": [
      "0 1 1 2 3 5 8 13 21 34 55 89 144 233 377 610 987 1597 \n"
     ]
    }
   ],
   "source": [
    "# Now call the function we just defined:\n",
    "fib(2000)"
   ]
  },
  {
   "cell_type": "markdown",
   "id": "ad1fd431",
   "metadata": {},
   "source": [
    "The keyword def introduces a function definition. It must be followed by the function name and the parenthesized list of formal parameters. The statements that form the body of the function start at the next line, and must be indented.\n",
    "\n",
    "The first statement of the function body can optionally be a string literal; this string literal is the function’s documentation string, or docstring. (More about docstrings can be found in the section Documentation Strings.) There are tools which use docstrings to automatically produce online or printed documentation, or to let the user interactively browse through code; it’s good practice to include docstrings in code that you write, so make a habit of it.\n",
    "\n",
    "The execution of a function introduces a new symbol table used for the local variables of the function. More precisely, all variable assignments in a function store the value in the local symbol table; whereas variable references first look in the local symbol table, then in the local symbol tables of enclosing functions, then in the global symbol table, and finally in the table of built-in names. Thus, global variables and variables of enclosing functions cannot be directly assigned a value within a function (unless, for global variables, named in a global statement, or, for variables of enclosing functions, named in a nonlocal statement), although they may be referenced.\n",
    "\n",
    "The actual parameters (arguments) to a function call are introduced in the local symbol table of the called function when it is called; thus, arguments are passed using call by value (where the value is always an object reference, not the value of the object). 1 When a function calls another function, or calls itself recursively, a new local symbol table is created for that call.\n",
    "\n",
    "A function definition associates the function name with the function object in the current symbol table. The interpreter recognizes the object pointed to by that name as a user-defined function. Other names can also point to that same function object and can also be used to access the function:"
   ]
  },
  {
   "cell_type": "code",
   "execution_count": 3,
   "id": "27b67c93",
   "metadata": {},
   "outputs": [
    {
     "name": "stdout",
     "output_type": "stream",
     "text": [
      "<function fib at 0x0000021604F12200>\n",
      "0 1 1 2 3 5 8 13 21 34 55 89 \n"
     ]
    }
   ],
   "source": [
    "print(fib)\n",
    "f = fib\n",
    "f(100)"
   ]
  },
  {
   "cell_type": "markdown",
   "id": "d39536d7",
   "metadata": {},
   "source": [
    "Coming from other languages, you might object that fib is not a function but a procedure since it doesn’t return a value. In fact, even functions without a return statement do return a value, albeit a rather boring one. This value is called None (it’s a built-in name). Writing the value None is normally suppressed by the interpreter if it would be the only value written. You can see it if you really want to using print():"
   ]
  },
  {
   "cell_type": "code",
   "execution_count": 4,
   "id": "a3d8c845",
   "metadata": {},
   "outputs": [
    {
     "name": "stdout",
     "output_type": "stream",
     "text": [
      "\n",
      "\n",
      "None\n"
     ]
    }
   ],
   "source": [
    "fib(0)\n",
    "print(fib(0))"
   ]
  },
  {
   "cell_type": "markdown",
   "id": "d12bf6c8",
   "metadata": {},
   "source": [
    "It is simple to write a function that returns a list of the numbers of the Fibonacci series, instead of printing it:"
   ]
  },
  {
   "cell_type": "code",
   "execution_count": 5,
   "id": "7dd7b491",
   "metadata": {},
   "outputs": [
    {
     "data": {
      "text/plain": [
       "[0, 1, 1, 2, 3, 5, 8, 13, 21, 34, 55, 89]"
      ]
     },
     "execution_count": 5,
     "metadata": {},
     "output_type": "execute_result"
    }
   ],
   "source": [
    "def fib2(n):  # return Fibonacci series up to n\n",
    "    \"\"\"Return a list containing the Fibonacci series up to n.\"\"\"\n",
    "    result = []\n",
    "    a, b = 0, 1\n",
    "    while a < n:\n",
    "        result.append(a)    # see below\n",
    "        a, b = b, a+b\n",
    "    return result\n",
    "\n",
    "f100 = fib2(100)    # call it\n",
    "f100                # write the result"
   ]
  },
  {
   "cell_type": "markdown",
   "id": "57b9c8b8",
   "metadata": {},
   "source": [
    "This example, as usual, demonstrates some new Python features:\n",
    "\n",
    "The return statement returns with a value from a function. return without an expression argument returns None. Falling off the end of a function also returns None.\n",
    "\n",
    "The statement result.append(a) calls a method of the list object result. A method is a function that ‘belongs’ to an object and is named obj.methodname, where obj is some object (this may be an expression), and methodname is the name of a method that is defined by the object’s type. Different types define different methods. Methods of different types may have the same name without causing ambiguity. (It is possible to define your own object types and methods, using classes, see Classes) The method append() shown in the example is defined for list objects; it adds a new element at the end of the list. In this example it is equivalent to result = result + [a], but more efficient."
   ]
  },
  {
   "cell_type": "markdown",
   "id": "baf97f3e",
   "metadata": {},
   "source": [
    "## 4.8. More on Defining Functions\n",
    "\n",
    "It is also possible to define functions with a variable number of arguments. There are three forms, which can be combined.\n",
    "4.8.1. Default Argument Values\n",
    "\n",
    "The most useful form is to specify a default value for one or more arguments. This creates a function that can be called with fewer arguments than it is defined to allow. For example:"
   ]
  },
  {
   "cell_type": "code",
   "execution_count": 6,
   "id": "58e75572",
   "metadata": {},
   "outputs": [],
   "source": [
    "def ask_ok(prompt, retries=4, reminder='Please try again!'):\n",
    "    while True:\n",
    "        ok = input(prompt)\n",
    "        if ok in ('y', 'ye', 'yes'):\n",
    "            return True\n",
    "        if ok in ('n', 'no', 'nop', 'nope'):\n",
    "            return False\n",
    "        retries = retries - 1\n",
    "        if retries < 0:\n",
    "            raise ValueError('invalid user response')\n",
    "        print(reminder)"
   ]
  },
  {
   "cell_type": "markdown",
   "id": "20be5dae",
   "metadata": {},
   "source": [
    "This function can be called in several ways:\n",
    "\n",
    "- giving only the mandatory argument: ask_ok('Do you really want to quit?')\n",
    "- giving one of the optional arguments: ask_ok('OK to overwrite the file?', 2)\n",
    "- or even giving all arguments: ask_ok('OK to overwrite the file?', 2, 'Come on, only yes or no!')\n",
    "\n",
    "This example also introduces the in keyword. This tests whether or not a sequence contains a certain value.\n",
    "\n",
    "The default values are evaluated at the point of function definition in the defining scope, so that"
   ]
  },
  {
   "cell_type": "code",
   "execution_count": 7,
   "id": "a2051cea",
   "metadata": {},
   "outputs": [
    {
     "name": "stdout",
     "output_type": "stream",
     "text": [
      "5\n"
     ]
    }
   ],
   "source": [
    "i = 5\n",
    "\n",
    "def f(arg=i):\n",
    "    print(arg)\n",
    "\n",
    "i = 6\n",
    "f()"
   ]
  },
  {
   "cell_type": "markdown",
   "id": "c1165f1d",
   "metadata": {},
   "source": [
    "will print 5.\n",
    "\n",
    "Important warning: The default value is evaluated only once. This makes a difference when the default is a mutable object such as a list, dictionary, or instances of most classes. For example, the following function accumulates the arguments passed to it on subsequent calls:"
   ]
  },
  {
   "cell_type": "code",
   "execution_count": 8,
   "id": "1ff59a1c",
   "metadata": {},
   "outputs": [
    {
     "name": "stdout",
     "output_type": "stream",
     "text": [
      "[1]\n",
      "[1, 2]\n",
      "[1, 2, 3]\n"
     ]
    }
   ],
   "source": [
    "def f(a, L=[]):\n",
    "    L.append(a)\n",
    "    return L\n",
    "\n",
    "print(f(1))\n",
    "print(f(2))\n",
    "print(f(3))\n",
    "\n",
    "# This will print\n",
    "# [1]\n",
    "# [1, 2]\n",
    "# [1, 2, 3]"
   ]
  },
  {
   "cell_type": "markdown",
   "id": "2c6debf0",
   "metadata": {},
   "source": [
    "If you don’t want the default to be shared between subsequent calls, you can write the function like this instead:"
   ]
  },
  {
   "cell_type": "code",
   "execution_count": 9,
   "id": "e3bb7374",
   "metadata": {},
   "outputs": [],
   "source": [
    "def f(a, L=None):\n",
    "    if L is None:\n",
    "        L = []\n",
    "    L.append(a)\n",
    "    return L"
   ]
  },
  {
   "cell_type": "markdown",
   "id": "22829224",
   "metadata": {},
   "source": [
    "## 4.8.2. Keyword Arguments\n",
    "\n",
    "Functions can also be called using keyword arguments of the form kwarg=value. For instance, the following function:"
   ]
  },
  {
   "cell_type": "code",
   "execution_count": 10,
   "id": "69aaba5d",
   "metadata": {},
   "outputs": [],
   "source": [
    "def parrot(voltage, state='a stiff', action='voom', type='Norwegian Blue'):\n",
    "    print(\"-- This parrot wouldn't\", action, end=' ')\n",
    "    print(\"if you put\", voltage, \"volts through it.\")\n",
    "    print(\"-- Lovely plumage, the\", type)\n",
    "    print(\"-- It's\", state, \"!\")"
   ]
  },
  {
   "cell_type": "markdown",
   "id": "21d0c51f",
   "metadata": {},
   "source": [
    "accepts one required argument (voltage) and three optional arguments (state, action, and type). This function can be called in any of the following ways:"
   ]
  },
  {
   "cell_type": "code",
   "execution_count": 11,
   "id": "9ad519f8",
   "metadata": {},
   "outputs": [
    {
     "name": "stdout",
     "output_type": "stream",
     "text": [
      "-- This parrot wouldn't voom if you put 1000 volts through it.\n",
      "-- Lovely plumage, the Norwegian Blue\n",
      "-- It's a stiff !\n",
      "-- This parrot wouldn't voom if you put 1000 volts through it.\n",
      "-- Lovely plumage, the Norwegian Blue\n",
      "-- It's a stiff !\n",
      "-- This parrot wouldn't VOOOOOM if you put 1000000 volts through it.\n",
      "-- Lovely plumage, the Norwegian Blue\n",
      "-- It's a stiff !\n",
      "-- This parrot wouldn't VOOOOOM if you put 1000000 volts through it.\n",
      "-- Lovely plumage, the Norwegian Blue\n",
      "-- It's a stiff !\n",
      "-- This parrot wouldn't jump if you put a million volts through it.\n",
      "-- Lovely plumage, the Norwegian Blue\n",
      "-- It's bereft of life !\n",
      "-- This parrot wouldn't voom if you put a thousand volts through it.\n",
      "-- Lovely plumage, the Norwegian Blue\n",
      "-- It's pushing up the daisies !\n"
     ]
    }
   ],
   "source": [
    "parrot(1000)                                          # 1 positional argument\n",
    "parrot(voltage=1000)                                  # 1 keyword argument\n",
    "parrot(voltage=1000000, action='VOOOOOM')             # 2 keyword arguments\n",
    "parrot(action='VOOOOOM', voltage=1000000)             # 2 keyword arguments\n",
    "parrot('a million', 'bereft of life', 'jump')         # 3 positional arguments\n",
    "parrot('a thousand', state='pushing up the daisies')  # 1 positional, 1 keyword\n",
    "\n",
    "# but all the following calls would be invalid:\n",
    "\n",
    "# parrot()                     # required argument missing\n",
    "# parrot(voltage=5.0, 'dead')  # non-keyword argument after a keyword argument\n",
    "# parrot(110, voltage=220)     # duplicate value for the same argument\n",
    "# parrot(actor='John Cleese')  # unknown keyword argument"
   ]
  },
  {
   "cell_type": "markdown",
   "id": "0d0a6e2c",
   "metadata": {},
   "source": [
    "In a function call, keyword arguments must follow positional arguments. All the keyword arguments passed must match one of the arguments accepted by the function (e.g. actor is not a valid argument for the parrot function), and their order is not important. This also includes non-optional arguments (e.g. parrot(voltage=1000) is valid too). No argument may receive a value more than once. Here’s an example that fails due to this restriction:"
   ]
  },
  {
   "cell_type": "code",
   "execution_count": 12,
   "id": "8731e9df",
   "metadata": {},
   "outputs": [
    {
     "ename": "TypeError",
     "evalue": "function() got multiple values for argument 'a'",
     "output_type": "error",
     "traceback": [
      "\u001b[1;31m---------------------------------------------------------------------------\u001b[0m",
      "\u001b[1;31mTypeError\u001b[0m                                 Traceback (most recent call last)",
      "Cell \u001b[1;32mIn[12], line 6\u001b[0m\n\u001b[0;32m      1\u001b[0m \u001b[38;5;28;01mdef\u001b[39;00m \u001b[38;5;21mfunction\u001b[39m(a):\n\u001b[0;32m      3\u001b[0m     \u001b[38;5;28;01mpass\u001b[39;00m\n\u001b[1;32m----> 6\u001b[0m \u001b[43mfunction\u001b[49m\u001b[43m(\u001b[49m\u001b[38;5;241;43m0\u001b[39;49m\u001b[43m,\u001b[49m\u001b[43m \u001b[49m\u001b[43ma\u001b[49m\u001b[38;5;241;43m=\u001b[39;49m\u001b[38;5;241;43m0\u001b[39;49m\u001b[43m)\u001b[49m\n",
      "\u001b[1;31mTypeError\u001b[0m: function() got multiple values for argument 'a'"
     ]
    }
   ],
   "source": [
    "def function(a):\n",
    "\n",
    "    pass\n",
    "\n",
    "\n",
    "function(0, a=0)"
   ]
  },
  {
   "cell_type": "markdown",
   "id": "a575818f",
   "metadata": {},
   "source": [
    "When a final formal parameter of the form **name is present, it receives a dictionary (see Mapping Types — dict) containing all keyword arguments except for those corresponding to a formal parameter. This may be combined with a formal parameter of the form *name (described in the next subsection) which receives a tuple containing the positional arguments beyond the formal parameter list. (*name must occur before **name.) For example, if we define a function like this:"
   ]
  },
  {
   "cell_type": "code",
   "execution_count": 13,
   "id": "a57e45e7",
   "metadata": {},
   "outputs": [
    {
     "name": "stdout",
     "output_type": "stream",
     "text": [
      "-- Do you have any Limburger ?\n",
      "-- I'm sorry, we're all out of Limburger\n",
      "It's very runny, sir.\n",
      "It's really very, VERY runny, sir.\n",
      "----------------------------------------\n",
      "shopkeeper : Michael Palin\n",
      "client : John Cleese\n",
      "sketch : Cheese Shop Sketch\n"
     ]
    }
   ],
   "source": [
    "def cheeseshop(kind, *arguments, **keywords):\n",
    "    print(\"-- Do you have any\", kind, \"?\")\n",
    "    print(\"-- I'm sorry, we're all out of\", kind)\n",
    "    for arg in arguments:\n",
    "        print(arg)\n",
    "    print(\"-\" * 40)\n",
    "    for kw in keywords:\n",
    "        print(kw, \":\", keywords[kw])\n",
    "\n",
    "# It could be called like this:\n",
    "\n",
    "cheeseshop(\"Limburger\", \"It's very runny, sir.\",\n",
    "           \"It's really very, VERY runny, sir.\",\n",
    "           shopkeeper=\"Michael Palin\",\n",
    "           client=\"John Cleese\",\n",
    "           sketch=\"Cheese Shop Sketch\")\n",
    "\n",
    "# and of course it would print:"
   ]
  },
  {
   "cell_type": "markdown",
   "id": "5af7a6ec",
   "metadata": {},
   "source": [
    "Note that the order in which the keyword arguments are printed is guaranteed to match the order in which they were provided in the function call.\n",
    "\n",
    "## 4.8.3. Special parameters\n",
    "\n",
    "By default, arguments may be passed to a Python function either by position or explicitly by keyword. For readability and performance, it makes sense to restrict the way arguments can be passed so that a developer need only look at the function definition to determine if items are passed by position, by position or keyword, or by keyword.\n",
    "\n",
    "A function definition may look like:\n",
    "\n",
    "```math\n",
    "def f(pos1, pos2, /, pos_or_kwd, *, kwd1, kwd2):\n",
    "      -----------    ----------     ----------\n",
    "        |             |                  |\n",
    "        |        Positional or keyword   |\n",
    "        |                                - Keyword only\n",
    "         -- Positional only\n",
    "```\n",
    "\n",
    "where / and * are optional. If used, these symbols indicate the kind of parameter by how the arguments may be passed to the function: positional-only, positional-or-keyword, and keyword-only. Keyword parameters are also referred to as named parameters.\n",
    "4.8.3.1. Positional-or-Keyword Arguments\n",
    "\n",
    "If / and * are not present in the function definition, arguments may be passed to a function by position or by keyword.\n",
    "4.8.3.2. Positional-Only Parameters\n",
    "\n",
    "Looking at this in a bit more detail, it is possible to mark certain parameters as positional-only. If positional-only, the parameters’ order matters, and the parameters cannot be passed by keyword. Positional-only parameters are placed before a / (forward-slash). The / is used to logically separate the positional-only parameters from the rest of the parameters. If there is no / in the function definition, there are no positional-only parameters.\n",
    "\n",
    "Parameters following the / may be positional-or-keyword or keyword-only.\n",
    "\n",
    "## 4.8.3.3. Keyword-Only Arguments\n",
    "\n",
    "To mark parameters as keyword-only, indicating the parameters must be passed by keyword argument, place an * in the arguments list just before the first keyword-only parameter.\n",
    "\n",
    "## 4.8.3.4. Function Examples\n",
    "\n",
    "Consider the following example function definitions paying close attention to the markers / and *:"
   ]
  },
  {
   "cell_type": "code",
   "execution_count": 16,
   "id": "159233b0",
   "metadata": {},
   "outputs": [
    {
     "name": "stdout",
     "output_type": "stream",
     "text": [
      "2\n",
      "None\n",
      "2\n",
      "None\n",
      "1\n",
      "None\n",
      "3\n",
      "None\n",
      "1 2 3\n",
      "None\n",
      "1 2 3\n",
      "None\n"
     ]
    }
   ],
   "source": [
    "def standard_arg(arg):\n",
    "    print(arg)\n",
    "\n",
    "def pos_only_arg(arg, /):\n",
    "    print(arg)\n",
    "\n",
    "def kwd_only_arg(*, arg):\n",
    "    print(arg)\n",
    "\n",
    "def combined_example(pos_only, /, standard, *, kwd_only):\n",
    "    print(pos_only, standard, kwd_only)\n",
    "\n",
    "# The first function definition, standard_arg, the most familiar form, places \n",
    "# no restrictions on the calling convention and arguments may be passed by position or keyword:\n",
    "\n",
    "print(standard_arg(2))\n",
    "print(standard_arg(arg=2))\n",
    "\n",
    "# The second function pos_only_arg is restricted to only use positional parameters as there is a / in the function definition:\n",
    "\n",
    "print(pos_only_arg(1))\n",
    "\n",
    "# print(pos_only_arg(arg=1)) # error\n",
    "\n",
    "\n",
    "# The third function kwd_only_args only allows keyword arguments as indicated by a * in the function definition:\n",
    "\n",
    "# print(kwd_only_arg(3)) # error\n",
    "print(kwd_only_arg(arg=3))\n",
    "\n",
    "# And the last uses all three calling conventions in the same function definition:\n",
    "\n",
    "# print(combined_example(1, 2, 3)) # error\n",
    "\n",
    "print(combined_example(1, 2, kwd_only=3))\n",
    "\n",
    "print(combined_example(1, standard=2, kwd_only=3))\n",
    "\n",
    "# print(combined_example(pos_only=1, standard=2, kwd_only=3)) # error"
   ]
  },
  {
   "cell_type": "markdown",
   "id": "ae82c842",
   "metadata": {},
   "source": [
    "Finally, consider this function definition which has a potential collision between the positional argument name and **kwds which has name as a key:\n",
    "\n",
    "```math\n",
    "def foo(name, **kwds):\n",
    "    return 'name' in kwds\n",
    "\n",
    "```\n",
    "\n",
    "There is no possible call that will make it return True as the keyword 'name' will always bind to the first parameter. For example:\n",
    "\n",
    "```math\n",
    "foo(1, **{'name': 2})\n",
    "```\n",
    "\n",
    "But using / (positional only arguments), it is possible since it allows name as a positional argument and 'name' as a key in the keyword arguments:\n",
    "\n",
    "\n",
    "```math\n",
    "def foo(name, /, **kwds):\n",
    "\n",
    "    return 'name' in kwds\n",
    "```math\n",
    "\n",
    "```math\n",
    "foo(1, **{'name': 2})\n",
    "True\n",
    "```\n",
    "\n",
    "In other words, the names of positional-only parameters can be used in **kwds without ambiguity.\n",
    "\n",
    "## 4.8.3.5. Recap\n",
    "\n",
    "The use case will determine which parameters to use in the function definition:\n",
    "\n",
    "def f(pos1, pos2, /, pos_or_kwd, *, kwd1, kwd2):\n",
    "\n",
    "As guidance:\n",
    "\n",
    "    Use positional-only if you want the name of the parameters to not be available to the user. This is useful when parameter names have no real meaning, if you want to enforce the order of the arguments when the function is called or if you need to take some positional parameters and arbitrary keywords.\n",
    "\n",
    "    Use keyword-only when names have meaning and the function definition is more understandable by being explicit with names or you want to prevent users relying on the position of the argument being passed.\n",
    "\n",
    "    For an API, use positional-only to prevent breaking API changes if the parameter’s name is modified in the future.\n",
    "\n",
    "## 4.8.4. Arbitrary Argument Lists\n",
    "\n",
    "Finally, the least frequently used option is to specify that a function can be called with an arbitrary number of arguments. These arguments will be wrapped up in a tuple (see Tuples and Sequences). Before the variable number of arguments, zero or more normal arguments may occur.\n",
    "\n",
    "```math\n",
    "def write_multiple_items(file, separator, *args):\n",
    "    file.write(separator.join(args))\n",
    "```\n",
    "\n",
    "\n",
    "Normally, these variadic arguments will be last in the list of formal parameters, because they scoop up all remaining input arguments that are passed to the function. Any formal parameters which occur after the *args parameter are ‘keyword-only’ arguments, meaning that they can only be used as keywords rather than positional arguments.\n",
    "\n",
    "```math\n",
    "def concat(*args, sep=\"/\"):\n",
    "\n",
    "    return sep.join(args)\n",
    "\n",
    "\n",
    "concat(\"earth\", \"mars\", \"venus\")\n",
    "'earth/mars/venus'\n",
    "\n",
    "concat(\"earth\", \"mars\", \"venus\", sep=\".\")\n",
    "'earth.mars.venus'\n",
    "```math\n",
    "\n",
    "## 4.8.5. Unpacking Argument Lists\n",
    "\n",
    "The reverse situation occurs when the arguments are already in a list or tuple but need to be unpacked for a function call requiring separate positional arguments. For instance, the built-in range() function expects separate start and stop arguments. If they are not available separately, write the function call with the *-operator to unpack the arguments out of a list or tuple:\n",
    "\n",
    "```math\n",
    "list(range(3, 6))            # normal call with separate arguments\n",
    "[3, 4, 5]\n",
    "\n",
    "args = [3, 6]\n",
    "\n",
    "list(range(*args))            # call with arguments unpacked from a list\n",
    "[3, 4, 5]\n",
    "```\n",
    "\n",
    "In the same fashion, dictionaries can deliver keyword arguments with the **-operator:\n",
    "\n",
    "```math\n",
    "def parrot(voltage, state='a stiff', action='voom'):\n",
    "\n",
    "    print(\"-- This parrot wouldn't\", action, end=' ')\n",
    "\n",
    "    print(\"if you put\", voltage, \"volts through it.\", end=' ')\n",
    "\n",
    "    print(\"E's\", state, \"!\")\n",
    "\n",
    "\n",
    "d = {\"voltage\": \"four million\", \"state\": \"bleedin' demised\", \"action\": \"VOOM\"}\n",
    "\n",
    "parrot(**d)\n",
    "```\n",
    "\n",
    "-- This parrot wouldn't VOOM if you put four million volts through it. E's bleedin' demised !\n",
    "\n",
    "## 4.8.6. Lambda Expressions\n",
    "\n",
    "Small anonymous functions can be created with the lambda keyword. This function returns the sum of its two arguments: lambda a, b: a+b. Lambda functions can be used wherever function objects are required. They are syntactically restricted to a single expression. Semantically, they are just syntactic sugar for a normal function definition. Like nested function definitions, lambda functions can reference variables from the containing scope:\n",
    "\n",
    "```math\n",
    "def make_incrementor(n):\n",
    "\n",
    "    return lambda x: x + n\n",
    "\n",
    "\n",
    "f = make_incrementor(42)\n",
    "\n",
    "f(0)\n",
    "42\n",
    "\n",
    "f(1)\n",
    "43\n",
    "```\n",
    "\n",
    "The above example uses a lambda expression to return a function. Another use is to pass a small function as an argument:\n",
    "\n",
    "```math\n",
    "pairs = [(1, 'one'), (2, 'two'), (3, 'three'), (4, 'four')]\n",
    "\n",
    "pairs.sort(key=lambda pair: pair[1])\n",
    "\n",
    "pairs\n",
    "[(4, 'four'), (1, 'one'), (3, 'three'), (2, 'two')]\n",
    "```\n",
    "\n",
    "## 4.8.7. Documentation Strings\n",
    "\n",
    "Here are some conventions about the content and formatting of documentation strings.\n",
    "\n",
    "The first line should always be a short, concise summary of the object’s purpose. For brevity, it should not explicitly state the object’s name or type, since these are available by other means (except if the name happens to be a verb describing a function’s operation). This line should begin with a capital letter and end with a period.\n",
    "\n",
    "If there are more lines in the documentation string, the second line should be blank, visually separating the summary from the rest of the description. The following lines should be one or more paragraphs describing the object’s calling conventions, its side effects, etc.\n",
    "\n",
    "The Python parser does not strip indentation from multi-line string literals in Python, so tools that process documentation have to strip indentation if desired. This is done using the following convention. The first non-blank line after the first line of the string determines the amount of indentation for the entire documentation string. (We can’t use the first line since it is generally adjacent to the string’s opening quotes so its indentation is not apparent in the string literal.) Whitespace “equivalent” to this indentation is then stripped from the start of all lines of the string. Lines that are indented less should not occur, but if they occur all their leading whitespace should be stripped. Equivalence of whitespace should be tested after expansion of tabs (to 8 spaces, normally).\n",
    "\n",
    "Here is an example of a multi-line docstring:\n",
    "\n",
    "```math\n",
    "def my_function():\n",
    "\n",
    "    \"\"\"Do nothing, but document it.\n",
    "\n",
    "\n",
    "    No, really, it doesn't do anything.\n",
    "\n",
    "    \"\"\"\n",
    "\n",
    "    pass\n",
    "\n",
    "\n",
    "print(my_function.__doc__)\n",
    "Do nothing, but document it.\n",
    "```\n",
    "\n",
    "    No, really, it doesn't do anything.\n",
    "\n",
    "## 4.8.8. Function Annotations\n",
    "\n",
    "Function annotations are completely optional metadata information about the types used by user-defined functions (see PEP 3107 and PEP 484 for more information).\n",
    "\n",
    "Annotations are stored in the `__annotations__` attribute of the function as a dictionary and have no effect on any other part of the function. Parameter annotations are defined by a colon after the parameter name, followed by an expression evaluating to the value of the annotation. Return annotations are defined by a literal ->, followed by an expression, between the parameter list and the colon denoting the end of the def statement. The following example has a required argument, an optional argument, and the return value annotated:\n",
    "\n",
    "```math\n",
    "def f(ham: str, eggs: str = 'eggs') -> str:\n",
    "\n",
    "    print(\"Annotations:\", f.__annotations__)\n",
    "\n",
    "    print(\"Arguments:\", ham, eggs)\n",
    "\n",
    "    return ham + ' and ' + eggs\n",
    "\n",
    "\n",
    "f('spam')\n",
    "Annotations: {'ham': <class 'str'>, 'return': <class 'str'>, 'eggs': <class 'str'>}\n",
    "Arguments: spam eggs\n",
    "'spam and eggs'\n",
    "```"
   ]
  }
 ],
 "metadata": {
  "kernelspec": {
   "display_name": "Python 3 (ipykernel)",
   "language": "python",
   "name": "python3"
  },
  "language_info": {
   "codemirror_mode": {
    "name": "ipython",
    "version": 3
   },
   "file_extension": ".py",
   "mimetype": "text/x-python",
   "name": "python",
   "nbconvert_exporter": "python",
   "pygments_lexer": "ipython3",
   "version": "3.12.0"
  }
 },
 "nbformat": 4,
 "nbformat_minor": 5
}
