{
 "cells": [
  {
   "cell_type": "markdown",
   "id": "6e9aaf75-2ba8-4f69-a0c4-ec9b4577d67f",
   "metadata": {},
   "source": [
    "## Creating a CRON job in windows\n",
    "---"
   ]
  },
  {
   "cell_type": "markdown",
   "id": "7c34d166-faa3-4db1-9922-ce858958305d",
   "metadata": {},
   "source": [
    "#### In Windows, you can create a scheduled task to run a script or command at specific intervals. Here's how you can create a CRON job equivalent in Windows:\n",
    "\n",
    "- Open the Task Scheduler app by searching for it in the Start menu.\n",
    "\n",
    "- Click \"Create Task\" in the right-hand pane to create a new scheduled task.\n",
    "\n",
    "- In the \"General\" tab, give your task a name and description.\n",
    "\n",
    "- In the \"Triggers\" tab, click \"New\" to create a new trigger for the task. Here you can specify the schedule for the task, including the start time, frequency, and other options.\n",
    "\n",
    "- In the \"Actions\" tab, click \"New\" to create a new action for the task. Here you can specify the script or command you want to run, as well as any arguments or options.\n",
    "\n",
    "- In the \"Conditions\" and \"Settings\" tabs, you can customize additional options for the task if needed.\n",
    "\n",
    "Click \"OK\" to save the task."
   ]
  },
  {
   "cell_type": "raw",
   "id": "62b5b9ea-290a-463a-a380-87c9251d8f13",
   "metadata": {},
   "source": [
    "That's it! Your scheduled task should now run at the specified intervals. You can also view and manage your scheduled tasks in the Task Scheduler app."
   ]
  }
 ],
 "metadata": {
  "kernelspec": {
   "display_name": "Python 3 (ipykernel)",
   "language": "python",
   "name": "python3"
  },
  "language_info": {
   "codemirror_mode": {
    "name": "ipython",
    "version": 3
   },
   "file_extension": ".py",
   "mimetype": "text/x-python",
   "name": "python",
   "nbconvert_exporter": "python",
   "pygments_lexer": "ipython3",
   "version": "3.11.2"
  }
 },
 "nbformat": 4,
 "nbformat_minor": 5
}
