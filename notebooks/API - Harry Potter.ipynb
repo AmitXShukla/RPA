{
 "cells": [
  {
   "attachments": {},
   "cell_type": "markdown",
   "id": "f000b967-63bf-4090-b2b7-8f2c8b6a2a07",
   "metadata": {},
   "source": [
    "## Harry Potter API\n",
    "---\n",
    "\n",
    "This free API has a complete database of the Harry Potter world. You can check the code below and get your API key too.\n",
    "# Fetch the world of Harry Potter"
   ]
  },
  {
   "attachments": {},
   "cell_type": "markdown",
   "id": "93336aa8",
   "metadata": {},
   "source": [
    "import requests\n",
    "# Get All Characters of Harry Potter\n",
    "api = \" http://hp-api.herokuapp.com/api/characters\"# Fetch All Students of Hogwarts\n",
    "api = \" http://hp-api.herokuapp.com/api/characters/students\"# Fetch ALl Stuff and Teachers of Harry Potter\n",
    "api = \" http://hp-api.herokuapp.com/api/characters/staff\"# Fetch ALL Gryffindor Characters\n",
    "api = \" http://hp-api.herokuapp.com/api/characters/house/gryffindor\"# Fetch ALL Slytherin Characters\n",
    "api = \" http://hp-api.herokuapp.com/api/characters/house/slytherin\"# Fetch ALL Hufflepuff Characters\n",
    "api = \" http://hp-api.herokuapp.com/api/characters/house/hufflepuff\"# Fetch ALL Ravenclaw Characters\n",
    "api = \" http://hp-api.herokuapp.com/api/characters/house/ravenclaw\"response = requests.get(api_url)\n",
    "print(response.json())"
   ]
  }
 ],
 "metadata": {
  "kernelspec": {
   "display_name": "Python 3 (ipykernel)",
   "language": "python",
   "name": "python3"
  },
  "language_info": {
   "codemirror_mode": {
    "name": "ipython",
    "version": 3
   },
   "file_extension": ".py",
   "mimetype": "text/x-python",
   "name": "python",
   "nbconvert_exporter": "python",
   "pygments_lexer": "ipython3",
   "version": "3.11.2"
  }
 },
 "nbformat": 4,
 "nbformat_minor": 5
}
