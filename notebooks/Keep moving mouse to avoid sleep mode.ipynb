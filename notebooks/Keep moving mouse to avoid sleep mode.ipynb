{
 "cells": [
  {
   "attachments": {},
   "cell_type": "markdown",
   "id": "3d8cfd96-e525-4fce-b179-79b1f0c07661",
   "metadata": {
    "tags": []
   },
   "source": [
    "## Keep moving mouse to avoid sleep mode\n",
    "Python code that uses the pyautogui module to move the mouse cursor at regular intervals to prevent the system from entering sleep mode:\n",
    "\n",
    "---\n",
    "`Disclaimer: Please do not use this code for any un-ethical purposes.` \n",
    "\n",
    "Please refrain from utilizing this code for any unethical purposes. \n",
    "\n",
    "If this script is employed to maintain an active status on employer devices, \n",
    "\n",
    "it is possible that your employer also has scripts in place to monitor and detect such bots. \n",
    "\n",
    "Engaging in any unethical usage of this code may result in unnecessary difficulties.\n",
    "\n",
    "Instead, it is recommended to utilize this code for ethical purposes and for generating meaningful content. \n",
    "\n",
    "One example of such usage is when offshore developers utilize virtual desktop machines, \n",
    "\n",
    "as these VDI operating systems tend to sleep after a period of inactivity. \n",
    "\n",
    "Another example is when there is a need to download or browse for near real-time content, in which case this script can be a useful tool.\n",
    "\n",
    "In the following sections below, you can expect to find \n",
    "- generic functions that can be looped over to perform various activities until either interrupted or after a certain time interval has elapsed."
   ]
  },
  {
   "cell_type": "code",
   "execution_count": null,
   "id": "87402cc9",
   "metadata": {},
   "outputs": [],
   "source": [
    "################################\n",
    "# create RPA Virtual environment\n",
    "################################\n",
    "# py -m venv RPA\n",
    "# RPA\\Scripts\\activate.bat\n",
    "# import sys\n",
    "# sys.path\n",
    "# py -m pip --version\n",
    "\n",
    "############################################\n",
    "## MAKE SURE these packages are installed ##\n",
    "############################################\n",
    "# py -m pip install pyautogui\n",
    "# py -m pip install Pillow\n",
    "# py -m pip install selenium\n",
    "################################"
   ]
  },
  {
   "cell_type": "markdown",
   "id": "364ecb38",
   "metadata": {},
   "source": [
    "## ChatGPT Generated code"
   ]
  },
  {
   "cell_type": "code",
   "execution_count": null,
   "id": "c32f6339-6913-4d38-bdf8-72feb014fff7",
   "metadata": {},
   "outputs": [],
   "source": [
    "import pyautogui\n",
    "import time\n",
    "\n",
    "# Set the interval for moving the mouse cursor\n",
    "\n",
    "interval = 20  # in seconds\n",
    "\n",
    "# Keep moving the mouse cursor at the set interval\n",
    "\n",
    "while True:\n",
    "    pyautogui.moveRel(1, 0, duration=0.25)\n",
    "    pyautogui.moveRel(-1, 0, duration=0.25)\n",
    "    time.sleep(interval)"
   ]
  },
  {
   "cell_type": "raw",
   "id": "ac854813-0eb3-4e18-9a87-96458c07e2a7",
   "metadata": {},
   "source": [
    "In this code, we use the pyautogui module to move the mouse cursor one pixel to the right and then back to its original position at an interval of 60 seconds. This movement is small enough to not be noticeable, but frequent enough to prevent the system from entering sleep mode.\n",
    "\n",
    "The pyautogui.moveRel() function moves the mouse cursor relative to its current position by the specified number of pixels. The duration parameter specifies the time taken to complete the movement.\n",
    "\n",
    "We then use the time.sleep() function to pause the program execution for the specified interval. This loop will continue running until the program is terminated."
   ]
  },
  {
   "cell_type": "code",
   "execution_count": null,
   "id": "c50c2fe8",
   "metadata": {},
   "outputs": [],
   "source": [
    "from selenium import webdriver\n",
    "from PIL import Image\n",
    "\n",
    "# Define the URL of the web page we want to screenshot\n",
    "\n",
    "url = 'https://finance.yahoo.com/quote/AAPL?p=AAPL&.tsrc=fin-srch'\n",
    "\n",
    "# Define the path to the webdriver executable (e.g., chromedriver.exe)\n",
    "\n",
    "# webdriver_path = '/path/to/webdriver/executable'\n",
    "webdriver_path = 'C:\\amit.la\\WIP\\RPA\\downloads\\chromedriver.exe'"
   ]
  },
  {
   "attachments": {},
   "cell_type": "markdown",
   "id": "2d66ed25",
   "metadata": {},
   "source": [
    "#### learn more about selenium, chromedriver, please visit this link\n",
    "\n",
    "[Screenshot of a web page](https://github.com/AmitXShukla/RPA/blob/main/notebooks/Screenshot%20of%20a%20web%20page.ipynb)"
   ]
  },
  {
   "cell_type": "code",
   "execution_count": null,
   "id": "8296ff4d",
   "metadata": {},
   "outputs": [],
   "source": [
    "def recordStockPrice():\n",
    "    \n",
    "    # Set up the webdriver\n",
    "    options = webdriver.ChromeOptions()\n",
    "    options.headless = False # Run the browser in headless mode to prevent a window from popping up\n",
    "    driver = webdriver.Chrome(executable_path=webdriver_path, options=options)\n",
    "    # Load the web page\n",
    "    driver.get(url)\n",
    "    # write code to push stock price updates to datawarehouse\n",
    "    # or\n",
    "    # Take a screenshot of the entire page\n",
    "    screenshot = driver.save_screenshot('../downloads/screenshot.png')\n",
    "\n",
    "    # Close the webdriver\n",
    "    driver.quit()\n"
   ]
  },
  {
   "cell_type": "code",
   "execution_count": null,
   "id": "9e395171",
   "metadata": {},
   "outputs": [],
   "source": [
    "import time\n",
    "\n",
    "# Set the interval for moving the mouse cursor\n",
    "\n",
    "interval = 300  # in seconds\n",
    "\n",
    "# Keep moving the mouse cursor at the set interval\n",
    "\n",
    "while True:\n",
    "    recordStockPrice()\n",
    "    time.sleep(interval)"
   ]
  }
 ],
 "metadata": {
  "kernelspec": {
   "display_name": "Python 3 (ipykernel)",
   "language": "python",
   "name": "python3"
  },
  "language_info": {
   "codemirror_mode": {
    "name": "ipython",
    "version": 3
   },
   "file_extension": ".py",
   "mimetype": "text/x-python",
   "name": "python",
   "nbconvert_exporter": "python",
   "pygments_lexer": "ipython3",
   "version": "3.11.2"
  }
 },
 "nbformat": 4,
 "nbformat_minor": 5
}
