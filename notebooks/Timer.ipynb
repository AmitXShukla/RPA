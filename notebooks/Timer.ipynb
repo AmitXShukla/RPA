{
 "cells": [
  {
   "attachments": {},
   "cell_type": "markdown",
   "metadata": {},
   "source": [
    "# Code Timer, Count down, Alarm, World Clock, Boxing Match Timer, TABADA, Jump Rope and EMOM \n",
    "\n",
    "## Display a timer:"
   ]
  },
  {
   "cell_type": "code",
   "execution_count": 1,
   "metadata": {},
   "outputs": [
    {
     "name": "stdout",
     "output_type": "stream",
     "text": [
      "Time remaining: 01:00\n",
      "Time remaining: 00:59\n",
      "Time remaining: 00:58\n",
      "Time remaining: 00:57\n",
      "Time remaining: 00:56\n",
      "Time remaining: 00:55\n",
      "Time remaining: 00:54\n",
      "Time remaining: 00:53\n",
      "Time remaining: 00:52\n",
      "Time remaining: 00:51\n",
      "Time remaining: 00:50\n",
      "Time remaining: 00:49\n",
      "Time remaining: 00:48\n",
      "Time remaining: 00:47\n",
      "Time remaining: 00:46\n",
      "Time remaining: 00:45\n",
      "Time remaining: 00:44\n",
      "Time remaining: 00:43\n",
      "Time remaining: 00:42\n",
      "Time remaining: 00:41\n",
      "Time remaining: 00:40\n",
      "Time remaining: 00:39\n",
      "Time remaining: 00:38\n",
      "Time remaining: 00:37\n",
      "Time remaining: 00:36\n",
      "Time remaining: 00:35\n",
      "Time remaining: 00:34\n",
      "Time remaining: 00:33\n",
      "Time remaining: 00:32\n",
      "Time remaining: 00:31\n",
      "Time remaining: 00:30\n",
      "Time remaining: 00:29\n",
      "Time remaining: 00:28\n",
      "Time remaining: 00:27\n",
      "Time remaining: 00:26\n",
      "Time remaining: 00:25\n",
      "Time remaining: 00:24\n",
      "Time remaining: 00:23\n",
      "Time remaining: 00:22\n",
      "Time remaining: 00:21\n",
      "Time remaining: 00:20\n",
      "Time remaining: 00:19\n",
      "Time remaining: 00:18\n",
      "Time remaining: 00:17\n",
      "Time remaining: 00:16\n",
      "Time remaining: 00:15\n",
      "Time remaining: 00:14\n",
      "Time remaining: 00:13\n",
      "Time remaining: 00:12\n",
      "Time remaining: 00:11\n",
      "Time remaining: 00:10\n",
      "Time remaining: 00:09\n",
      "Time remaining: 00:08\n",
      "Time remaining: 00:07\n",
      "Time remaining: 00:06\n",
      "Time remaining: 00:05\n",
      "Time remaining: 00:04\n",
      "Time remaining: 00:03\n",
      "Time remaining: 00:02\n",
      "Time remaining: 00:01\n",
      "Time's up!\n"
     ]
    }
   ],
   "source": [
    "import time\n",
    "\n",
    "# Define the time in seconds\n",
    "\n",
    "time_seconds = 60\n",
    "\n",
    "# Start the timer\n",
    "\n",
    "start_time = time.time()\n",
    "\n",
    "# Display the timer\n",
    "\n",
    "while True:\n",
    "    elapsed_time = int(time.time() - start_time)\n",
    "    time_remaining = time_seconds - elapsed_time\n",
    "    if time_remaining <= 0:\n",
    "        break\n",
    "    minutes = time_remaining // 60\n",
    "    seconds = time_remaining % 60\n",
    "    print(\"Time remaining: {:02d}:{:02d}\".format(minutes, seconds))\n",
    "    time.sleep(1)\n",
    "\n",
    "# Timer has ended\n",
    "\n",
    "print(\"Time's up!\")"
   ]
  },
  {
   "attachments": {},
   "cell_type": "markdown",
   "metadata": {},
   "source": [
    "In this code, we first define the time in seconds that the timer should run for. We then use the time.time() function to get the current time and assign it to the start_time variable.\n",
    "\n",
    "Inside the while loop, we calculate the elapsed time by subtracting the start_time from the current time. We then calculate the time remaining by subtracting the elapsed time from the time_seconds variable.\n",
    "\n",
    "We then use integer division (//) and modulus (%) operators to convert the time remaining into minutes and seconds. We format the minutes and seconds into a string with a leading zero if necessary using the format() function and print it to the console.\n",
    "\n",
    "We then pause the program execution for 1 second using the time.sleep() function.\n",
    "\n",
    "When the timer has ended, we print a message to indicate that the timer has ended."
   ]
  },
  {
   "attachments": {},
   "cell_type": "markdown",
   "metadata": {},
   "source": []
  }
 ],
 "metadata": {
  "kernelspec": {
   "display_name": "RPA",
   "language": "python",
   "name": "python3"
  },
  "language_info": {
   "codemirror_mode": {
    "name": "ipython",
    "version": 3
   },
   "file_extension": ".py",
   "mimetype": "text/x-python",
   "name": "python",
   "nbconvert_exporter": "python",
   "pygments_lexer": "ipython3",
   "version": "3.11.2"
  },
  "orig_nbformat": 4
 },
 "nbformat": 4,
 "nbformat_minor": 2
}
