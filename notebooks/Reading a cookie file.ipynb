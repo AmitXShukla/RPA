{
 "cells": [
  {
   "cell_type": "markdown",
   "id": "f313cf37-56cd-46f4-afad-1bd662c4221c",
   "metadata": {},
   "source": [
    "## Reading a cookie file\n",
    "---"
   ]
  },
  {
   "cell_type": "raw",
   "id": "634e0535-2396-4296-b3dc-6ec33ba59f33",
   "metadata": {},
   "source": [
    "################################\n",
    "# create RPA Virtual environment\n",
    "################################\n",
    "# py -m venv RPA\n",
    "# RPA\\Scripts\\activate.bat\n",
    "# import sys\n",
    "# sys.path\n",
    "# py -m pip --version\n",
    "\n",
    "############################################\n",
    "## MAKE SURE these packages are installed ##\n",
    "############################################\n",
    "# py -m pip install http\n",
    "################################"
   ]
  },
  {
   "cell_type": "code",
   "execution_count": null,
   "id": "a2592573-fbd4-4c05-8cab-f0e2adf77a31",
   "metadata": {},
   "outputs": [],
   "source": [
    "import http.cookiejar\n",
    "\n",
    "# Load the cookie file into a CookieJar object\n",
    "cookie_jar = http.cookiejar.MozillaCookieJar()\n",
    "cookie_jar.load(\"cookies.txt\")\n",
    "\n",
    "# Extract information from each cookie in the CookieJar\n",
    "for cookie in cookie_jar:\n",
    "    print(\"Name:\", cookie.name)\n",
    "    print(\"Value:\", cookie.value)\n",
    "    print(\"Domain:\", cookie.domain)\n",
    "    print(\"Path:\", cookie.path)\n",
    "    print(\"Secure:\", cookie.secure)\n",
    "    print(\"Expires:\", cookie.expires)\n",
    "    print(\"HttpOnly:\", cookie.has_nonstandard_attr(\"HttpOnly\"))\n",
    "    print(\"\")\n",
    "\n",
    "    # Do additional processing on the cookie data here"
   ]
  },
  {
   "cell_type": "raw",
   "id": "c97cf512-6549-4501-9e63-d7f4ead67738",
   "metadata": {},
   "source": [
    "In this code, we first create a MozillaCookieJar object to represent the cookie file, and load the contents of the cookie file into the object using the load() method.\n",
    "\n",
    "We can then iterate over each Cookie object in the CookieJar, and extract the name, value, domain, path, secure, expires, and HttpOnly attributes for each cookie. You can do additional processing on the cookie data within the loop as needed, such as filtering out expired cookies or checking if the cookie is valid for the current domain.\n",
    "\n",
    "Note that the specific attributes available for each cookie may vary depending on the format of the cookie file you are parsing. This example assumes that the cookie file is in the Mozilla/Netscape format, which is a common format for storing cookies in a plain text file. If your cookie file is in a different format, you may need to use a different library or approach to parse it."
   ]
  },
  {
   "cell_type": "code",
   "execution_count": null,
   "id": "9c8c127d-42e7-40c2-8b95-1f20e7c63a1a",
   "metadata": {},
   "outputs": [],
   "source": []
  }
 ],
 "metadata": {
  "kernelspec": {
   "display_name": "Python 3 (ipykernel)",
   "language": "python",
   "name": "python3"
  },
  "language_info": {
   "codemirror_mode": {
    "name": "ipython",
    "version": 3
   },
   "file_extension": ".py",
   "mimetype": "text/x-python",
   "name": "python",
   "nbconvert_exporter": "python",
   "pygments_lexer": "ipython3",
   "version": "3.11.2"
  }
 },
 "nbformat": 4,
 "nbformat_minor": 5
}
