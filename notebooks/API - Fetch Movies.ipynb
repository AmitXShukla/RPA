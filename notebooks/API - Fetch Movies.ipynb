{
 "cells": [
  {
   "attachments": {},
   "cell_type": "markdown",
   "id": "f000b967-63bf-4090-b2b7-8f2c8b6a2a07",
   "metadata": {},
   "source": [
    "## Fetch Movies API\n",
    "---\n",
    "\n",
    "This API connects you with the TMDB movies database that provides you with API Free to use. \n",
    "\n",
    "You can fetch movies and tv shows’ titles, ratings, plots, and much more."
   ]
  },
  {
   "cell_type": "raw",
   "id": "f8d01681-af9d-483b-9613-18346c5979fd",
   "metadata": {},
   "source": [
    "################################\n",
    "# create RPA Virtual environment\n",
    "################################\n",
    "# py -m venv RPA\n",
    "# RPA\\Scripts\\activate.bat\n",
    "# import sys\n",
    "# sys.path\n",
    "# py -m pip --version\n",
    "\n",
    "############################################\n",
    "## MAKE SURE these packages are installed ##\n",
    "############################################\n",
    "# py -m pip install tmdbsimple\n",
    "################################"
   ]
  },
  {
   "cell_type": "code",
   "execution_count": null,
   "id": "6b0c9fc9-1927-4458-a15f-0da219aca14c",
   "metadata": {},
   "outputs": [],
   "source": [
    "# Get your API : developers.themoviedb.org\n",
    "    \n",
    "import tmdbsimple as imdb\n",
    "\n",
    "imdb.API_KEY = 'YOUR_API_KEY'# search movies by Name\n",
    "m = imdb.search.movie(query='Jurassic Park')\n",
    "response = m.info()# get movie title\n",
    "\t\n",
    "print(m.title)# get movie budget\n",
    "print(m.budget)# get movie rating\n",
    "print(m.rating)# get movie reviews\n",
    "print(m.reviews())# get similar movies\n",
    "print(m.similar_movies())# get runtime\n",
    "print(m.runtime)# Search movie By ID\n",
    "\n",
    "m = imdb.Movies(135397)\n",
    "m = m.info()# Search TV Shows\n",
    "\n",
    "tvshow = imdb.search.tv(query='Game of Thrones')\n",
    "response = tvshow.info()\n",
    "print(tvshow.name)\n",
    "print(tvshow.overview)"
   ]
  }
 ],
 "metadata": {
  "kernelspec": {
   "display_name": "Python 3 (ipykernel)",
   "language": "python",
   "name": "python3"
  },
  "language_info": {
   "codemirror_mode": {
    "name": "ipython",
    "version": 3
   },
   "file_extension": ".py",
   "mimetype": "text/x-python",
   "name": "python",
   "nbconvert_exporter": "python",
   "pygments_lexer": "ipython3",
   "version": "3.11.2"
  }
 },
 "nbformat": 4,
 "nbformat_minor": 5
}
