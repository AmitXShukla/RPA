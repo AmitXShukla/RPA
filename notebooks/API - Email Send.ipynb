{
 "cells": [
  {
   "attachments": {},
   "cell_type": "markdown",
   "id": "f000b967-63bf-4090-b2b7-8f2c8b6a2a07",
   "metadata": {},
   "source": [
    "## Email Sending API\n",
    "---\n",
    "\n",
    "Need to send Unlimited Bulk Emails programmatically then this API will let you send Emails to any Mail Server. \n",
    "\n",
    "You can get your API key and start using the below code.\n"
   ]
  },
  {
   "attachments": {},
   "cell_type": "markdown",
   "id": "1327d6eb",
   "metadata": {},
   "source": [
    "# Get Your API: https://docs.sendgrid.com/\n",
    "# pip install sendgrid\n",
    "\n",
    "import sendgrid as Send\n",
    "from sendgrid.helpers.mail \n",
    "import *\n",
    "\n",
    "send = Send.SendGridAPIClient(api_key=\"Your API\")\n",
    "Email_from = Email(\"Your Email\")\n",
    "Email_to = Email(\"Your Email\")\n",
    "subject = \"Your Subject\"\n",
    "content = Content(\"text/plain\", \"Your Content\")\n",
    "mail = Mail(Email_from, subject, Email_to, content)\n",
    "resp = send.client.mail.send.post(request_body=mail.get())print(resp.status_code)\n",
    "print(\"Mail Sent\")"
   ]
  }
 ],
 "metadata": {
  "kernelspec": {
   "display_name": "Python 3 (ipykernel)",
   "language": "python",
   "name": "python3"
  },
  "language_info": {
   "codemirror_mode": {
    "name": "ipython",
    "version": 3
   },
   "file_extension": ".py",
   "mimetype": "text/x-python",
   "name": "python",
   "nbconvert_exporter": "python",
   "pygments_lexer": "ipython3",
   "version": "3.11.2"
  }
 },
 "nbformat": 4,
 "nbformat_minor": 5
}
