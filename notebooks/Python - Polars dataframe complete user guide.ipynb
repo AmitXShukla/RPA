{
 "cells": [
  {
   "attachments": {},
   "cell_type": "markdown",
   "metadata": {},
   "source": [
    "## The Ultimate Guide to Mastering the Python Polars DataFrame\n",
    "---\n",
    "The aim of this comprehensive user guide is to equip you with all the necessary knowledge and skills required to utilize Python Polars DataFrames effectively for financial and supply chain data science analytics. \n",
    "\n",
    "It provides an in-depth overview of the most commonly used functions and capabilities of the package.\n",
    "\n",
    "\n",
    "## Table of content\n",
    "---\n",
    "\n",
    "- Why another DataFrame\n",
    "- Installation\n",
    "- Finance and Supply chain Data Analytics\n",
    "- Creating DataFrame\n",
    "- Data Types\n",
    "- IO\n",
    "- Lazy API\n",
    "- About Expressions & Contexts\n",
    "    - select\n",
    "    - group by\n",
    "- Polar SQLs"
   ]
  },
  {
   "attachments": {},
   "cell_type": "markdown",
   "metadata": {},
   "source": [
    "## Why another DataFrame\n",
    "---\n",
    "Despite the numerous state-of-the-art dataframe packages available in the market, the Polar dataframe, which is built on RUST, boasts the fastest execution speed, enabling it to handle complex data science operations on tabular datasets.\n",
    "\n",
    "- Execution on larger-than-memory (RAM) data analytics\n",
    "- Lazy API vs Eager execution\n",
    "- Automatic Optimization\n",
    "- Embarrassingly Parallel\n",
    "- Easy to learn consistent, predictable API that has strict schema\n",
    "- SQLs like expressions\n",
    "\n",
    "#### Efficient Execution of Analytics on Large-than-Memory (RAM) Data\n",
    "\n",
    "RAM is not a big deal these days as most computers and VMs offer inexpensive GBs of RAM. In fact, the availability of affordable RAM is the primary reason why Pandas-like DataFrames remain the go-to choice, and it is unlikely that Pandas or R Tables will become obsolete anytime soon.\n",
    "\n",
    "However, Polars DataFrames are increasingly gaining popularity among developers due to their ability to harness the horsepower of Apache Spark, the backend support of DuckDB and Apache Arrow, and the ease-of-use of Pandas-like data frame functionalities. \n",
    "\n",
    "Additionally, Polars comes with built-in multi-core, multi-threaded parallel processing, making it a highly preferred choice.\n",
    "\n",
    "#### Lazy API vs Eager execution\n",
    "\n",
    "Just because an API is referred to as \"lazy\" does not necessarily imply that there will be a delay in processing or execution, and conversely, \"eager\" execution doesn't necessarily mean that the programming language will process data transformations or begin execution immediately and more quickly.\n",
    "\n",
    "In simpler terms, using a Lazy API implies that the API will first take the time to optimize the query before execution, which often results in improved performance.\n",
    "\n",
    "To illustrate this concept, consider running SQL on an RDBMS database. If the statistics, indexes, and data partitions have been appropriately optimized and the SQL is written in an optimized manner that utilizes the available statistics, indexes, and data partitions, the results will be delivered more quickly.\n",
    "\n",
    "#### Automatic Optimization\n",
    "\n",
    "We will learn few automation techniques to efficiently optimize queries.\n",
    "\n",
    "#### Embarrassingly Parallel\n",
    "\n",
    "#### Easy to learn consistent, predictable API that has strict schema\n",
    "\n",
    "#### SQLs like expressions\n",
    "\n",
    "`Let's get started`\n",
    "## Installation\n",
    "---\n"
   ]
  },
  {
   "cell_type": "code",
   "execution_count": null,
   "metadata": {},
   "outputs": [],
   "source": [
    "pip install -U polars"
   ]
  },
  {
   "cell_type": "markdown",
   "metadata": {},
   "source": []
  },
  {
   "attachments": {},
   "cell_type": "markdown",
   "metadata": {},
   "source": [
    "## Finance and Supply chain Data Analytics\n",
    "---\n",
    "TODO:\n",
    "As stated above, since our objective is learn Data Science operations on Finance and Supply chain dataset, we will focus on creating\n",
    "few real life examples which are similar to Finance and Supply chain.\n",
    "\n",
    "For more information, please learn more about [Finance and Supply chain ERP data](https://amitxshukla.github.io/GeneralLedger.jl/tutorials/erd/).\n",
    "\n",
    "Objective of following section is to understand ERP GL like data. \n",
    "\n",
    "A sample of data structure and ERD relationship diagram can be seen in this diagram below.\n",
    "\n",
    "![ERD Diagram](https://github.com/AmitXShukla/AmitXShukla.github.io/raw/master/blogs/PlutoCon/gl_erd.png)\n",
    "\n",
    "## Creating Polars DataFrame\n",
    "---"
   ]
  },
  {
   "cell_type": "code",
   "execution_count": null,
   "metadata": {},
   "outputs": [],
   "source": [
    "#########################\n",
    "## Series and DataFrames\n",
    "#########################\n",
    "import polars as pl\n",
    "\n",
    "# with a tuple\n",
    "location_1 = pl.Series([\"CA\", \"OR\", \"WA\", \"TX\", \"NY\"]) \n",
    "# location_1 series when will converted to DataFrame will not have a column name\n",
    "# and hence, later when is used to create a dataframe will assign a column name like column_xx\n",
    "\n",
    "location_2 = pl.Series(\"location\", [\"CA\", \"OR\", \"WA\", \"TX\", \"NY\"])\n",
    "\n",
    "print(f\"Location Type: Series 1: \", location_1)\n",
    "print(f\"Location Type: Series 2: \", location_2)\n",
    "\n",
    "location_1_df = pl.DataFrame(location_1)\n",
    "location_2_df = pl.DataFrame(location_2)\n",
    "print(f\"Location Type: DataFrame 1: \", location_1_df)\n",
    "print(f\"Location Type: DataFrame 2: \", location_2_df)\n",
    "# type(location_1_df[\"location\"]) # will error out, because location_1 series didn't had column name\n",
    "type(location_2_df[\"location\"]), type(location_1), type(location_2)"
   ]
  },
  {
   "cell_type": "code",
   "execution_count": null,
   "metadata": {},
   "outputs": [],
   "source": [
    "# Creating DataFrame from a dict or a collection of dicts.\n",
    "# let's create a more sophisticated DataFrame\n",
    "# in real world, Organization maintain dozens of record structure to store \n",
    "# different type of locations, like ShipTo Location, Receiving, Mailing, Corp. office, head office,\n",
    "# field office etc. etc.\n",
    "\n",
    "## LOCATION DataFrame ##\n",
    "import random\n",
    "from datetime import datetime\n",
    "\n",
    "location = pl.DataFrame({\n",
    "    \"ID\":  list(range(11, 23)),\n",
    "    \"AS_OF_DATE\" : datetime(2022, 1, 1),\n",
    "    \"DESCRIPTION\" : [\"Boston\",\"New York\",\"Philadelphia\",\"Cleveland\",\"Richmond\", \"Atlanta\",\"Chicago\",\"St. Louis\",\"Minneapolis\",\"Kansas City\", \"Dallas\",\"San Francisco\"],\n",
    "    \"REGION\": [\"Region A\",\"Region B\",\"Region C\",\"Region D\"] * 3,\n",
    "    \"TYPE\" : \"Physical\",\n",
    "    \"CATEGORY\" : [\"Ship\",\"Recv\",\"Mfg\"] * 4\n",
    "})\n",
    "location"
   ]
  },
  {
   "cell_type": "code",
   "execution_count": null,
   "metadata": {},
   "outputs": [],
   "source": [
    "## ACCOUNTS DataFrame ##\n",
    "import random\n",
    "from datetime import datetime\n",
    "\n",
    "accounts = pl.DataFrame({\n",
    "    \"ID\":  list(range(10000, 45000, 1000)),\n",
    "    \"AS_OF_DATE\" : datetime(2022, 1, 1),\n",
    "    \"DESCRIPTION\" : [\"Operating Expenses\",\"Non Operating Expenses\",\"Assets\",\"Liabilities\",\"Net worth accounts\", \"Statistical Accounts\",\"Revenue\"] * 5,\n",
    "    \"REGION\": [\"Region A\",\"Region B\",\"Region C\",\"Region D\", \"Region E\"] * 7,\n",
    "    \"TYPE\" : [\"E\",\"E\",\"A\",\"L\",\"N\",\"S\",\"R\"] * 5,\n",
    "    \"STATUS\" : \"Active\",\n",
    "    \"CLASSIFICATION\" : [\"OPERATING_EXPENSES\",\"NON-OPERATING_EXPENSES\", \"ASSETS\",\"LIABILITIES\",\"NET_WORTH\",\"STATISTICS\",\"REVENUE\"] * 5,\n",
    "    \"CATEGORY\" : [\n",
    "       \t\t\"Travel\",\"Payroll\",\"non-Payroll\",\"Allowance\",\"Cash\",\n",
    "       \t\t\"Facility\",\"Supply\",\"Services\",\"Investment\",\"Misc.\",\n",
    "       \t\t\"Depreciation\",\"Gain\",\"Service\",\"Retired\",\"Fault.\",\n",
    "       \t\t\"Receipt\",\"Accrual\",\"Return\",\"Credit\",\"ROI\",\n",
    "       \t\t\"Cash\",\"Funds\",\"Invest\",\"Transfer\",\"Roll-over\",\n",
    "       \t\t\"FTE\",\"Members\",\"Non_Members\",\"Temp\",\"Contractors\",\n",
    "       \t\t\"Sales\",\"Merchant\",\"Service\",\"Consulting\",\"Subscriptions\"\n",
    "       \t],\n",
    "})\n",
    "accounts"
   ]
  },
  {
   "cell_type": "code",
   "execution_count": null,
   "metadata": {},
   "outputs": [],
   "source": [
    "## DEPARTMENT DataFrame ##\n",
    "import random\n",
    "from datetime import datetime\n",
    "\n",
    "dept = pl.DataFrame({\n",
    "    \"ID\":  list(range(1000, 2500, 100)),\n",
    "    \"AS_OF_DATE\" : datetime(2022, 1, 1),\n",
    "    \"DESCRIPTION\" : [\"Sales & Marketing\",\"Human Resource\",\"Information Technology\",\"Business leaders\",\"other temp\"] * 3,\n",
    "    \"REGION\": [\"Region A\",\"Region B\",\"Region C\"] * 5,\n",
    "    \"STATUS\" : \"Active\",\n",
    "    \"CLASSIFICATION\" : [\"SALES\",\"HR\", \"IT\",\"BUSINESS\",\"OTHERS\"] * 3,\n",
    "    \"TYPE\" : [\"S\",\"H\",\"I\",\"B\",\"O\"] * 3,\n",
    "    \"CATEGORY\" : [\"sales\",\"human_resource\",\"IT_Staff\",\"business\",\"others\"] * 3,\n",
    "})\n",
    "dept"
   ]
  },
  {
   "cell_type": "code",
   "execution_count": 199,
   "metadata": {},
   "outputs": [
    {
     "data": {
      "text/html": [
       "<div><style>\n",
       ".dataframe > thead > tr > th,\n",
       ".dataframe > tbody > tr > td {\n",
       "  text-align: right;\n",
       "}\n",
       "</style>\n",
       "<small>shape: (10, 8)</small><table border=\"1\" class=\"dataframe\"><thead><tr><th>LEDGER</th><th>ORG</th><th>FISCAL_YEAR</th><th>PERIOD</th><th>ACCOUNT</th><th>DEPT</th><th>LOCATION</th><th>POSTED_TOTAL</th></tr><tr><td>str</td><td>str</td><td>i64</td><td>i64</td><td>i64</td><td>i64</td><td>i64</td><td>i64</td></tr></thead><tbody><tr><td>&quot;ACTUALS&quot;</td><td>&quot;ABC Inc.&quot;</td><td>2020</td><td>5</td><td>41000</td><td>1500</td><td>19</td><td>860031</td></tr><tr><td>&quot;ACTUALS&quot;</td><td>&quot;ABC Inc.&quot;</td><td>2020</td><td>5</td><td>13000</td><td>2200</td><td>18</td><td>86622</td></tr><tr><td>&quot;ACTUALS&quot;</td><td>&quot;ABC Inc.&quot;</td><td>2021</td><td>3</td><td>14000</td><td>1300</td><td>18</td><td>958027</td></tr><tr><td>&quot;ACTUALS&quot;</td><td>&quot;ABC Inc.&quot;</td><td>2020</td><td>1</td><td>37000</td><td>1900</td><td>21</td><td>510557</td></tr><tr><td>&quot;ACTUALS&quot;</td><td>&quot;ABC Inc.&quot;</td><td>2023</td><td>6</td><td>10000</td><td>1700</td><td>16</td><td>690040</td></tr><tr><td>&quot;ACTUALS&quot;</td><td>&quot;ABC Inc.&quot;</td><td>2020</td><td>2</td><td>41000</td><td>2200</td><td>19</td><td>274608</td></tr><tr><td>&quot;ACTUALS&quot;</td><td>&quot;ABC Inc.&quot;</td><td>2022</td><td>8</td><td>30000</td><td>1400</td><td>15</td><td>178390</td></tr><tr><td>&quot;ACTUALS&quot;</td><td>&quot;ABC Inc.&quot;</td><td>2021</td><td>1</td><td>19000</td><td>1500</td><td>11</td><td>351168</td></tr><tr><td>&quot;ACTUALS&quot;</td><td>&quot;ABC Inc.&quot;</td><td>2023</td><td>4</td><td>39000</td><td>2100</td><td>20</td><td>353282</td></tr><tr><td>&quot;ACTUALS&quot;</td><td>&quot;ABC Inc.&quot;</td><td>2020</td><td>6</td><td>36000</td><td>1700</td><td>13</td><td>581124</td></tr></tbody></table></div>"
      ],
      "text/plain": [
       "shape: (10, 8)\n",
       "┌─────────┬──────────┬─────────────┬────────┬─────────┬──────┬──────────┬──────────────┐\n",
       "│ LEDGER  ┆ ORG      ┆ FISCAL_YEAR ┆ PERIOD ┆ ACCOUNT ┆ DEPT ┆ LOCATION ┆ POSTED_TOTAL │\n",
       "│ ---     ┆ ---      ┆ ---         ┆ ---    ┆ ---     ┆ ---  ┆ ---      ┆ ---          │\n",
       "│ str     ┆ str      ┆ i64         ┆ i64    ┆ i64     ┆ i64  ┆ i64      ┆ i64          │\n",
       "╞═════════╪══════════╪═════════════╪════════╪═════════╪══════╪══════════╪══════════════╡\n",
       "│ ACTUALS ┆ ABC Inc. ┆ 2020        ┆ 5      ┆ 41000   ┆ 1500 ┆ 19       ┆ 860031       │\n",
       "│ ACTUALS ┆ ABC Inc. ┆ 2020        ┆ 5      ┆ 13000   ┆ 2200 ┆ 18       ┆ 86622        │\n",
       "│ ACTUALS ┆ ABC Inc. ┆ 2021        ┆ 3      ┆ 14000   ┆ 1300 ┆ 18       ┆ 958027       │\n",
       "│ ACTUALS ┆ ABC Inc. ┆ 2020        ┆ 1      ┆ 37000   ┆ 1900 ┆ 21       ┆ 510557       │\n",
       "│ …       ┆ …        ┆ …           ┆ …      ┆ …       ┆ …    ┆ …        ┆ …            │\n",
       "│ ACTUALS ┆ ABC Inc. ┆ 2022        ┆ 8      ┆ 30000   ┆ 1400 ┆ 15       ┆ 178390       │\n",
       "│ ACTUALS ┆ ABC Inc. ┆ 2021        ┆ 1      ┆ 19000   ┆ 1500 ┆ 11       ┆ 351168       │\n",
       "│ ACTUALS ┆ ABC Inc. ┆ 2023        ┆ 4      ┆ 39000   ┆ 2100 ┆ 20       ┆ 353282       │\n",
       "│ ACTUALS ┆ ABC Inc. ┆ 2020        ┆ 6      ┆ 36000   ┆ 1700 ┆ 13       ┆ 581124       │\n",
       "└─────────┴──────────┴─────────────┴────────┴─────────┴──────┴──────────┴──────────────┘"
      ]
     },
     "execution_count": 199,
     "metadata": {},
     "output_type": "execute_result"
    }
   ],
   "source": [
    "## LEDGER DataFrame ##\n",
    "import random\n",
    "from datetime import datetime\n",
    "\n",
    "sampleSize = 10\n",
    "org = \"ABC Inc.\"\n",
    "ledger = \"ACTUALS\" # BUDGET, STATS are other Ledger types\n",
    "fiscal_year_from = 2020\n",
    "fiscal_year_to = 2023\n",
    "random.seed(123)\n",
    "\n",
    "ledger = pl.DataFrame({\n",
    "\t\"LEDGER\" : ledger,\n",
    "\t\"ORG\" : org,\n",
    "\t\"FISCAL_YEAR\": random.choices(list(range(fiscal_year_from, fiscal_year_to+1, 1)),k=sampleSize),\n",
    "\t\"PERIOD\": random.choices(list(range(1, 12+1, 1)),k=sampleSize),\n",
    "\t\"ACCOUNT\" : random.choices(accounts[\"ID\"], k=sampleSize),\n",
    "\t\"DEPT\" : random.choices(dept[\"ID\"], k=sampleSize),\n",
    "\t\"LOCATION\" : random.choices(location[\"ID\"], k=sampleSize),\n",
    "\t\"POSTED_TOTAL\": random.sample(range(1000000), sampleSize)\n",
    "})\n",
    "ledger"
   ]
  },
  {
   "cell_type": "code",
   "execution_count": 198,
   "metadata": {},
   "outputs": [
    {
     "data": {
      "text/html": [
       "<div><style>\n",
       ".dataframe > thead > tr > th,\n",
       ".dataframe > tbody > tr > td {\n",
       "  text-align: right;\n",
       "}\n",
       "</style>\n",
       "<small>shape: (10, 8)</small><table border=\"1\" class=\"dataframe\"><thead><tr><th>LEDGER</th><th>ORG</th><th>FISCAL_YEAR</th><th>PERIOD</th><th>ACCOUNT</th><th>DEPT</th><th>LOCATION</th><th>POSTED_TOTAL</th></tr><tr><td>str</td><td>str</td><td>i64</td><td>i64</td><td>i64</td><td>i64</td><td>i64</td><td>i64</td></tr></thead><tbody><tr><td>&quot;BUDGET&quot;</td><td>&quot;ABC Inc.&quot;</td><td>2022</td><td>5</td><td>25000</td><td>1800</td><td>14</td><td>629252</td></tr><tr><td>&quot;BUDGET&quot;</td><td>&quot;ABC Inc.&quot;</td><td>2023</td><td>7</td><td>35000</td><td>1500</td><td>11</td><td>332428</td></tr><tr><td>&quot;BUDGET&quot;</td><td>&quot;ABC Inc.&quot;</td><td>2022</td><td>5</td><td>35000</td><td>1100</td><td>17</td><td>87808</td></tr><tr><td>&quot;BUDGET&quot;</td><td>&quot;ABC Inc.&quot;</td><td>2023</td><td>2</td><td>34000</td><td>2000</td><td>22</td><td>357715</td></tr><tr><td>&quot;BUDGET&quot;</td><td>&quot;ABC Inc.&quot;</td><td>2021</td><td>3</td><td>25000</td><td>1300</td><td>17</td><td>581471</td></tr><tr><td>&quot;BUDGET&quot;</td><td>&quot;ABC Inc.&quot;</td><td>2021</td><td>8</td><td>25000</td><td>1800</td><td>20</td><td>563800</td></tr><tr><td>&quot;BUDGET&quot;</td><td>&quot;ABC Inc.&quot;</td><td>2023</td><td>6</td><td>37000</td><td>1100</td><td>21</td><td>139950</td></tr><tr><td>&quot;BUDGET&quot;</td><td>&quot;ABC Inc.&quot;</td><td>2023</td><td>9</td><td>15000</td><td>2300</td><td>11</td><td>974519</td></tr><tr><td>&quot;BUDGET&quot;</td><td>&quot;ABC Inc.&quot;</td><td>2021</td><td>6</td><td>21000</td><td>1300</td><td>14</td><td>933767</td></tr><tr><td>&quot;BUDGET&quot;</td><td>&quot;ABC Inc.&quot;</td><td>2023</td><td>1</td><td>28000</td><td>2300</td><td>13</td><td>848318</td></tr></tbody></table></div>"
      ],
      "text/plain": [
       "shape: (10, 8)\n",
       "┌────────┬──────────┬─────────────┬────────┬─────────┬──────┬──────────┬──────────────┐\n",
       "│ LEDGER ┆ ORG      ┆ FISCAL_YEAR ┆ PERIOD ┆ ACCOUNT ┆ DEPT ┆ LOCATION ┆ POSTED_TOTAL │\n",
       "│ ---    ┆ ---      ┆ ---         ┆ ---    ┆ ---     ┆ ---  ┆ ---      ┆ ---          │\n",
       "│ str    ┆ str      ┆ i64         ┆ i64    ┆ i64     ┆ i64  ┆ i64      ┆ i64          │\n",
       "╞════════╪══════════╪═════════════╪════════╪═════════╪══════╪══════════╪══════════════╡\n",
       "│ BUDGET ┆ ABC Inc. ┆ 2022        ┆ 5      ┆ 25000   ┆ 1800 ┆ 14       ┆ 629252       │\n",
       "│ BUDGET ┆ ABC Inc. ┆ 2023        ┆ 7      ┆ 35000   ┆ 1500 ┆ 11       ┆ 332428       │\n",
       "│ BUDGET ┆ ABC Inc. ┆ 2022        ┆ 5      ┆ 35000   ┆ 1100 ┆ 17       ┆ 87808        │\n",
       "│ BUDGET ┆ ABC Inc. ┆ 2023        ┆ 2      ┆ 34000   ┆ 2000 ┆ 22       ┆ 357715       │\n",
       "│ …      ┆ …        ┆ …           ┆ …      ┆ …       ┆ …    ┆ …        ┆ …            │\n",
       "│ BUDGET ┆ ABC Inc. ┆ 2023        ┆ 6      ┆ 37000   ┆ 1100 ┆ 21       ┆ 139950       │\n",
       "│ BUDGET ┆ ABC Inc. ┆ 2023        ┆ 9      ┆ 15000   ┆ 2300 ┆ 11       ┆ 974519       │\n",
       "│ BUDGET ┆ ABC Inc. ┆ 2021        ┆ 6      ┆ 21000   ┆ 1300 ┆ 14       ┆ 933767       │\n",
       "│ BUDGET ┆ ABC Inc. ┆ 2023        ┆ 1      ┆ 28000   ┆ 2300 ┆ 13       ┆ 848318       │\n",
       "└────────┴──────────┴─────────────┴────────┴─────────┴──────┴──────────┴──────────────┘"
      ]
     },
     "execution_count": 198,
     "metadata": {},
     "output_type": "execute_result"
    }
   ],
   "source": [
    "ledger = \"BUDGET\" # ACTUALS, STATS are other Ledger types\n",
    "\n",
    "ledger_budg = pl.DataFrame({\n",
    "\t\"LEDGER\" : ledger,\n",
    "\t\"ORG\" : org,\n",
    "\t\"FISCAL_YEAR\": random.choices(list(range(fiscal_year_from, fiscal_year_to+1, 1)),k=sampleSize),\n",
    "\t\"PERIOD\": random.choices(list(range(1, 12+1, 1)),k=sampleSize),\n",
    "\t\"ACCOUNT\" : random.choices(accounts[\"ID\"], k=sampleSize),\n",
    "\t\"DEPT\" : random.choices(dept[\"ID\"], k=sampleSize),\n",
    "\t\"LOCATION\" : random.choices(location[\"ID\"], k=sampleSize),\n",
    "\t\"POSTED_TOTAL\": random.sample(range(1000000), sampleSize)\n",
    "})\n",
    "ledger_budg"
   ]
  },
  {
   "cell_type": "code",
   "execution_count": 201,
   "metadata": {},
   "outputs": [
    {
     "data": {
      "text/html": [
       "<div><style>\n",
       ".dataframe > thead > tr > th,\n",
       ".dataframe > tbody > tr > td {\n",
       "  text-align: right;\n",
       "}\n",
       "</style>\n",
       "<small>shape: (20, 8)</small><table border=\"1\" class=\"dataframe\"><thead><tr><th>LEDGER</th><th>ORG</th><th>FISCAL_YEAR</th><th>PERIOD</th><th>ACCOUNT</th><th>DEPT</th><th>LOCATION</th><th>POSTED_TOTAL</th></tr><tr><td>str</td><td>str</td><td>i64</td><td>i64</td><td>i64</td><td>i64</td><td>i64</td><td>i64</td></tr></thead><tbody><tr><td>&quot;ACTUALS&quot;</td><td>&quot;ABC Inc.&quot;</td><td>2020</td><td>5</td><td>41000</td><td>1500</td><td>19</td><td>860031</td></tr><tr><td>&quot;ACTUALS&quot;</td><td>&quot;ABC Inc.&quot;</td><td>2020</td><td>5</td><td>13000</td><td>2200</td><td>18</td><td>86622</td></tr><tr><td>&quot;ACTUALS&quot;</td><td>&quot;ABC Inc.&quot;</td><td>2021</td><td>3</td><td>14000</td><td>1300</td><td>18</td><td>958027</td></tr><tr><td>&quot;ACTUALS&quot;</td><td>&quot;ABC Inc.&quot;</td><td>2020</td><td>1</td><td>37000</td><td>1900</td><td>21</td><td>510557</td></tr><tr><td>&quot;ACTUALS&quot;</td><td>&quot;ABC Inc.&quot;</td><td>2023</td><td>6</td><td>10000</td><td>1700</td><td>16</td><td>690040</td></tr><tr><td>&quot;ACTUALS&quot;</td><td>&quot;ABC Inc.&quot;</td><td>2020</td><td>2</td><td>41000</td><td>2200</td><td>19</td><td>274608</td></tr><tr><td>&quot;ACTUALS&quot;</td><td>&quot;ABC Inc.&quot;</td><td>2022</td><td>8</td><td>30000</td><td>1400</td><td>15</td><td>178390</td></tr><tr><td>&quot;ACTUALS&quot;</td><td>&quot;ABC Inc.&quot;</td><td>2021</td><td>1</td><td>19000</td><td>1500</td><td>11</td><td>351168</td></tr><tr><td>&quot;ACTUALS&quot;</td><td>&quot;ABC Inc.&quot;</td><td>2023</td><td>4</td><td>39000</td><td>2100</td><td>20</td><td>353282</td></tr><tr><td>&quot;ACTUALS&quot;</td><td>&quot;ABC Inc.&quot;</td><td>2020</td><td>6</td><td>36000</td><td>1700</td><td>13</td><td>581124</td></tr><tr><td>&quot;BUDGET&quot;</td><td>&quot;ABC Inc.&quot;</td><td>2022</td><td>5</td><td>25000</td><td>1800</td><td>14</td><td>629252</td></tr><tr><td>&quot;BUDGET&quot;</td><td>&quot;ABC Inc.&quot;</td><td>2023</td><td>7</td><td>35000</td><td>1500</td><td>11</td><td>332428</td></tr><tr><td>&quot;BUDGET&quot;</td><td>&quot;ABC Inc.&quot;</td><td>2022</td><td>5</td><td>35000</td><td>1100</td><td>17</td><td>87808</td></tr><tr><td>&quot;BUDGET&quot;</td><td>&quot;ABC Inc.&quot;</td><td>2023</td><td>2</td><td>34000</td><td>2000</td><td>22</td><td>357715</td></tr><tr><td>&quot;BUDGET&quot;</td><td>&quot;ABC Inc.&quot;</td><td>2021</td><td>3</td><td>25000</td><td>1300</td><td>17</td><td>581471</td></tr><tr><td>&quot;BUDGET&quot;</td><td>&quot;ABC Inc.&quot;</td><td>2021</td><td>8</td><td>25000</td><td>1800</td><td>20</td><td>563800</td></tr><tr><td>&quot;BUDGET&quot;</td><td>&quot;ABC Inc.&quot;</td><td>2023</td><td>6</td><td>37000</td><td>1100</td><td>21</td><td>139950</td></tr><tr><td>&quot;BUDGET&quot;</td><td>&quot;ABC Inc.&quot;</td><td>2023</td><td>9</td><td>15000</td><td>2300</td><td>11</td><td>974519</td></tr><tr><td>&quot;BUDGET&quot;</td><td>&quot;ABC Inc.&quot;</td><td>2021</td><td>6</td><td>21000</td><td>1300</td><td>14</td><td>933767</td></tr><tr><td>&quot;BUDGET&quot;</td><td>&quot;ABC Inc.&quot;</td><td>2023</td><td>1</td><td>28000</td><td>2300</td><td>13</td><td>848318</td></tr></tbody></table></div>"
      ],
      "text/plain": [
       "shape: (20, 8)\n",
       "┌─────────┬──────────┬─────────────┬────────┬─────────┬──────┬──────────┬──────────────┐\n",
       "│ LEDGER  ┆ ORG      ┆ FISCAL_YEAR ┆ PERIOD ┆ ACCOUNT ┆ DEPT ┆ LOCATION ┆ POSTED_TOTAL │\n",
       "│ ---     ┆ ---      ┆ ---         ┆ ---    ┆ ---     ┆ ---  ┆ ---      ┆ ---          │\n",
       "│ str     ┆ str      ┆ i64         ┆ i64    ┆ i64     ┆ i64  ┆ i64      ┆ i64          │\n",
       "╞═════════╪══════════╪═════════════╪════════╪═════════╪══════╪══════════╪══════════════╡\n",
       "│ ACTUALS ┆ ABC Inc. ┆ 2020        ┆ 5      ┆ 41000   ┆ 1500 ┆ 19       ┆ 860031       │\n",
       "│ ACTUALS ┆ ABC Inc. ┆ 2020        ┆ 5      ┆ 13000   ┆ 2200 ┆ 18       ┆ 86622        │\n",
       "│ ACTUALS ┆ ABC Inc. ┆ 2021        ┆ 3      ┆ 14000   ┆ 1300 ┆ 18       ┆ 958027       │\n",
       "│ ACTUALS ┆ ABC Inc. ┆ 2020        ┆ 1      ┆ 37000   ┆ 1900 ┆ 21       ┆ 510557       │\n",
       "│ …       ┆ …        ┆ …           ┆ …      ┆ …       ┆ …    ┆ …        ┆ …            │\n",
       "│ BUDGET  ┆ ABC Inc. ┆ 2023        ┆ 6      ┆ 37000   ┆ 1100 ┆ 21       ┆ 139950       │\n",
       "│ BUDGET  ┆ ABC Inc. ┆ 2023        ┆ 9      ┆ 15000   ┆ 2300 ┆ 11       ┆ 974519       │\n",
       "│ BUDGET  ┆ ABC Inc. ┆ 2021        ┆ 6      ┆ 21000   ┆ 1300 ┆ 14       ┆ 933767       │\n",
       "│ BUDGET  ┆ ABC Inc. ┆ 2023        ┆ 1      ┆ 28000   ┆ 2300 ┆ 13       ┆ 848318       │\n",
       "└─────────┴──────────┴─────────────┴────────┴─────────┴──────┴──────────┴──────────────┘"
      ]
     },
     "execution_count": 201,
     "metadata": {},
     "output_type": "execute_result"
    }
   ],
   "source": [
    "# combined ledger for Actuals and Budget\n",
    "pl.concat([ledger, ledger_budg], how=\"vertical\")"
   ]
  },
  {
   "attachments": {},
   "cell_type": "markdown",
   "metadata": {},
   "source": [
    "## how to use Lazy API\n",
    "\n",
    "---\n",
    "\n",
    "In the ideal case we use the lazy API right from a file as the query optimizer may help us to reduce the amount of data we read from the file.\n",
    "- scan_csv\n",
    "\n",
    "\n",
    "\n",
    "```\n",
    "import polars as pl\n",
    "\n",
    "from ..paths import DATA_DIR\n",
    "\n",
    "q1 = (\n",
    "    pl.scan_csv(f\"{DATA_DIR}/reddit.csv\")\n",
    "    .with_columns(pl.col(\"name\").str.to_uppercase())\n",
    "    .filter(pl.col(\"comment_karma\") > 0)\n",
    ")\n",
    "```\n",
    "\n",
    "If we were to run the code above on the Reddit CSV the query would not be evaluated. Instead Polars takes each line of code, adds it to the internal query graph and optimizes the query graph.\n",
    "\n",
    "```\n",
    "import polars as pl\n",
    "\n",
    "from ..paths import DATA_DIR\n",
    "\n",
    "q4 = (\n",
    "    pl.scan_csv(f\"{DATA_DIR}/reddit.csv\")\n",
    "    .with_columns(pl.col(\"name\").str.to_uppercase())\n",
    "    .filter(pl.col(\"comment_karma\") > 0)\n",
    "    .collect()\n",
    ")\n",
    "```"
   ]
  },
  {
   "cell_type": "markdown",
   "metadata": {},
   "source": []
  },
  {
   "attachments": {},
   "cell_type": "markdown",
   "metadata": {},
   "source": [
    "## Execution on larger-than-memory (RAM) data analytics\n",
    "\n",
    "---\n",
    "If your data requires more memory than you have available Polars may be able to process the data in batches using streaming mode. To use streaming mode you simply pass the streaming=True argument to collect\n",
    "\n",
    "```\n",
    "import polars as pl\n",
    "\n",
    "from ..paths import DATA_DIR\n",
    "\n",
    "q5 = (\n",
    "    pl.scan_csv(f\"{DATA_DIR}/reddit.csv\")\n",
    "    .with_columns(pl.col(\"name\").str.to_uppercase())\n",
    "    .filter(pl.col(\"comment_karma\") > 0)\n",
    "    .collect(streaming=True)\n",
    ")\n",
    "```\n",
    "\n",
    "Execution on a partial dataset\n",
    "\n",
    "While you're writing, optimizing or checking your query on a large dataset, querying all available data may lead to a slow development process.\n",
    "\n",
    "You can instead execute the query with the .fetch method. The .fetch method takes a parameter n_rows and tries to 'fetch' that number of rows at the data source. The number of rows cannot be guaranteed, however, as the lazy API does not count how many rows there are at each stage of the query.\n",
    "\n",
    "Here we \"fetch\" 100 rows from the source file and apply the predicates.\n",
    "\n",
    "```\n",
    "import polars as pl\n",
    "\n",
    "from ..paths import DATA_DIR\n",
    "\n",
    "q9 = (\n",
    "    pl.scan_csv(f\"{DATA_DIR}/reddit.csv\")\n",
    "    .with_columns(pl.col(\"name\").str.to_uppercase())\n",
    "    .filter(pl.col(\"comment_karma\") > 0)\n",
    "    .fetch(n_rows=int(100))\n",
    ")\n",
    "```\n",
    "\n",
    "- TODO: cover streaming topic\n",
    "- TODO: cover sinking to a a file\n",
    "- TODO: all topics from Lazy API Chapter"
   ]
  },
  {
   "cell_type": "markdown",
   "metadata": {},
   "source": []
  },
  {
   "attachments": {},
   "cell_type": "markdown",
   "metadata": {},
   "source": [
    "## Query Optimization\n",
    "---\n",
    "\n",
    "`df.describe_optimized_plan()`"
   ]
  },
  {
   "cell_type": "markdown",
   "metadata": {},
   "source": []
  }
 ],
 "metadata": {
  "kernelspec": {
   "display_name": "RPA",
   "language": "python",
   "name": "python3"
  },
  "language_info": {
   "codemirror_mode": {
    "name": "ipython",
    "version": 3
   },
   "file_extension": ".py",
   "mimetype": "text/x-python",
   "name": "python",
   "nbconvert_exporter": "python",
   "pygments_lexer": "ipython3",
   "version": "3.11.2"
  },
  "orig_nbformat": 4
 },
 "nbformat": 4,
 "nbformat_minor": 2
}
