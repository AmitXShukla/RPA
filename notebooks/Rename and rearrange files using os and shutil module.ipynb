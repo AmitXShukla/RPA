{
 "cells": [
  {
   "attachments": {},
   "cell_type": "markdown",
   "id": "65c62a77-2e9a-4109-8567-de6abc73ab6f",
   "metadata": {},
   "source": [
    "## Rename and Re-arrange files using os and shutil modules\n",
    "\n",
    "In this notebook, we will learn basics of os & shutils module to work with file and directory management tasks.\n",
    "These modules are part of standard library and doesn't require any specific pip installation, however these modules needs to be imported before use.\n",
    "\n",
    "The os (Operating System Interface) module provides dozens of functions for interacting with the operating system and when worked with os module, provide some very meaningful interface to work with os files and directories.\n",
    "\n",
    "In this notebook, we will perform following tasks.\n",
    "\n",
    "using os and shutil modules:\n",
    "\n",
    "\n",
    "- define directory and content you want to re-arrange\n",
    "- write code to move and rename files across folders\n",
    "- test on csv\n",
    "- test on .txt\n",
    "- learn os and shutils functions\n",
    "\n",
    "`To search-and-replace over a large number of text files, please refer to this notebook.`\n",
    "[search-and-replace over a large number of text files](https://github.com/AmitXShukla/RPA/blob/main/notebooks/Search%20and%20replace%20over%20a%20large%20number%20of%20text%20files.ipynb)"
   ]
  },
  {
   "cell_type": "code",
   "execution_count": null,
   "id": "03b10970-a8f7-4b08-b34d-2331caec72f3",
   "metadata": {
    "tags": []
   },
   "outputs": [],
   "source": [
    "################################\n",
    "# create RPA Virtual environment\n",
    "################################\n",
    "# py -m venv RPA\n",
    "# RPA\\Scripts\\activate.bat\n",
    "# import sys\n",
    "# sys.path\n",
    "# py -m pip --version\n",
    "################################\n",
    "## MAKE SURE these packages\n",
    "## are installed\n",
    "################################\n",
    "# #NA\n",
    "################################"
   ]
  },
  {
   "cell_type": "code",
   "execution_count": null,
   "id": "acbf6f94-c877-4918-9610-c21de5710473",
   "metadata": {
    "tags": []
   },
   "outputs": [],
   "source": [
    "import os\n",
    "os.listdir(\"../SampleData/Finance\")"
   ]
  },
  {
   "cell_type": "code",
   "execution_count": null,
   "id": "4548fa2b",
   "metadata": {},
   "outputs": [],
   "source": [
    "# os.getlogin()\n",
    "# os.getenv(\"JULIA_PROJECT\")\n",
    "# os.getcwd()\n",
    "# os.mkdir(\"Test\")\n",
    "# os.listdir(\".\")\n",
    "# os.listdir(\"./Test/\")\n",
    "# os.removedirs(\"Test\")\n",
    "# os.rmdir(\"Test\")\n",
    "# os.stat()\n",
    "# os.listdir(\"../\")\n",
    "# os.stat(\"../README.md\")\n",
    "# os.stat(\"../README.md\").st_ctime\n",
    "# import time\n",
    "# time.ctime(os.stat(\"../README.md\").st_ctime)"
   ]
  },
  {
   "cell_type": "code",
   "execution_count": null,
   "id": "58fcb376",
   "metadata": {},
   "outputs": [],
   "source": [
    "import shutil as sh"
   ]
  },
  {
   "cell_type": "code",
   "execution_count": null,
   "id": "130a7111",
   "metadata": {},
   "outputs": [],
   "source": [
    "# sh.__doc__\n",
    "# sh.__all__\n",
    "# sh.chown\n",
    "# sh.copy\n",
    "# sh.copy2\n",
    "# sh.which\n",
    "# sh.copyfile\n",
    "# sh.make_archive\n",
    "# sh.move\n",
    "# sh.disk_usage"
   ]
  },
  {
   "attachments": {},
   "cell_type": "markdown",
   "id": "1a0629b8-d8be-4584-81a4-c0b097624db9",
   "metadata": {},
   "source": [
    "## ChatGPT Generated Code to rename and rearrange files"
   ]
  },
  {
   "cell_type": "code",
   "execution_count": null,
   "id": "adb55a26-6199-4a1c-95f3-0b3fea2c33e0",
   "metadata": {},
   "outputs": [],
   "source": [
    "import os\n",
    "import shutil\n",
    "\n",
    "# Define the directory containing the files\n",
    "\n",
    "# directory = '/path/to/files'\n",
    "directory = '../SampleData/Finance'\n",
    "\n",
    "# Define the file extension we want to work with\n",
    "\n",
    "file_extension = '.csv'\n",
    "\n",
    "# Define the new directory structure we want to create\n",
    "\n",
    "new_directory = '../SampleData/Finance/new/files'\n",
    "\n",
    "# Loop through each file in the directory\n",
    "\n",
    "for filename in os.listdir(directory):\n",
    "    if filename.endswith(file_extension):\n",
    "        # Extract the relevant parts of the filename\n",
    "        parts = filename.split('_')\n",
    "        name = parts[0]\n",
    "        number = parts[1][:-len(file_extension)]\n",
    "\n",
    "        # Construct the new filename and directory structure\n",
    "        new_filename = f'{number}_{name}{file_extension}'\n",
    "        new_subdirectory = os.path.join(new_directory, name)\n",
    "\n",
    "        # Create the new subdirectory if it doesn't exist\n",
    "        os.makedirs(new_subdirectory, exist_ok=True)\n",
    "\n",
    "        # Move the file to the new location with the new filename\n",
    "        shutil.move(os.path.join(directory, filename), os.path.join(new_subdirectory, new_filename))"
   ]
  },
  {
   "cell_type": "code",
   "execution_count": null,
   "id": "346fce30-003c-4c3f-a7d8-9986f1cfdb6e",
   "metadata": {
    "tags": []
   },
   "outputs": [],
   "source": [
    "os.listdir(\"../SampleData/Finance/new/files\")"
   ]
  },
  {
   "cell_type": "raw",
   "id": "7f5e0406-37f9-4680-b3f1-932b2177d067",
   "metadata": {},
   "source": [
    "In this code, we first define the directory containing the files we want to rename and rearrange. We also define the file extension we want to work with (in this case, \".txt\").\n",
    "\n",
    "We then define the new directory structure we want to create for the renamed files.\n",
    "\n",
    "We loop through each file in the directory using the os.listdir function. We only process files with the specified file extension.\n",
    "\n",
    "For each file, we extract the relevant parts of the filename using string manipulation. In this example, we assume that the filename is in the format \"name_number.txt\", where \"name\" and \"number\" are variable parts of the filename. We extract the \"name\" and \"number\" parts of the filename separately.\n",
    "\n",
    "We then construct the new filename and directory structure based on the extracted parts. In this example, we want to rearrange the files so that they are organized by \"name\" in subdirectories, with the filename in the format \"number_name.txt\".\n",
    "\n",
    "We create the new subdirectory if it doesn't already exist using the os.makedirs function with the exist_ok=True argument. We then move the file to the new location with the new filename using the shutil.move function."
   ]
  }
 ],
 "metadata": {
  "kernelspec": {
   "display_name": "Python 3 (ipykernel)",
   "language": "python",
   "name": "python3"
  },
  "language_info": {
   "codemirror_mode": {
    "name": "ipython",
    "version": 3
   },
   "file_extension": ".py",
   "mimetype": "text/x-python",
   "name": "python",
   "nbconvert_exporter": "python",
   "pygments_lexer": "ipython3",
   "version": "3.11.2"
  }
 },
 "nbformat": 4,
 "nbformat_minor": 5
}
