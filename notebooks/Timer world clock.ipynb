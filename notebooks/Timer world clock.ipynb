{
 "cells": [
  {
   "cell_type": "code",
   "execution_count": null,
   "metadata": {},
   "outputs": [],
   "source": [
    "- [World clock]\n",
    "Here's some Python code that displays a world clock for different time zones:\n",
    "from datetime import datetime\n",
    "from pytz import timezone\n",
    "\n",
    "# Define the time zones\n",
    "\n",
    "time_zones = [\"America/New_York\", \"Europe/London\", \"Asia/Tokyo\"]\n",
    "\n",
    "# Display the world clock\n",
    "\n",
    "while True:\n",
    "    for tz in time_zones:\n",
    "        time = datetime.now(timezone(tz))\n",
    "        print(\"{}: {}\".format(tz, time.strftime(\"%Y-%m-%d %H:%M:%S\")))\n",
    "    print(\"--------------------------------------------------\")\n",
    "    time.sleep(1)\n",
    "\n",
    "In this code, we first import the datetime and pytz modules. We then define the time zones that we want to display in a list.\n",
    "\n",
    "Inside the while loop, we iterate over each time zone in the time_zones list. We get the current time for that time zone using the datetime.now() function and passing in the timezone() function with the time zone as an argument.\n",
    "\n",
    "We then format the time using the strftime() function and print it to the console along with the time zone.\n",
    "\n",
    "We then print a line of dashes to separate each time zone and pause the program execution for 1 second using the time.sleep() function. This loop will continue running until the program is terminated."
   ]
  }
 ],
 "metadata": {
  "language_info": {
   "name": "python"
  },
  "orig_nbformat": 4
 },
 "nbformat": 4,
 "nbformat_minor": 2
}
