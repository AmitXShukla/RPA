{
 "cells": [
  {
   "attachments": {},
   "cell_type": "markdown",
   "metadata": {},
   "source": [
    "## Building ETL Datawarehouse and ELT Data Lake\n",
    "\n",
    "In this Blog, we will use Python Polars DataFrame to build a complete ETL Datawarehouse and ELT Data Lake\n",
    "\n",
    "This ETL Datawarehouse and ELT Data lake built in Polars and Parquet will outperform any market tools available in speed and accuracy.\n",
    "\n",
    "End of this blog, you will be able to create\n",
    "- A complete star schema based Facts, Dimension tables\n",
    "- Data Extract strategy\n",
    "- Time based, or Key based CDC logic data refresh\n",
    "- Data Loading stragegy based on Incremental logic\n",
    "- Disaster Recovery plan\n",
    "- ELT Data Lake with searchable documents"
   ]
  }
 ],
 "metadata": {
  "language_info": {
   "name": "python"
  },
  "orig_nbformat": 4
 },
 "nbformat": 4,
 "nbformat_minor": 2
}
