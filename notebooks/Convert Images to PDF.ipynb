{
 "cells": [
  {
   "cell_type": "markdown",
   "id": "ccc6d627-bd37-4076-b27e-82b9e62820d4",
   "metadata": {},
   "source": [
    "## Convert Images to PDF\n",
    "---"
   ]
  },
  {
   "cell_type": "raw",
   "id": "89ca6c72-3a3d-40b5-9d87-2b4463506e30",
   "metadata": {},
   "source": [
    "################################\n",
    "# create RPA Virtual environment\n",
    "################################\n",
    "# py -m venv RPA\n",
    "# RPA\\Scripts\\activate.bat\n",
    "# import sys\n",
    "# sys.path\n",
    "# py -m pip --version\n",
    "\n",
    "############################################\n",
    "## MAKE SURE these packages are installed ##\n",
    "############################################\n",
    "# pip install PIL\n",
    "# pip install pathlib\n",
    "################################"
   ]
  },
  {
   "cell_type": "code",
   "execution_count": null,
   "id": "fbd5e2b4-d10e-402a-b77e-7728b8900b26",
   "metadata": {},
   "outputs": [],
   "source": [
    "from PIL import Image\n",
    "from pathlib import Path\n",
    "\n",
    "def convert_images_to_pdf(images, output_file):\n",
    "    \"\"\"\n",
    "    Convert a list of images to a PDF file.\n",
    "\n",
    "    Args:\n",
    "        images (list): A list of file paths to the images to be converted.\n",
    "        output_file (str): The file path to save the output PDF file to.\n",
    "    \"\"\"\n",
    "    # Create a new PIL Image object with the first image\n",
    "    first_image = Image.open(images[0])\n",
    "\n",
    "    # Create a new PDF file with the same dimensions as the first image\n",
    "    pdf_file = Image.new('RGB', first_image.size)\n",
    "\n",
    "    # Iterate over each image and add it to the PDF file\n",
    "    for image_path in images:\n",
    "        # Open the image and resize it to fit the PDF file size\n",
    "        image = Image.open(image_path)\n",
    "        image = image.resize(first_image.size)\n",
    "\n",
    "        # Add the resized image to the PDF file\n",
    "        pdf_file.paste(image)\n",
    "\n",
    "    # Save the PDF file\n",
    "    pdf_file.save(output_file)\n",
    "\n",
    "# Example usage\n",
    "images = [\"SampleData/Amit_TestQRcode.png\"]\n",
    "output_file = \"SampleData/output.pdf\"\n",
    "convert_images_to_pdf(images, output_file)"
   ]
  },
  {
   "cell_type": "raw",
   "id": "8ad99d1f-5e89-4083-a6ab-fbf1aef7eb75",
   "metadata": {},
   "source": [
    "In this code, we define a function called convert_images_to_pdf that takes a list of image file paths and an output file path as arguments, and converts the images to a single PDF file.\n",
    "\n",
    "The function first opens the first image in the list using the PIL.Image.open() method, and creates a new PIL Image object with the same dimensions. It then iterates over each image in the list, opens it using the same method, resizes it to fit the dimensions of the first image, and adds it to the PDF file using the PIL.Image.paste() method.\n",
    "\n",
    "Finally, the function saves the PDF file to the specified output file path using the PIL.Image.save() method.\n",
    "\n",
    "We can then call the convert_images_to_pdf function with example data, passing in a list of image file paths and an output file path, to convert the images to a single PDF file."
   ]
  }
 ],
 "metadata": {
  "kernelspec": {
   "display_name": "Python 3 (ipykernel)",
   "language": "python",
   "name": "python3"
  },
  "language_info": {
   "codemirror_mode": {
    "name": "ipython",
    "version": 3
   },
   "file_extension": ".py",
   "mimetype": "text/x-python",
   "name": "python",
   "nbconvert_exporter": "python",
   "pygments_lexer": "ipython3",
   "version": "3.11.2"
  }
 },
 "nbformat": 4,
 "nbformat_minor": 5
}
