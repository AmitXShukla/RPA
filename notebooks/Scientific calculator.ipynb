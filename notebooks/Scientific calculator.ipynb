{
 "cells": [
  {
   "cell_type": "markdown",
   "id": "2896f95d-82e0-49bb-afcb-2b6a0ddf44a9",
   "metadata": {
    "tags": []
   },
   "source": [
    "## write code for Scientific calculator\n",
    "---"
   ]
  },
  {
   "cell_type": "code",
   "execution_count": 2,
   "id": "17b704dd-2fc4-41fb-8694-b5e77b75a16c",
   "metadata": {
    "tags": []
   },
   "outputs": [],
   "source": [
    "import math\n",
    "\n",
    "def scientific_calculator():\n",
    "    print(\"Welcome to the Scientific Calculator!\")\n",
    "    while True:\n",
    "        print(\"Please select an operation:\")\n",
    "        print(\"1. Addition (+)\")\n",
    "        print(\"2. Subtraction (-)\")\n",
    "        print(\"3. Multiplication (*)\")\n",
    "        print(\"4. Division (/)\")\n",
    "        print(\"5. Exponentiation (x^y)\")\n",
    "        print(\"6. Square root (√)\")\n",
    "        print(\"7. Trigonometric functions (sin, cos, tan)\")\n",
    "        print(\"8. Exit\")\n",
    "\n",
    "        choice = input(\"Enter your choice (1-8): \")\n",
    "\n",
    "        if choice == '1':\n",
    "            num1 = float(input(\"Enter first number: \"))\n",
    "            num2 = float(input(\"Enter second number: \"))\n",
    "            print(\"Result:\", num1 + num2)\n",
    "\n",
    "        elif choice == '2':\n",
    "            num1 = float(input(\"Enter first number: \"))\n",
    "            num2 = float(input(\"Enter second number: \"))\n",
    "            print(\"Result:\", num1 - num2)\n",
    "\n",
    "        elif choice == '3':\n",
    "            num1 = float(input(\"Enter first number: \"))\n",
    "            num2 = float(input(\"Enter second number: \"))\n",
    "            print(\"Result:\", num1 * num2)\n",
    "\n",
    "        elif choice == '4':\n",
    "            num1 = float(input(\"Enter first number: \"))\n",
    "            num2 = float(input(\"Enter second number: \"))\n",
    "            if num2 == 0:\n",
    "                print(\"Error: division by zero\")\n",
    "            else:\n",
    "                print(\"Result:\", num1 / num2)\n",
    "\n",
    "        elif choice == '5':\n",
    "            num1 = float(input(\"Enter the base: \"))\n",
    "            num2 = float(input(\"Enter the exponent: \"))\n",
    "            print(\"Result:\", num1 ** num2)\n",
    "\n",
    "        elif choice == '6':\n",
    "            num = float(input(\"Enter a number: \"))\n",
    "            if num < 0:\n",
    "                print(\"Error: cannot take square root of a negative number\")\n",
    "            else:\n",
    "                print(\"Result:\", math.sqrt(num))\n",
    "\n",
    "        elif choice == '7':\n",
    "            num = float(input(\"Enter the angle in degrees: \"))\n",
    "            print(\"sin(\", num, \") =\", math.sin(math.radians(num)))\n",
    "            print(\"cos(\", num, \") =\", math.cos(math.radians(num)))\n",
    "            print(\"tan(\", num, \") =\", math.tan(math.radians(num)))\n",
    "\n",
    "        elif choice == '8':\n",
    "            print(\"Goodbye!\")\n",
    "            break\n",
    "\n",
    "        else:\n",
    "            print(\"Invalid choice. Please try again.\")\n",
    "\n"
   ]
  },
  {
   "cell_type": "raw",
   "id": "d654844d-232d-401a-8535-61c6bc07513c",
   "metadata": {},
   "source": [
    "To start the calculator, simply call the scientific_calculator() function. It will prompt the user to select an operation and enter the necessary inputs, and will continue until the user chooses to exit. The math module is used to perform the scientific calculations."
   ]
  },
  {
   "cell_type": "code",
   "execution_count": null,
   "id": "0dafd5b9-a7e3-4fc8-9989-21cd39699f1f",
   "metadata": {},
   "outputs": [
    {
     "name": "stdout",
     "output_type": "stream",
     "text": [
      "Welcome to the Scientific Calculator!\n",
      "Please select an operation:\n",
      "1. Addition (+)\n",
      "2. Subtraction (-)\n",
      "3. Multiplication (*)\n",
      "4. Division (/)\n",
      "5. Exponentiation (x^y)\n",
      "6. Square root (√)\n",
      "7. Trigonometric functions (sin, cos, tan)\n",
      "8. Exit\n"
     ]
    },
    {
     "name": "stdin",
     "output_type": "stream",
     "text": [
      "Enter your choice (1-8):  5\n",
      "Enter the base:  4\n",
      "Enter the exponent:  3\n"
     ]
    },
    {
     "name": "stdout",
     "output_type": "stream",
     "text": [
      "Result: 64.0\n",
      "Please select an operation:\n",
      "1. Addition (+)\n",
      "2. Subtraction (-)\n",
      "3. Multiplication (*)\n",
      "4. Division (/)\n",
      "5. Exponentiation (x^y)\n",
      "6. Square root (√)\n",
      "7. Trigonometric functions (sin, cos, tan)\n",
      "8. Exit\n"
     ]
    }
   ],
   "source": [
    "scientific_calculator()"
   ]
  },
  {
   "cell_type": "code",
   "execution_count": null,
   "id": "2c122d79-2076-4576-a0fe-9e8c7c185b13",
   "metadata": {},
   "outputs": [],
   "source": []
  }
 ],
 "metadata": {
  "kernelspec": {
   "display_name": "Python 3 (ipykernel)",
   "language": "python",
   "name": "python3"
  },
  "language_info": {
   "codemirror_mode": {
    "name": "ipython",
    "version": 3
   },
   "file_extension": ".py",
   "mimetype": "text/x-python",
   "name": "python",
   "nbconvert_exporter": "python",
   "pygments_lexer": "ipython3",
   "version": "3.11.2"
  }
 },
 "nbformat": 4,
 "nbformat_minor": 5
}
