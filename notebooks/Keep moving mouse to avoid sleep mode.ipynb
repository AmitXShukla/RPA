{
 "cells": [
  {
   "cell_type": "markdown",
   "id": "3d8cfd96-e525-4fce-b179-79b1f0c07661",
   "metadata": {
    "tags": []
   },
   "source": [
    "## Keep moving mouse to avoid sleep mode\n",
    "Python code that uses the pyautogui module to move the mouse cursor at regular intervals to prevent the system from entering sleep mode:"
   ]
  },
  {
   "cell_type": "code",
   "execution_count": null,
   "id": "c32f6339-6913-4d38-bdf8-72feb014fff7",
   "metadata": {},
   "outputs": [],
   "source": [
    "import pyautogui\n",
    "import time\n",
    "\n",
    "# Set the interval for moving the mouse cursor\n",
    "\n",
    "interval = 60  # in seconds\n",
    "\n",
    "# Keep moving the mouse cursor at the set interval\n",
    "\n",
    "while True:\n",
    "    pyautogui.moveRel(1, 0, duration=0.25)\n",
    "    pyautogui.moveRel(-1, 0, duration=0.25)\n",
    "    time.sleep(interval)"
   ]
  },
  {
   "cell_type": "raw",
   "id": "ac854813-0eb3-4e18-9a87-96458c07e2a7",
   "metadata": {},
   "source": [
    "In this code, we use the pyautogui module to move the mouse cursor one pixel to the right and then back to its original position at an interval of 60 seconds. This movement is small enough to not be noticeable, but frequent enough to prevent the system from entering sleep mode.\n",
    "\n",
    "The pyautogui.moveRel() function moves the mouse cursor relative to its current position by the specified number of pixels. The duration parameter specifies the time taken to complete the movement.\n",
    "\n",
    "We then use the time.sleep() function to pause the program execution for the specified interval. This loop will continue running until the program is terminated."
   ]
  }
 ],
 "metadata": {
  "kernelspec": {
   "display_name": "Python 3 (ipykernel)",
   "language": "python",
   "name": "python3"
  },
  "language_info": {
   "codemirror_mode": {
    "name": "ipython",
    "version": 3
   },
   "file_extension": ".py",
   "mimetype": "text/x-python",
   "name": "python",
   "nbconvert_exporter": "python",
   "pygments_lexer": "ipython3",
   "version": "3.11.2"
  }
 },
 "nbformat": 4,
 "nbformat_minor": 5
}
