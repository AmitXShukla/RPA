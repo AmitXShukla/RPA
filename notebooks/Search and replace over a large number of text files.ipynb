{
 "cells": [
  {
   "cell_type": "markdown",
   "id": "b1c69aa8-e081-4d54-a13f-6861d84a9004",
   "metadata": {},
   "source": [
    "## search-and-replace over a large number of text files\n",
    "\n",
    "Here's some Python code that demonstrates how to search-and-replace over a large number of text files using the built-in os and re modules:"
   ]
  },
  {
   "cell_type": "code",
   "execution_count": null,
   "id": "0362ff62-f70f-42e4-8e73-a2351313a18c",
   "metadata": {},
   "outputs": [],
   "source": [
    "import os\n",
    "import re\n",
    "\n",
    "# Define the directory containing the text files\n",
    "\n",
    "directory = '/path/to/text/files'\n",
    "\n",
    "# Define the search pattern and replacement text\n",
    "\n",
    "search_pattern = r'hello'\n",
    "replacement_text = 'hi'\n",
    "\n",
    "# Loop through each file in the directory\n",
    "\n",
    "for filename in os.listdir(directory):\n",
    "    if filename.endswith('.txt'):\n",
    "        # Read in the text file\n",
    "        with open(os.path.join(directory, filename), 'r') as file:\n",
    "            text = file.read()\n",
    "\n",
    "        # Perform the search-and-replace using a regular expression\n",
    "        updated_text = re.sub(search_pattern, replacement_text, text)\n",
    "\n",
    "        # Write the updated text back to the file\n",
    "        with open(os.path.join(directory, filename), 'w') as file:\n",
    "            file.write(updated_text)"
   ]
  },
  {
   "cell_type": "raw",
   "id": "ee9c10e4-eba2-4578-ab53-48aa9351c5a2",
   "metadata": {},
   "source": [
    "In this code, we first define the directory containing the text files we want to search-and-replace over. We then define the search pattern we want to look for (in this case, the word \"hello\") and the replacement text we want to use (in this case, the word \"hi\").\n",
    "\n",
    "We then loop through each file in the directory using the os.listdir function. We only process files with a \".txt\" extension, but you can modify this to match the specific file types you are working with.\n",
    "\n",
    "For each text file, we read in its contents using the open function and the with statement. We then perform the search-and-replace using the re.sub function, which takes the search pattern, replacement text, and input text as arguments. The result of this function call is the updated text.\n",
    "\n",
    "Finally, we write the updated text back to the file using the open function and the with statement. Note that we use the 'w' mode to open the file for writing, which overwrites any existing content in the file. If you want to append to the file instead, you can use the 'a' mode instead."
   ]
  }
 ],
 "metadata": {
  "kernelspec": {
   "display_name": "Python 3 (ipykernel)",
   "language": "python",
   "name": "python3"
  },
  "language_info": {
   "codemirror_mode": {
    "name": "ipython",
    "version": 3
   },
   "file_extension": ".py",
   "mimetype": "text/x-python",
   "name": "python",
   "nbconvert_exporter": "python",
   "pygments_lexer": "ipython3",
   "version": "3.11.2"
  }
 },
 "nbformat": 4,
 "nbformat_minor": 5
}
