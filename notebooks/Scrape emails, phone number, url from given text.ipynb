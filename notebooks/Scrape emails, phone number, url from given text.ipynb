{
 "cells": [
  {
   "attachments": {},
   "cell_type": "markdown",
   "id": "90fa9eca-e5ce-4f02-afa6-d11f45b62f5a",
   "metadata": {},
   "source": [
    "## Scrape text and emails, phone numbers, urls links from webpage\n",
    "---\n",
    "\n",
    "This tutorial will demonstrate how to read text from a web page using Python beautifulsoup4 module.\n",
    "\n",
    "Frequently, we need to read and store dynamic content from web pages.\n",
    "\n",
    "The tutorial will cover the following:\n",
    "\n",
    "- Downloading content from web pages\n",
    "- read web text and write functions to retrieve urls, emails and phone numbers\n",
    "---\n",
    "\n",
    "`Disclaimer: Please note that this code may not function as intended on websites where JavaScript is disabled or in cases where it is not permissible to download copyrighted content without explicit consent.`"
   ]
  },
  {
   "cell_type": "code",
   "execution_count": null,
   "id": "5c4a8857-238b-447a-8279-d12992f984eb",
   "metadata": {},
   "outputs": [],
   "source": [
    "################################\n",
    "# create RPA Virtual environment\n",
    "################################\n",
    "# py -m venv RPA\n",
    "# RPA\\Scripts\\activate.bat\n",
    "# import sys\n",
    "# sys.path\n",
    "# py -m pip --version\n",
    "\n",
    "############################################\n",
    "## MAKE SURE these packages are installed ##\n",
    "############################################\n",
    "# py -m pip install beautifulsoup4\n",
    "################################"
   ]
  },
  {
   "attachments": {},
   "cell_type": "markdown",
   "id": "a382d8ff",
   "metadata": {},
   "source": [
    "## ChatGPT generated code"
   ]
  },
  {
   "cell_type": "code",
   "execution_count": null,
   "id": "2ed4697a-e843-4746-8190-dd97737981ab",
   "metadata": {},
   "outputs": [],
   "source": [
    "import re\n",
    "\n",
    "text = \"\"\"Lorem ipsum dolor sit amet, \n",
    "consectetur adipiscing elit. \n",
    "Pellentesque consequat dui vitae purus bibendum convallis. \n",
    "Nulla facilisi. Suspendisse potenti. \n",
    "Aliquam nec mauris vitae augue ultricies \n",
    "pulvinar. Nunc ac lectus purus. Donec et eleifend lorem. \n",
    "Aliquam erat volutpat. Sed imperdiet \n",
    "lacus sed sem feugiat convallis. \n",
    "Nam rhoncus nunc ac risus tincidunt aliquet. \n",
    "Mauris luctus mi quis ex eleifend, \n",
    "vel molestie enim rhoncus. \n",
    "Pellentesque habitant morbi tristique \n",
    "senectus et netus et malesuada fames ac turpis egestas.\n",
    "\n",
    "Email: info@example.com\n",
    "Phone: +1 (555) 555-5555\n",
    "Website: https://www.example.com\"\"\"\n",
    "\n",
    "# Extract email addresses\n",
    "emails = re.findall(r\"\\b[A-Za-z0-9._%+-]+@[A-Za-z0-9.-]+\\.[A-Z|a-z]{2,}\\b\", text)\n",
    "print(\"Emails:\", emails)\n",
    "\n",
    "# Extract phone numbers\n",
    "phone_numbers = re.findall(r\"\\+?\\d{1,3}[-.\\s]?\\(?\\d{3}\\)?[-.\\s]?\\d{3}[-.\\s]?\\d{4}\", text)\n",
    "print(\"Phone Numbers:\", phone_numbers)\n",
    "\n",
    "# Extract URLs\n",
    "urls = re.findall(r\"(?P<url>https?://[^\\s]+)\", text)\n",
    "print(\"URLs:\", urls)"
   ]
  },
  {
   "cell_type": "markdown",
   "id": "a247c559-0d63-44aa-a9d2-abf12cfe2250",
   "metadata": {
    "tags": []
   },
   "source": [
    "This code uses regular expressions to search for patterns in the text that match email addresses, phone numbers, and URLs. The re.findall() function is used to find all matches of each pattern in the text, and the results are printed to the console.\n",
    "\n",
    "Note that these regular expressions are not perfect and may not match all possible email addresses, phone numbers, or URLs. You may need to adjust the regular expressions to suit your specific needs."
   ]
  }
 ],
 "metadata": {
  "kernelspec": {
   "display_name": "Python 3 (ipykernel)",
   "language": "python",
   "name": "python3"
  },
  "language_info": {
   "codemirror_mode": {
    "name": "ipython",
    "version": 3
   },
   "file_extension": ".py",
   "mimetype": "text/x-python",
   "name": "python",
   "nbconvert_exporter": "python",
   "pygments_lexer": "ipython3",
   "version": "3.11.2"
  }
 },
 "nbformat": 4,
 "nbformat_minor": 5
}
