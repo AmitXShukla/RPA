{
 "cells": [
  {
   "cell_type": "code",
   "execution_count": null,
   "metadata": {},
   "outputs": [],
   "source": [
    "import pandas as pd\n",
    "\n",
    "df = pd.DataFrame({\n",
    "    'parent': [1,1,1,1,1,1,1,1,1,1,1,1,1,1,1,1,4882812,4882812,4882812,4882812,4882812,4882812,4882812,4882812,4882812,4882812,\n",
    "                4943847,4943847,4943847,4943847,4943847,4943847],\n",
    "    'child': [488282,976563,1953125,3906250,4150390,4394531,4882812,5859375,7812500,15625000,31250000,62500000,125000000,500000000,1000000000,250000000,4883765,4884719,4886626,4890441,4898070,4913329,4943847,5004882,5126952,5371093,\n",
    "              4944800,4945754,4947661,4951476,4959105,4974364]\n",
    "})\n",
    "df.shape"
   ]
  },
  {
   "attachments": {},
   "cell_type": "markdown",
   "metadata": {},
   "source": [
    "## how to flatten a tree\n",
    "\n",
    "## how to pick latest effdt | self join row from all records"
   ]
  },
  {
   "cell_type": "code",
   "execution_count": null,
   "metadata": {},
   "outputs": [],
   "source": [
    "pip install networkx"
   ]
  },
  {
   "cell_type": "code",
   "execution_count": null,
   "metadata": {},
   "outputs": [],
   "source": [
    "import networkx as nx\n",
    "\n",
    "\n",
    "g=nx.DiGraph()\n",
    "g.add_edges_from(df[['parent', 'child']].to_records(index=False))\n",
    "\n",
    "from networkx.algorithms.traversal.depth_first_search import dfs_tree\n",
    "\n",
    "x = dfs_tree(g, 1)\n",
    "x.edges()\n"
   ]
  },
  {
   "cell_type": "code",
   "execution_count": null,
   "metadata": {},
   "outputs": [],
   "source": [
    "def get_descendants(parent):\n",
    "    descendants = list(dfs_tree(g, parent).edges())\n",
    "    return [x[1] for x in descendants]"
   ]
  },
  {
   "cell_type": "code",
   "execution_count": null,
   "metadata": {},
   "outputs": [],
   "source": [
    "df[\"descendants\"] = df[\"parent\"].apply(get_descendants)\n",
    "# df.to_csv(\"newfile.csv\", sep='\\t', encoding='utf-8')\n",
    "df"
   ]
  },
  {
   "cell_type": "code",
   "execution_count": null,
   "metadata": {},
   "outputs": [],
   "source": [
    "dfT = pd.read_csv(\"C:\\\\Users\\\\L569915\\\\Downloads\\\\KP_ORG_BC_TREE.csv\")\n",
    "dfT.head()"
   ]
  },
  {
   "cell_type": "code",
   "execution_count": null,
   "metadata": {},
   "outputs": [],
   "source": [
    "import networkx as nx\n",
    "\n",
    "\n",
    "g=nx.DiGraph()\n",
    "g.add_edges_from(dfT[['PARENT_NODE_NUM', 'TREE_NODE_NUM']].to_records(index=False))\n",
    "\n",
    "from networkx.algorithms.traversal.depth_first_search import dfs_tree\n",
    "\n",
    "x = dfs_tree(g, 1)\n",
    "x.edges()"
   ]
  },
  {
   "cell_type": "code",
   "execution_count": null,
   "metadata": {},
   "outputs": [],
   "source": [
    "def get_descendants(parent):\n",
    "    descendants = list(dfs_tree(g, parent).edges())\n",
    "    return [x[1] for x in descendants]"
   ]
  },
  {
   "cell_type": "code",
   "execution_count": null,
   "metadata": {},
   "outputs": [],
   "source": [
    "dfT[\"descendants\"] = dfT[\"PARENT_NODE_NUM\"].apply(get_descendants)\n",
    "# dfT.to_csv(\"newfile.csv\", sep=',', encoding='utf-8')\n",
    "# len(dfT.descendants[0])\n",
    "dfT.descendants"
   ]
  }
 ],
 "metadata": {
  "language_info": {
   "name": "python"
  },
  "orig_nbformat": 4
 },
 "nbformat": 4,
 "nbformat_minor": 2
}
