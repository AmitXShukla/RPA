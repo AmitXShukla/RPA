{
 "cells": [
  {
   "cell_type": "code",
   "execution_count": null,
   "metadata": {},
   "outputs": [],
   "source": [
    "- [Boxing match timer for 10 rounds 3 mins each with 2 min break]\n",
    "Here's some Python code that implements a boxing match timer for 10 rounds, each 3 minutes long with a 2-minute break between rounds:\n",
    "import time\n",
    "\n",
    "rounds = 10  # Number of rounds in the match\n",
    "round_length = 3 *60  # Length of each round in seconds\n",
    "break_length = 2* 60  # Length of break between rounds in seconds\n",
    "\n",
    "for i in range(1, rounds + 1):\n",
    "    print(f\"Round {i} starts now!\")\n",
    "    for j in range(round_length, 0, -1):\n",
    "        minutes, seconds = divmod(j, 60)\n",
    "        time_left = f\"{minutes:02d}:{seconds:02d}\"\n",
    "        print(f\"Time left: {time_left}\", end=\"\\r\")\n",
    "        time.sleep(1)\n",
    "    print(\"\\nRound over!\")\n",
    "    if i != rounds:\n",
    "        for j in range(break_length, 0, -1):\n",
    "            minutes, seconds = divmod(j, 60)\n",
    "            time_left = f\"{minutes:02d}:{seconds:02d}\"\n",
    "            print(f\"Break time left: {time_left}\", end=\"\\r\")\n",
    "            time.sleep(1)\n",
    "        print(\"\\nBreak over!\")\n",
    "\n",
    "print(\"Match over!\")\n",
    "\n",
    "In this code, we first define the number of rounds in the match (rounds), the length of each round in seconds (round_length), and the length of the break between rounds in seconds (break_length).\n",
    "\n",
    "We then use a nested loop to iterate through each round and countdown the time for each round and break using the time.sleep() function to pause for one second between each second.\n",
    "\n",
    "For each round, we print a message to the console indicating the start of the round. We then enter the countdown loop and display the time left for the round on the console using the divmod() function to calculate the minutes and seconds remaining.\n",
    "\n",
    "Once the round is over, we print a message to the console and, if there are more rounds left in the match, enter the break countdown loop. We display the time left for the break in the same way as for the round.\n",
    "\n",
    "Finally, once all rounds are over, we print a message indicating the end of the match."
   ]
  }
 ],
 "metadata": {
  "language_info": {
   "name": "python"
  },
  "orig_nbformat": 4
 },
 "nbformat": 4,
 "nbformat_minor": 2
}
