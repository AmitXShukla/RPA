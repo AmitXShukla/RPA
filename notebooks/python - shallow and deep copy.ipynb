{
 "cells": [
  {
   "cell_type": "markdown",
   "id": "90913ab0-6033-4ef2-b9e7-44d06d03e63a",
   "metadata": {},
   "source": [
    "## Python - difference between Shallow and Deep copy\n",
    "\n",
    "---\n",
    "In this notebook, we will learn basic difference between Shallow and Deep Copy.\n",
    "\n",
    "As we are aware, data can mutable or immutable and often is kept in data type to accomodate this behavior.\n",
    "For exaxmple -  constant and tuple data type keep immutable data types and variable hold the data which is mutable i.e. can be changed.\n",
    "\n",
    "Let's start with some basics.\n",
    "\n",
    "---\n",
    "\n",
    "A Variable is nothing but a notation which keeps the address of a value stored somewhere in computer memory."
   ]
  },
  {
   "cell_type": "code",
   "execution_count": 66,
   "id": "26f0f7bc-beb1-4995-8985-a98550f8c10f",
   "metadata": {
    "tags": []
   },
   "outputs": [],
   "source": [
    "x = 3\n",
    "y = 4\n",
    "z = \"amit\"\n",
    "kk = y  # kopy kat spelled wrong"
   ]
  },
  {
   "cell_type": "code",
   "execution_count": 67,
   "id": "0be94f23-8116-47e2-aab2-016b459b15e5",
   "metadata": {
    "tags": []
   },
   "outputs": [
    {
     "name": "stdout",
     "output_type": "stream",
     "text": [
      "x= 3, y = 4, kk = 4 and person who defined x, y, z & kk is amit\n",
      "meomory location of these variables are: 140733662950248,140733662950280,140733662950280,3214606551088\n"
     ]
    }
   ],
   "source": [
    "print(f\"x= {x}, y = {y}, kk = {kk} and person who defined x, y, z & kk is {z}\")\n",
    "# store & print memory location addresses\n",
    "m1 = {\"x\":id(x), \"y\":id(y), \"kk\":id(kk), \"z\":id(z)}\n",
    "print(f\"meomory location of these variables are: {m1['x']},{m1['y']},{m1['kk']},{m1['z']}\")"
   ]
  },
  {
   "cell_type": "markdown",
   "id": "eb4b3166-59e1-4246-9ec6-10c4f24e7455",
   "metadata": {},
   "source": [
    "So x, y and z are variables keep values of type int & string at some memory location."
   ]
  },
  {
   "cell_type": "code",
   "execution_count": 68,
   "id": "88cdabfd-98fe-405f-a98b-ebd0c2258170",
   "metadata": {
    "tags": []
   },
   "outputs": [
    {
     "name": "stdout",
     "output_type": "stream",
     "text": [
      "x= 3, y = 5, kk = 4 and person who defined x, y, z & kk is Amit Shukla\n",
      "BEFORE: meomory location of these variables are: 140733662950248,140733662950280,140733662950280,3214606551088\n",
      "AFTER : meomory location of these variables are: 140733662950248,140733662950312,140733662950280,3214633998192\n"
     ]
    }
   ],
   "source": [
    "# let's change y and z\n",
    "y = 5\n",
    "z = \"Amit Shukla\"\n",
    "print(f\"x= {x}, y = {y}, kk = {kk} and person who defined x, y, z & kk is {z}\")\n",
    "# print memory location addresses\n",
    "m2 = {\"x\":id(x), \"y\":id(y), \"kk\":id(kk), \"z\":id(z)}\n",
    "print(f\"BEFORE: meomory location of these variables are: {m1['x']},{m1['y']},{m1['kk']},{m1['z']}\")\n",
    "print(f\"AFTER : meomory location of these variables are: {m2['x']},{m2['y']},{m2['kk']},{m2['z']}\")"
   ]
  },
  {
   "cell_type": "markdown",
   "id": "87737786-7de8-48f8-b624-e92f58575107",
   "metadata": {},
   "source": [
    "notice, as y & z changes, these variances are assigned new memory locations but kk retain old memory location.\n",
    "If you are coming from C/C++ background, you will see, this is not real memory pointer assignment.\n",
    "\n",
    "In Python, when you re-assign or copy a valriable value to another variable, it's technically a new location and new object residing at computer memory.\n",
    "\n",
    "---\n",
    "let's make this bit more complicated and see this behavior for << list >> objects."
   ]
  },
  {
   "cell_type": "code",
   "execution_count": 69,
   "id": "4977026e-2eec-4613-8b71-7e60ad012811",
   "metadata": {
    "tags": []
   },
   "outputs": [
    {
     "name": "stdout",
     "output_type": "stream",
     "text": [
      "x= [1, 3, 5, 7, 9], y = [10, 2, 4, 6, 8], kk = [10, 2, 4, 6, 8] and person who defined x, y, z & kk is ['amit', 'shukla']\n",
      "meomory location of these variables are: 3214634000192,3214634000640,3214634000640,3214633996480\n"
     ]
    }
   ],
   "source": [
    "x = [1, 3, 5, 7, 9]\n",
    "y = [10, 2, 4, 6, 8]\n",
    "z = [\"amit\", \"shukla\"]\n",
    "kk = y  # kopy kat spelled wrong\n",
    "print(f\"x= {x}, y = {y}, kk = {kk} and person who defined x, y, z & kk is {z}\")\n",
    "# store & print memory location addresses\n",
    "m3 = {\"x\":id(x), \"y\":id(y), \"kk\":id(kk), \"z\":id(z)}\n",
    "print(f\"meomory location of these variables are: {m3['x']},{m3['y']},{m3['kk']},{m3['z']}\")"
   ]
  },
  {
   "cell_type": "code",
   "execution_count": 70,
   "id": "6ee043d3-cbf4-4525-99cf-29c0ec5c62e5",
   "metadata": {
    "tags": []
   },
   "outputs": [
    {
     "name": "stdout",
     "output_type": "stream",
     "text": [
      "BEFORE: meomory location of these variables are: 3214634000192,3214634000640,3214634000640,3214633996480\n",
      "AFTER : meomory location of these variables are: 3214634000192,140733662950312,3214634000640,3214633737008\n"
     ]
    }
   ],
   "source": [
    "# let's change y and z\n",
    "y = 5\n",
    "z = \"Amit Shukla\"\n",
    "# print memory location addresses\n",
    "m4 = {\"x\":id(x), \"y\":id(y), \"kk\":id(kk), \"z\":id(z)}\n",
    "print(f\"BEFORE: meomory location of these variables are: {m3['x']},{m3['y']},{m3['kk']},{m3['z']}\")\n",
    "print(f\"AFTER : meomory location of these variables are: {m4['x']},{m4['y']},{m4['kk']},{m4['z']}\")"
   ]
  },
  {
   "cell_type": "markdown",
   "id": "b0ff59fe-3af2-4fdf-b4e6-0bb37fbfe052",
   "metadata": {},
   "source": [
    "This was not totally fair assessment because we changed data type while re-assinging values. \n",
    "We are dealing with lists here not single values.\n",
    "\n",
    "so let's re-do it, while changing only elements in list."
   ]
  },
  {
   "cell_type": "code",
   "execution_count": 5,
   "id": "9541b8bd-a88c-418a-97cf-18215b1fc848",
   "metadata": {
    "tags": []
   },
   "outputs": [
    {
     "name": "stdout",
     "output_type": "stream",
     "text": [
      "BEFORE: meomory location of these variables are: 2251971523520,2251971510464,2251971510464,2251971524160\n",
      "AFTER : meomory location of these variables are: 2251971523520,2251971510464,2251971510464,2251971523264\n",
      "y = [0, 2, 4, 6, 8] and kk = [0, 2, 4, 6, 8]\n"
     ]
    }
   ],
   "source": [
    "x = [1, 3, 5, 7, 9]\n",
    "y = [10, 2, 4, 6, 8]\n",
    "z = [\"amit\", \"shukla\"]\n",
    "kk = y  # kopy kat spelled wrong\n",
    "m5 = {\"x\":id(x), \"y\":id(y), \"kk\":id(kk), \"z\":id(z)}\n",
    "print(f\"BEFORE: meomory location of these variables are: {m5['x']},{m5['y']},{m5['kk']},{m5['z']}\")\n",
    "# change y and z\n",
    "y[0] = 0\n",
    "z = [\"Amit\", \"Shukla\"]\n",
    "# print memory location addresses\n",
    "m6 = {\"x\":id(x), \"y\":id(y), \"kk\":id(kk), \"z\":id(z)}\n",
    "print(f\"AFTER : meomory location of these variables are: {m6['x']},{m6['y']},{m6['kk']},{m6['z']}\")\n",
    "print(f\"y = {y} and kk = {kk}\")"
   ]
  },
  {
   "cell_type": "markdown",
   "id": "47d27289-1c2d-4062-b182-8be53b722697",
   "metadata": {
    "tags": []
   },
   "source": [
    "so the whole point of this exercise if, assigning/re-assinging values to variables show entirely different behavior in case of lists.\n",
    "While, re-assigning another value to one variable where a copy was drawn from, second variable retain original value.\n",
    "\n",
    "This is the case in << list >>, List objects are sharing computer memory locations like a true pointer in C/C++.\n",
    "Most of << list >> type objects, perform in-place operations instead of re-allocating memory locations.\n",
    "\n",
    "This is why, programmers use copy function to make copies/assignments on << list >> objects.\n",
    "\n",
    "## working with lists\n",
    "---\n",
    "\n",
    "let's print all available methods in list class"
   ]
  },
  {
   "cell_type": "code",
   "execution_count": 76,
   "id": "e051a203-a7c9-4082-985b-30ea91e6fab4",
   "metadata": {
    "tags": []
   },
   "outputs": [
    {
     "data": {
      "text/plain": [
       "['__add__',\n",
       " '__class__',\n",
       " '__class_getitem__',\n",
       " '__contains__',\n",
       " '__delattr__',\n",
       " '__delitem__',\n",
       " '__dir__',\n",
       " '__doc__',\n",
       " '__eq__',\n",
       " '__format__',\n",
       " '__ge__',\n",
       " '__getattribute__',\n",
       " '__getitem__',\n",
       " '__getstate__',\n",
       " '__gt__',\n",
       " '__hash__',\n",
       " '__iadd__',\n",
       " '__imul__',\n",
       " '__init__',\n",
       " '__init_subclass__',\n",
       " '__iter__',\n",
       " '__le__',\n",
       " '__len__',\n",
       " '__lt__',\n",
       " '__mul__',\n",
       " '__ne__',\n",
       " '__new__',\n",
       " '__reduce__',\n",
       " '__reduce_ex__',\n",
       " '__repr__',\n",
       " '__reversed__',\n",
       " '__rmul__',\n",
       " '__setattr__',\n",
       " '__setitem__',\n",
       " '__sizeof__',\n",
       " '__str__',\n",
       " '__subclasshook__',\n",
       " 'append',\n",
       " 'clear',\n",
       " 'copy',\n",
       " 'count',\n",
       " 'extend',\n",
       " 'index',\n",
       " 'insert',\n",
       " 'pop',\n",
       " 'remove',\n",
       " 'reverse',\n",
       " 'sort']"
      ]
     },
     "execution_count": 76,
     "metadata": {},
     "output_type": "execute_result"
    }
   ],
   "source": [
    "dir(list)"
   ]
  },
  {
   "cell_type": "code",
   "execution_count": 78,
   "id": "a07945fb-9514-4331-9920-4cba9afda872",
   "metadata": {
    "tags": []
   },
   "outputs": [
    {
     "name": "stdout",
     "output_type": "stream",
     "text": [
      "Help on method_descriptor:\n",
      "\n",
      "copy(self, /)\n",
      "    Return a shallow copy of the list.\n",
      "\n"
     ]
    }
   ],
   "source": [
    "help(list.copy)"
   ]
  },
  {
   "cell_type": "code",
   "execution_count": 31,
   "id": "e4e1aeb9-ec8b-4be6-a5e6-675f1c58082e",
   "metadata": {
    "tags": []
   },
   "outputs": [
    {
     "name": "stdout",
     "output_type": "stream",
     "text": [
      "Help on function deepcopy in module copy:\n",
      "\n",
      "deepcopy(x, memo=None, _nil=[])\n",
      "    Deep copy operation on arbitrary Python objects.\n",
      "    \n",
      "    See the module's __doc__ string for more info.\n",
      "\n"
     ]
    }
   ],
   "source": [
    "from copy import deepcopy\n",
    "help(deepcopy)"
   ]
  },
  {
   "cell_type": "code",
   "execution_count": 30,
   "id": "b0b1de07-374c-41d0-b3dd-ecb47c5bdc04",
   "metadata": {},
   "outputs": [
    {
     "name": "stdout",
     "output_type": "stream",
     "text": [
      "y = [10, 2, 4, 6, 8], kk = [10, 2, 4, 6, 8], kkC = [10, 2, 4, 6, 8], kkD = [10, 2, 4, 6, 8]\n",
      "BEFORE: meomory location of these variables are: 2251990011648,2251988447616,2251988447616,2251982691968,2251988544640,2251990019904\n",
      "y = [0, 2, 4, 6, 8], kk = [0, 2, 4, 6, 8], kkC = [10, 2, 4, 6, 8], kkD = [10, 2, 4, 6, 8]\n",
      "After: meomory location of these variables are: 2251990011648,2251988447616,2251988447616,2251982691968,2251988544640,2251990019904\n"
     ]
    }
   ],
   "source": [
    "x = [1, 3, 5, 7, 9]\n",
    "y = [10, 2, 4, 6, 8]\n",
    "z = [\"amit\", \"shukla\"]\n",
    "kk = y  # kopy kat spelled wrong\n",
    "kkC = y.copy()  # copy\n",
    "kkD = deepcopy(y)  # deep copy\n",
    "m5 = {\"x\":id(x), \"y\":id(y), \"kk\":id(kk), \"kkC\":id(kkC), \"kkD\":id(kkD), \"z\":id(z)}\n",
    "print(f\"y = {y}, kk = {kk}, kkC = {kkC}, kkD = {kkD}\")\n",
    "print(f\"BEFORE: meomory location of these variables are: {m5['x']},{m5['y']},{m5['kk']},{m5['kkC']},{m5['kkD']},{m5['z']}\")\n",
    "##############################################\n",
    "# change one value at a time to see impact\n",
    "##############################################\n",
    "y[0] = 0\n",
    "# kk[0] = 0\n",
    "# kkC[0] = 0\n",
    "# kkD[0] = 0\n",
    "##############################################\n",
    "##############################################\n",
    "\n",
    "# print memory location addresses\n",
    "m6 = {\"x\":id(x), \"y\":id(y), \"kk\":id(kk), \"kkC\":id(kkC), \"kkD\":id(kkD), \"z\":id(z)}\n",
    "print(f\"y = {y}, kk = {kk}, kkC = {kkC}, kkD = {kkD}\")\n",
    "print(f\"After: meomory location of these variables are: {m6['x']},{m6['y']},{m6['kk']},{m6['kkC']},{m6['kkD']},{m6['z']}\")"
   ]
  }
 ],
 "metadata": {
  "kernelspec": {
   "display_name": "Python 3 (ipykernel)",
   "language": "python",
   "name": "python3"
  },
  "language_info": {
   "codemirror_mode": {
    "name": "ipython",
    "version": 3
   },
   "file_extension": ".py",
   "mimetype": "text/x-python",
   "name": "python",
   "nbconvert_exporter": "python",
   "pygments_lexer": "ipython3",
   "version": "3.11.2"
  }
 },
 "nbformat": 4,
 "nbformat_minor": 5
}
