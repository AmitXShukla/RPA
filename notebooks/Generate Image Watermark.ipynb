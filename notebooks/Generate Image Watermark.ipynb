{
 "cells": [
  {
   "attachments": {},
   "cell_type": "markdown",
   "id": "fb2f007d-4986-4ce8-8333-524b780f5b8a",
   "metadata": {},
   "source": [
    "## use QR Codes, Image Watermarks\n",
    "## Company logo to Enhance Voucher Invoice documents Authenticity\n",
    "---\n",
    "\n",
    "#### write code to generate Image Watermark\n",
    "\n",
    "In this notebook, we will first generate QR code which should be used as watermark and\n",
    "\n",
    "then will insert QR code as image watermarks in all Voucher Invoices.\n",
    "[Generate and Read QR Code](https://github.com/AmitXShukla/RPA/blob/main/notebooks/Generate%20and%20Read%20QR%20Code.ipynb)\n",
    "\n",
    "To generate an image watermark, we can use the Python Imaging Library (PIL) or its fork Pillow. \n",
    "\n",
    "Here is an example code snippet that demonstrates how to add a watermark image to another image using Pillow:"
   ]
  },
  {
   "cell_type": "code",
   "execution_count": null,
   "id": "6842c15f-bb1e-40a8-ad47-1b4b6690027f",
   "metadata": {},
   "outputs": [],
   "source": [
    "################################\n",
    "# create RPA Virtual environment\n",
    "################################\n",
    "# py -m venv RPA\n",
    "# RPA\\Scripts\\activate.bat\n",
    "# import sys\n",
    "# sys.path\n",
    "# py -m pip --version\n",
    "\n",
    "############################################\n",
    "## MAKE SURE these packages are installed ##\n",
    "############################################\n",
    "# py -m pip install Pillow\n",
    "################################"
   ]
  },
  {
   "attachments": {},
   "cell_type": "markdown",
   "id": "8853cb91",
   "metadata": {},
   "source": [
    "## ChatGPT generated code"
   ]
  },
  {
   "cell_type": "code",
   "execution_count": null,
   "id": "4c3ffbe2-fb91-4b29-a1b0-9126cad21968",
   "metadata": {},
   "outputs": [],
   "source": [
    "from PIL import Image, ImageDraw\n",
    "\n",
    "def add_watermark(input_image_path, output_image_path, watermark_image_path):\n",
    "    \"\"\"\n",
    "    Add a watermark image to an input image and save the result to an output file.\n",
    "\n",
    "    Args:\n",
    "        input_image_path (str): The path to the input image file.\n",
    "        output_image_path (str): The path to the output image file.\n",
    "        watermark_image_path (str): The path to the watermark image file.\n",
    "\n",
    "    Returns:\n",
    "        None\n",
    "    \"\"\"\n",
    "    # Open the input and watermark images\n",
    "    input_image = Image.open(input_image_path)\n",
    "    watermark_image = Image.open(watermark_image_path)\n",
    "\n",
    "    # Add the watermark to the input image\n",
    "    watermark_position = (input_image.size[0] - watermark_image.size[0], input_image.size[1] - watermark_image.size[1])\n",
    "    input_image.paste(watermark_image, watermark_position, mask=watermark_image)\n",
    "\n",
    "    # Save the result to the output file\n",
    "    input_image.save(output_image_path)\n",
    "\n",
    "# Example usage\n",
    "input_image_path = \"../downloads/MSFT.png\"\n",
    "output_image_path = \"../downloads/MSFT_W.png\"\n",
    "watermark_image_path = \"../SampleData/Amit_TestQRcode.png\"\n",
    "add_watermark(input_image_path, output_image_path, watermark_image_path)"
   ]
  },
  {
   "cell_type": "raw",
   "id": "4096a487-f785-4e88-9f36-0ab5e90cef9a",
   "metadata": {
    "tags": []
   },
   "source": [
    "In this code, we define a function called add_watermark that takes an input image file path, an output image file path, and a watermark image file path as input. The function uses Pillow to open the input and watermark images, adds the watermark to the input image, and saves the result to the output file.\n",
    "\n",
    "To customize the position or appearance of the watermark, we can modify the watermark_position tuple or the mask argument of the paste method.\n",
    "\n",
    "It's important to note that adding a watermark to an image may affect the quality or usability of the original image, so it's important to consider the implications of adding a watermark before doing so."
   ]
  }
 ],
 "metadata": {
  "kernelspec": {
   "display_name": "Python 3 (ipykernel)",
   "language": "python",
   "name": "python3"
  },
  "language_info": {
   "codemirror_mode": {
    "name": "ipython",
    "version": 3
   },
   "file_extension": ".py",
   "mimetype": "text/x-python",
   "name": "python",
   "nbconvert_exporter": "python",
   "pygments_lexer": "ipython3",
   "version": "3.11.2"
  }
 },
 "nbformat": 4,
 "nbformat_minor": 5
}
