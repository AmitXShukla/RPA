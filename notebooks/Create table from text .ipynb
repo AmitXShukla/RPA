{
 "cells": [
  {
   "cell_type": "markdown",
   "id": "97606f58-33ef-46e1-8bd4-786ce24211d5",
   "metadata": {},
   "source": [
    "## write code to Create table from text \n",
    "---"
   ]
  },
  {
   "cell_type": "code",
   "execution_count": null,
   "id": "05b9015f-3a9c-41b7-977a-c47a52c3b587",
   "metadata": {},
   "outputs": [],
   "source": [
    "from tabulate import tabulate\n",
    "\n",
    "# Example text data\n",
    "text_data = \"\"\"\n",
    "Name        Age     Occupation\n",
    "Alice       25      Engineer\n",
    "Bob         30      Developer\n",
    "Charlie     40      Manager\n",
    "\"\"\"\n",
    "\n",
    "# Split the text into rows and columns\n",
    "rows = [row.strip().split() for row in text_data.strip().split(\"\\n\")]\n",
    "\n",
    "# Create the table using the tabulate library\n",
    "table = tabulate(rows, headers=\"firstrow\")\n",
    "\n",
    "# Print the table\n",
    "print(table)"
   ]
  },
  {
   "cell_type": "raw",
   "id": "bbb00068-b140-47c4-8d06-6ce7087c7014",
   "metadata": {},
   "source": [
    "In this code, we first define the text data we want to convert to a table as a multi-line string (text_data). We then split the text into rows and columns by splitting on newlines and whitespace, and store the resulting data as a list of lists (rows).\n",
    "\n",
    "We can then create the table using the tabulate library, which provides a simple way to create nicely formatted tables from data in Python. We pass the rows data to the tabulate function, along with the headers=\"firstrow\" argument to indicate that the first row of the table contains header information.\n",
    "\n",
    "Finally, we print the resulting table to the console using the print() function.\n",
    "\n",
    "Note that you may need to modify the code depending on the specific format of your text data. For example, you may need to adjust the column widths or formatting options for the table to display properly. Additionally, the tabulate library provides many additional options and customization features, which you can explore in the library's documentation."
   ]
  },
  {
   "cell_type": "code",
   "execution_count": null,
   "id": "dfaddaf9-cb05-49b3-92c9-9cfdb62a0069",
   "metadata": {},
   "outputs": [],
   "source": []
  }
 ],
 "metadata": {
  "kernelspec": {
   "display_name": "Python 3 (ipykernel)",
   "language": "python",
   "name": "python3"
  },
  "language_info": {
   "codemirror_mode": {
    "name": "ipython",
    "version": 3
   },
   "file_extension": ".py",
   "mimetype": "text/x-python",
   "name": "python",
   "nbconvert_exporter": "python",
   "pygments_lexer": "ipython3",
   "version": "3.11.2"
  }
 },
 "nbformat": 4,
 "nbformat_minor": 5
}
