{
 "cells": [
  {
   "attachments": {},
   "cell_type": "markdown",
   "metadata": {},
   "source": [
    "## Increasing YouTube views using selenium\n",
    "\n",
    "---\n",
    "\n",
    "I admit that I may have given the video a sensationalized title in order to attract more attention, \n",
    "\n",
    "but I reserve the right to change it later if it proves to be insufficient for garnering enough views.\n",
    "\n",
    "Please be aware that attempting to artificially inflate YouTube views may do more harm than good, and using this code is done at your own risk.\n",
    "\n",
    "However, I have used this code legitimately in the past, such as when a doctor's office wanted to broadcast their playlist and it actually increased YouTube views in a genuine manner. \n",
    "\n",
    "There is nothing inherently wrong with making ethical use of the code, \n",
    "but keep in mind that YouTube may eventually detect automated bots and decrease your views.\n",
    "\n",
    "Therefore, it is recommended to use this code for ethical and authentic legitimate purpose only. \n",
    "\n",
    "--- \n",
    "In below section, We will write functions to \n",
    "- gather all YouTube Videos links from a given channel\n",
    "- loop over YouTub videos playing one at a time for certain interval\n",
    "\n",
    "This code basically produces same YouTube playlist like functionality but helps user achieve greater views via\n",
    "- running multiple browsing sessions in parallel\n",
    "- scheduling to run videos on virtual or low powered machines like Raspberry etc.\n",
    "- fast forward\n",
    "- watching at faster speed, mouse interaction\n",
    "- managing likes and comments\n",
    "\n",
    "`Disclaimer: Running YouTube videos through YouTube Playlist is legitimate example and is preferred over this method.`"
   ]
  },
  {
   "cell_type": "markdown",
   "metadata": {},
   "source": []
  }
 ],
 "metadata": {
  "language_info": {
   "name": "python"
  },
  "orig_nbformat": 4
 },
 "nbformat": 4,
 "nbformat_minor": 2
}
