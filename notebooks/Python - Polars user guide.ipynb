{
 "cells": [
  {
   "attachments": {},
   "cell_type": "markdown",
   "metadata": {},
   "source": [
    "## Complete guide to learn Python Polars data frame\n",
    "---\n",
    "\n",
    "`TODO:rephrase`\n",
    "This is complete user guide to learn everything you need to know about using \n",
    "Polars for Finance data analysis.\n",
    "\n",
    "The goal is to provide an overview of the most common functions and capabilities of the package. In this guide we will provide several examples. At the end of every part there is a link to relevant parts of the Polars Book with more information\n",
    "\n",
    "Table of content\n",
    "---\n",
    "\n",
    "- Installation\n",
    "- Creating DataFrame\n",
    "- IO\n",
    "- Data Types\n",
    "- About Expressions\n",
    "    - select\n",
    "    - group by\n",
    "- Polar SQLs\n",
    "-"
   ]
  },
  {
   "cell_type": "markdown",
   "metadata": {},
   "source": []
  }
 ],
 "metadata": {
  "language_info": {
   "name": "python"
  },
  "orig_nbformat": 4
 },
 "nbformat": 4,
 "nbformat_minor": 2
}
