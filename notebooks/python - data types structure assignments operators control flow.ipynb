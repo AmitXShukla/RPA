{
 "cells": [
  {
   "cell_type": "markdown",
   "id": "90913ab0-6033-4ef2-b9e7-44d06d03e63a",
   "metadata": {},
   "source": [
    "## Python - understanding Python - data types, structure, assignments, operators and control flow\n",
    "\n",
    "---\n",
    "\n",
    "Data is a mineral, if you handle it with care and delicacy, polish and move it to a fine safe enclosure, it will age as fine gold. \n",
    "\n",
    "At first glance, it's important but not critical to distinghuish data at a very high level.\n",
    "\n",
    "For example, numbers is a category to deal with integers, floats aka decimals, fractions, complex numbers etc.. Similarily, languages use characters, strings etc. to articulate text data.\n",
    "\n",
    "Images, movies and audio are again can be defined as grouping of numbers stored together in a certain way, which can be stored and transformed from Sound, picture to numbers.\n",
    "\n",
    "The primary purpose of any programming language is to provide a framework which allows a programmer to read, write and understand data.\n",
    "\n",
    "So let's first start understanding data types and data structure and how these are stored in computer memory.\n",
    "\n",
    "A number can simply be stored as an Integer, Int8, Int32 or Int64 meaning, data type is of type Integer and is stored in computer memory of 8, 16,32 or 64 bits.\n",
    "Similariy, Decimal point numbers store data in form of FLOAT data types like Float32 or Float64.\n",
    "\n",
    "Character or String are another type of Data types capable of storing Characters in sequence.\n",
    "\n",
    "This is great start to understand basics of data types.\n",
    "\n",
    "However, if you think about it about data types, basically, most of data types are meaniful when combined or kept together in certain sequence.\n",
    "\n",
    "like, A P P L E, five characters when kept togehter in sequence form a word. Similar 1, 2, 3, 6, 12.. form a Running Sum table.\n",
    "This leads us to a need of a sequential data type.\n",
    "\n",
    "Often programming languages like C/C++ refer to this as Array programming and Programmers need to construct such list or sequence data type with data types, memory structure and allocations.\n"
   ]
  },
  {
   "cell_type": "code",
   "execution_count": null,
   "id": "2b4eb823-24d6-41c9-a9f9-ab3c59edc31c",
   "metadata": {},
   "outputs": [],
   "source": []
  }
 ],
 "metadata": {
  "kernelspec": {
   "display_name": "Python 3 (ipykernel)",
   "language": "python",
   "name": "python3"
  },
  "language_info": {
   "codemirror_mode": {
    "name": "ipython",
    "version": 3
   },
   "file_extension": ".py",
   "mimetype": "text/x-python",
   "name": "python",
   "nbconvert_exporter": "python",
   "pygments_lexer": "ipython3",
   "version": "3.11.2"
  }
 },
 "nbformat": 4,
 "nbformat_minor": 5
}
