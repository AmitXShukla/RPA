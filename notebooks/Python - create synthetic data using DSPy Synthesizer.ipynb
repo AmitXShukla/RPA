{
 "cells": [
  {
   "attachments": {},
   "cell_type": "markdown",
   "id": "d17889e3-8191-4d83-b4c1-49aaffdb0624",
   "metadata": {},
   "source": [
    "## Create synthetic data using DSPy synthesizer\n",
    "\n",
    "---"
   ]
  },
  {
   "cell_type": "code",
   "execution_count": 16,
   "id": "ed794170-d057-4f32-a952-001cf1e62d65",
   "metadata": {},
   "outputs": [],
   "source": [
    "import dspy\n",
    "from dspy.experimental import SyntheticDataGenerator\n",
    "from pydantic import BaseModel, Field\n",
    "\n",
    "llm = dspy.OpenAI(model='gpt-3.5-turbo',api_key=openai_key)\n",
    "\n",
    "dspy.settings.configure(lm=llm)\n",
    "\n",
    "class SyntheticFacts(BaseModel):\n",
    "    fact: str = Field(..., description=\"a statement\")\n",
    "    veracity: bool = Field(..., description=\"an assessment of the veracity of the statement\")\n",
    "\n",
    "# Generate synthetic data from pydantic model\n",
    "generator = SyntheticDataGenerator(schema_class=SyntheticFacts)\n",
    "\n",
    "examples = generator.generate(sample_size=10)\n",
    "\n",
    "print(f\"Examples from pydantic model: {examples}\")\n",
    "\n",
    "# If you already have some examples and potentially need more:\n",
    "existing_examples = [dspy.Example({'fact': 'The Earth is round.', 'veracity': 'True'}), \n",
    "                     dspy.Example({'fact': 'Water boils at 100°C.', 'veracity': 'True'})]\n",
    "\n",
    "partial_generator = SyntheticDataGenerator(examples=existing_examples)\n",
    "\n",
    "augmented_examples = partial_generator.generate(sample_size=8)\n",
    "\n",
    "print(f\"Examples from existing examples: {augmented_examples}\")"
   ]
  }
 ],
 "metadata": {
  "kernelspec": {
   "display_name": "Python 3 (ipykernel)",
   "language": "python",
   "name": "python3"
  },
  "language_info": {
   "codemirror_mode": {
    "name": "ipython",
    "version": 3
   },
   "file_extension": ".py",
   "mimetype": "text/x-python",
   "name": "python",
   "nbconvert_exporter": "python",
   "pygments_lexer": "ipython3",
   "version": "3.12.0"
  }
 },
 "nbformat": 4,
 "nbformat_minor": 5
}
