{
 "cells": [
  {
   "attachments": {},
   "cell_type": "markdown",
   "id": "f000b967-63bf-4090-b2b7-8f2c8b6a2a07",
   "metadata": {},
   "source": [
    "## Drop box API\n",
    "---\n",
    "\n",
    "Want to share files between PC or Phone then use the Dropbox Free API that let you upload and download your Dropbox stored files and Folders. Check the API Code below."
   ]
  },
  {
   "cell_type": "raw",
   "id": "f8d01681-af9d-483b-9613-18346c5979fd",
   "metadata": {},
   "source": [
    "################################\n",
    "# create RPA Virtual environment\n",
    "################################\n",
    "# py -m venv RPA\n",
    "# RPA\\Scripts\\activate.bat\n",
    "# import sys\n",
    "# sys.path\n",
    "# py -m pip --version\n",
    "\n",
    "############################################\n",
    "## MAKE SURE these packages are installed ##\n",
    "############################################\n",
    "# py -m pip install dropbox\n",
    "################################"
   ]
  },
  {
   "cell_type": "raw",
   "id": "146c4640",
   "metadata": {},
   "source": [
    "# Get Your API: https://www.dropbox.com/developers/\n",
    "# pip install dropbox\n",
    "import dropboxdbx = dropbox.Dropbox('Your Api Key')# upload\n",
    "\twith open('test.txt', 'rb') as f:\n",
    "\tdbx.files_upload(f.read(), '/test.txt')\n",
    "\t\n",
    "# download\n",
    "dbx.files_download_to_file('test.txt', '/test.txt')"
   ]
  }
 ],
 "metadata": {
  "kernelspec": {
   "display_name": "Python 3 (ipykernel)",
   "language": "python",
   "name": "python3"
  },
  "language_info": {
   "codemirror_mode": {
    "name": "ipython",
    "version": 3
   },
   "file_extension": ".py",
   "mimetype": "text/x-python",
   "name": "python",
   "nbconvert_exporter": "python",
   "pygments_lexer": "ipython3",
   "version": "3.11.2"
  }
 },
 "nbformat": 4,
 "nbformat_minor": 5
}
