{
 "cells": [
  {
   "cell_type": "markdown",
   "id": "f000b967-63bf-4090-b2b7-8f2c8b6a2a07",
   "metadata": {},
   "source": [
    "## Nasa API\n",
    "---\n",
    "\n",
    "To access the NASA API, you need to follow these steps:\n",
    "\n",
    "Create a NASA Open API key by registering on their website: https://api.nasa.gov/\n",
    "\n",
    "Once you have obtained your API key, you can use it to make requests to the NASA API. Here's an example Python code snippet that demonstrates how to access the NASA API using the requests library:"
   ]
  },
  {
   "cell_type": "raw",
   "id": "f8d01681-af9d-483b-9613-18346c5979fd",
   "metadata": {},
   "source": [
    "################################\n",
    "# create RPA Virtual environment\n",
    "################################\n",
    "# py -m venv RPA\n",
    "# RPA\\Scripts\\activate.bat\n",
    "# import sys\n",
    "# sys.path\n",
    "# py -m pip --version\n",
    "\n",
    "############################################\n",
    "## MAKE SURE these packages are installed ##\n",
    "############################################\n",
    "# py -m pip install requests\n",
    "################################"
   ]
  },
  {
   "cell_type": "code",
   "execution_count": null,
   "id": "6b0c9fc9-1927-4458-a15f-0da219aca14c",
   "metadata": {},
   "outputs": [],
   "source": [
    "import requests\n",
    "\n",
    "# Set API key and API endpoint\n",
    "api_key = 'YOUR_API_KEY'\n",
    "api_url = 'https://api.nasa.gov/planetary/apod'\n",
    "\n",
    "# Define request parameters\n",
    "params = {\n",
    "    'date': '2022-02-23',  # Example date\n",
    "    'api_key': api_key,\n",
    "}\n",
    "\n",
    "# Execute the request and print results\n",
    "response = requests.get(api_url, params=params)\n",
    "data = response.json()\n",
    "print(data['title'])\n",
    "print(data['explanation'])"
   ]
  },
  {
   "cell_type": "raw",
   "id": "1b58effe-c5db-4d0c-9778-98c899f3d39e",
   "metadata": {},
   "source": [
    "In this example, we are accessing the NASA Astronomy Picture of the Day (APOD) API endpoint to retrieve the picture and explanation for a specific date (in this case, February 23, 2022). You can modify the request parameters and use different API endpoints to perform other tasks, such as retrieving weather data or satellite imagery."
   ]
  }
 ],
 "metadata": {
  "kernelspec": {
   "display_name": "Python 3 (ipykernel)",
   "language": "python",
   "name": "python3"
  },
  "language_info": {
   "codemirror_mode": {
    "name": "ipython",
    "version": 3
   },
   "file_extension": ".py",
   "mimetype": "text/x-python",
   "name": "python",
   "nbconvert_exporter": "python",
   "pygments_lexer": "ipython3",
   "version": "3.11.2"
  }
 },
 "nbformat": 4,
 "nbformat_minor": 5
}
