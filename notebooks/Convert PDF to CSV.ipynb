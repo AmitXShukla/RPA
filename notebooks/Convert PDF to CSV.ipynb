{
 "cells": [
  {
   "cell_type": "markdown",
   "id": "1c80179c-a9be-422d-b5ea-89af4e9cb5f6",
   "metadata": {
    "tags": []
   },
   "source": [
    "## Convert PDF to CSV\n",
    "---\n",
    "#### write code to convert PDF to CSV"
   ]
  },
  {
   "cell_type": "raw",
   "id": "99ef7d67-1660-473c-b7d6-094dc2c65693",
   "metadata": {
    "tags": []
   },
   "source": [
    "################################\n",
    "# create RPA Virtual environment\n",
    "################################\n",
    "# py -m venv RPA\n",
    "# RPA\\Scripts\\activate.bat\n",
    "# import sys\n",
    "# sys.path\n",
    "# py -m pip --version\n",
    "\n",
    "############################################\n",
    "## MAKE SURE these packages are installed ##\n",
    "############################################\n",
    "# py -m pip install pandas\n",
    "# py -m pip install tabula\n",
    "################################"
   ]
  },
  {
   "cell_type": "code",
   "execution_count": null,
   "id": "35f1080b-9c76-4b68-9337-44491964a387",
   "metadata": {},
   "outputs": [],
   "source": [
    "import tabula\n",
    "import pandas as pd\n",
    "\n",
    "def convert_pdf_to_csv(input_file, output_file, pages=\"all\"):\n",
    "    \"\"\"\n",
    "    Convert a PDF file to a CSV file.\n",
    "Converting PDF to CSV can be a complex task and there are many different ways to approach it, depending on the structure and content of the PDF file. Here's an example Python code snippet that uses the tabula library to extract data from a PDF file and save it to a CSV file:\n",
    "    \n",
    "    Args:\n",
    "        input_file (str): The file path to the input PDF file.\n",
    "        output_file (str): The file path to save the output CSV file to.\n",
    "        pages (str or list): The page(s) of the PDF to extract data from.\n",
    "            If \"all\", extract data from all pages. If a list of integers,\n",
    "            extract data from the specified page numbers.\n",
    "    \"\"\"\n",
    "    # Convert the PDF file to a DataFrame using tabula\n",
    "    df = tabula.read_pdf(input_file, pages=pages)\n",
    "\n",
    "    # Save the DataFrame to a CSV file\n",
    "    df.to_csv(output_file, index=False)\n",
    "\n",
    "# Example usage\n",
    "input_file = \"input.pdf\"\n",
    "output_file = \"output.csv\"\n",
    "convert_pdf_to_csv(input_file, output_file)"
   ]
  },
  {
   "cell_type": "raw",
   "id": "d62725f0-0e63-4815-84df-7597caf12df8",
   "metadata": {},
   "source": [
    "In this code, we define a function called convert_pdf_to_csv that takes an input file path, an output file path, and an optional parameter for which pages of the PDF to extract data from.\n",
    "\n",
    "The function uses the tabula library to convert the PDF file to a pandas DataFrame object. The tabula.read_pdf() method takes the input file path and the page parameter as arguments and returns a DataFrame containing the extracted data.\n",
    "\n",
    "We can then use the pandas.DataFrame.to_csv() method to save the DataFrame to a CSV file.\n",
    "\n",
    "We can call the convert_pdf_to_csv function with example data, passing in an input file path, an output file path, and the \"all\" parameter to extract data from all pages of the PDF file. If we only wanted to extract data from specific pages, we could pass in a list of integers instead. Note that the output CSV file will not have any column names, so we may need to add those manually if necessary."
   ]
  }
 ],
 "metadata": {
  "kernelspec": {
   "display_name": "Python 3 (ipykernel)",
   "language": "python",
   "name": "python3"
  },
  "language_info": {
   "codemirror_mode": {
    "name": "ipython",
    "version": 3
   },
   "file_extension": ".py",
   "mimetype": "text/x-python",
   "name": "python",
   "nbconvert_exporter": "python",
   "pygments_lexer": "ipython3",
   "version": "3.11.2"
  }
 },
 "nbformat": 4,
 "nbformat_minor": 5
}
