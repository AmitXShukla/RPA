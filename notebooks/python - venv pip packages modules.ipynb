{
 "cells": [
  {
   "attachments": {},
   "cell_type": "markdown",
   "id": "d17889e3-8191-4d83-b4c1-49aaffdb0624",
   "metadata": {},
   "source": [
    "## About Virtual Environment, Packages, PIP, Module, documentation in Python\n",
    "\n",
    "---\n",
    "`WIP ** do not clone yet.`\n",
    "\n",
    "This tutorial is gentle introduction to learn basics of VENV, PIP packages and modules in python.\n",
    "\n",
    "Whole point of software modular programming is combining useful functionalities of a program in modules and packaging it altogether for sharing and re-using all or pieces of functionalities in other or similar application programming.\n",
    "\n",
    "We will learn above concepts while doing some real world analysis.\n",
    "\n",
    "Let's assume, We are working on a mini project for Finance Analytics.\n",
    "\n",
    "Let's take one example, where we need to write a function, which calculates amounts returned with simple interest rate formula.\n",
    "\n",
    "Now, let's instead of overly complicating previous formula, write another formula to calculate amount returned based on compound interest rate formula.\n",
    "\n",
    "and let's write another formula to create some fake data, please note that, we will take help from another package python package name pandas to present/return data in tabular format referred as DataFrame here.\n",
    "\n",
    "Now point is, I wrote some useful functions, however, let's split interest calculations functions and data generator functions in separate files.\n",
    "\n",
    "Now, we have two files and I want another user, who is not aware of these functions to start making use of these functionalities.\n",
    "\n",
    "First thing first is, \n",
    "\n",
    "Let's split these functionalities in files\n",
    "create a module\n",
    "create a package-\n",
    "\n",
    "implement __init__ method\n",
    "\n",
    "most important - fix documentation\n",
    "\n",
    "pip install - registering packages\n",
    "\n",
    "pip install - GitHub packages"
   ]
  },
  {
   "cell_type": "code",
   "execution_count": 14,
   "id": "f5d0e14a-273d-4654-837c-f544e2c11c1f",
   "metadata": {
    "tags": []
   },
   "outputs": [
    {
     "name": "stdout",
     "output_type": "stream",
     "text": [
      "Before:  ['.ipynb_checkpoints', 'Amit_TestQRcode.png']\n",
      "After:  ['.ipynb_checkpoints', 'Amit_TestQRcode.png', 'Finance']\n"
     ]
    }
   ],
   "source": [
    "# let's see content\n",
    "import os\n",
    "print(\"Before: \", os.listdir(\"../SampleData\"))\n",
    "os.mkdir(\"../SampleData/Finance/\")\n",
    "print(\"After: \", os.listdir(\"../SampleData\"))"
   ]
  },
  {
   "cell_type": "code",
   "execution_count": 11,
   "id": "24ec6b9a-3f86-4c25-9363-6412bda98f8e",
   "metadata": {
    "tags": []
   },
   "outputs": [
    {
     "data": {
      "text/plain": [
       "['.ipynb_checkpoints', 'Amit_TestQRcode.png']"
      ]
     },
     "execution_count": 11,
     "metadata": {},
     "output_type": "execute_result"
    }
   ],
   "source": []
  },
  {
   "cell_type": "code",
   "execution_count": null,
   "id": "ed794170-d057-4f32-a952-001cf1e62d65",
   "metadata": {},
   "outputs": [],
   "source": []
  }
 ],
 "metadata": {
  "kernelspec": {
   "display_name": "Python 3 (ipykernel)",
   "language": "python",
   "name": "python3"
  },
  "language_info": {
   "codemirror_mode": {
    "name": "ipython",
    "version": 3
   },
   "file_extension": ".py",
   "mimetype": "text/x-python",
   "name": "python",
   "nbconvert_exporter": "python",
   "pygments_lexer": "ipython3",
   "version": "3.11.2"
  }
 },
 "nbformat": 4,
 "nbformat_minor": 5
}
