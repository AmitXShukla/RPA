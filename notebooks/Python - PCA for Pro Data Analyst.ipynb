{
 "cells": [
  {
   "cell_type": "markdown",
   "metadata": {},
   "source": [
    "# PCA for Pro Data Analyst\n",
    "\n",
    "A Comprehensive Guide to Principal Component Analysis with Real-Life Data, Transforming Beginners into Professionals.\n",
    "\n",
    "---\n",
    "[Download PDF version of this notebook](https://github.com/AmitXShukla/RPA/blob/main/SampleData/The%20Ultimate%20Guide%20to%20Data%20Wrangling%20with%20Python%20-%20Rust%20Polars%20Data%20Frame.pdf)\n",
    "\n",
    "[Video Tutorials](https://www.youtube.com/playlist?list=PLp0TENYyY8lHJaY4t5bAihnFS5TBUQYV1)\n",
    "\n",
    "    Author: Amit Shukla\n",
    "\n",
    "[https://github.com/AmitXShukla](https://github.com/AmitXShukla)\n",
    "\n",
    "[https://twitter.com/ashuklax](https://github.com/AShuklaX)\n",
    "\n",
    "[https://youtube.com/AmitXShukla](https://youtube.com/@Amit.Shukla)\n",
    "\n",
    "by the end of this blog, you will learn techniques to\n",
    "\n",
    "TODO:::\n",
    "- Analyze Distributions\n",
    "- Discover Data Patterns\n",
    "- Spot Anomalies\n",
    "- Test Hypothesis\n",
    "- Check Assumptions\n",
    "- Create Interactive Visualizations\n",
    "- what-if Analysis\n",
    "- would, could, should\n",
    "- Time Travel on Timeseries Data\n",
    "\n",
    "---\n",
    "\n",
    "#### Introduction\n",
    "I'm Amit Shukla, and I specialize in training neural networks for finance supply chain analysis, enabling them to identify data patterns and make accurate predictions.\n",
    "During the challenges posed by the COVID-19 pandemic, I successfully trained GL and Supply Chain neural networks to anticipate supply chain shortages. The valuable insights gained from this effort have significantly influenced the content of this tutorial series.\n",
    "\t\n",
    "#### Objective:\n",
    "By delving into this powerful tool, we will master the fundamental techniques of using Principal Component Analysis. This knowledge is crucial in preparing finance and supply chain data for advanced analytics, visualization, and predictive modeling using neural networks and machine learning.\n",
    "\t\n",
    "#### Subject\n",
    "It's important to note that this particular series will concentrate solely on `Principal Component Analysis`.\n",
    "\t\n",
    "#### Following\n",
    "However, in future installments, we will explore Data Analytics and delve into the realm of machine learning for predictive analytics.\n",
    "\tThank you for joining me, and I'm excited to embark on this educational journey together.\n",
    "\t\n",
    "Let's get started.\n",
    "\n",
    "---"
   ]
  },
  {
   "cell_type": "markdown",
   "metadata": {},
   "source": [
    "# Table of content\n",
    "---\n",
    "\n",
    "- EDA vs PCA\n",
    "- Installation\n",
    "- Loading Finance and Supply chain Data\n",
    "- Discover Data Patterns\n",
    "- Analyze Distributions\n",
    "- Spot Anomalies\n",
    "- Test Hypothesis\n",
    "- Check Assumptions\n",
    "- Create Interactive Visualizations\n",
    "- what-if Analysis\n",
    "- would, could, should\n",
    "- Time Travel on Timeseries Data\n"
   ]
  },
  {
   "cell_type": "markdown",
   "metadata": {},
   "source": [
    "# EDA vs PCA\n",
    "---\n",
    "\n",
    "Principal Component Analysis (PCA) and Exploratory Data Analysis (EDA) are both techniques used in data analysis, but they serve different purposes and are not the same.\n",
    "\n",
    "Principal Component Analysis (PCA) is a statistical procedure that uses an orthogonal transformation to convert a set of observations of possibly correlated variables into a set of values of linearly uncorrelated variables called principal components. This technique is used to emphasize variation and bring out strong patterns in a dataset. It's often used to make data easy to explore and visualize.\n",
    "\n",
    "Exploratory Data Analysis (EDA), on the other hand, is an approach to analyzing datasets to summarize their main characteristics, often with visual methods. It is used to understand the data, get a context of the data, and find possible relationships within the data. EDA is of often the first step in data analysis."
   ]
  },
  {
   "cell_type": "markdown",
   "metadata": {},
   "source": [
    "# Installation\n",
    "---"
   ]
  },
  {
   "cell_type": "code",
   "execution_count": null,
   "metadata": {},
   "outputs": [],
   "source": [
    "# !pip install polars pandas numpy matplotlib seaborn"
   ]
  },
  {
   "cell_type": "markdown",
   "metadata": {},
   "source": [
    "# Loading Finance and Supply chain Data\n",
    "---\n",
    "\n",
    "using this section, we will first load our dataset.\n",
    "\n",
    "It's important for user to make sure, that all steps discussed in this section run without any error.\n",
    "And data is loaded before starting journey on EDA.\n",
    "\n",
    "Please see, I want user to ignore technical content of this section for now, as this section is only required to load data.\n",
    "How this data is loaded is not the point, point is, this excercise is about using EDA on a real life dataset.\n",
    "\n",
    "As we progress more, in later sections, I want users to use EDA to discover data patterns and confirm those findings with dataset created in this section.\n",
    "\n",
    "Let's load this data now."
   ]
  },
  {
   "cell_type": "code",
   "execution_count": null,
   "metadata": {},
   "outputs": [],
   "source": []
  }
 ],
 "metadata": {
  "kernelspec": {
   "display_name": "Python 3",
   "language": "python",
   "name": "python3"
  },
  "language_info": {
   "codemirror_mode": {
    "name": "ipython",
    "version": 3
   },
   "file_extension": ".py",
   "mimetype": "text/x-python",
   "name": "python",
   "nbconvert_exporter": "python",
   "pygments_lexer": "ipython3",
   "version": "3.11.4"
  },
  "orig_nbformat": 4
 },
 "nbformat": 4,
 "nbformat_minor": 2
}
