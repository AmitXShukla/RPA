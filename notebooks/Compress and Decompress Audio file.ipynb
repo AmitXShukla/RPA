{
 "cells": [
  {
   "cell_type": "markdown",
   "id": "54d35b4c-5835-4aca-9762-99b41bc2a25e",
   "metadata": {},
   "source": [
    "## Compress and Decompress Audio file\n",
    "Python code that demonstrates how to compress and decompress an audio file using the gzip and pydub modules:"
   ]
  },
  {
   "cell_type": "code",
   "execution_count": null,
   "id": "28542a15-a9c5-4163-a656-94fe3000c38a",
   "metadata": {},
   "outputs": [],
   "source": [
    "import gzip\n",
    "from pydub import AudioSegment\n",
    "\n",
    "# Define the path to the audio file we want to compress\n",
    "\n",
    "input_file = '/path/to/audio/file.mp3'\n",
    "\n",
    "# Define the path to the compressed file we want to create\n",
    "\n",
    "compressed_file = '/path/to/compressed/file.mp3.gz'\n",
    "\n",
    "# Define the path to the decompressed file we want to create\n",
    "\n",
    "decompressed_file = '/path/to/decompressed/file.mp3'\n",
    "\n",
    "# Compress the audio file\n",
    "\n",
    "with open(input_file, 'rb') as file_in, gzip.open(compressed_file, 'wb') as file_out:\n",
    "    audio = AudioSegment.from_file(file_in)\n",
    "    audio.export(file_out, format='mp3')\n",
    "\n",
    "# Decompress the audio file\n",
    "\n",
    "with gzip.open(compressed_file, 'rb') as file_in, open(decompressed_file, 'wb') as file_out:\n",
    "    audio = AudioSegment.from_file(file_in, format='mp3')\n",
    "    audio.export(file_out, format='mp3')"
   ]
  },
  {
   "cell_type": "raw",
   "id": "647857d5-7904-4ccc-bef3-1d488b22d1f4",
   "metadata": {},
   "source": [
    "In this code, we first define the path to the audio file we want to compress. We also define the path to the compressed file we want to create and the path to the decompressed file we want to create.\n",
    "\n",
    "We compress the audio file using the gzip.open function with the 'wb' mode to write binary data to the compressed file. We use the pydub module to open the audio file from the input file and export it to the compressed file using the audio.export method.\n",
    "\n",
    "We decompress the audio file using the gzip.open function with the 'rb' mode to read binary data from the compressed file. We use the pydub module to open the audio file from the compressed file and export it to the decompressed file using the audio.export method."
   ]
  }
 ],
 "metadata": {
  "kernelspec": {
   "display_name": "Python 3 (ipykernel)",
   "language": "python",
   "name": "python3"
  },
  "language_info": {
   "codemirror_mode": {
    "name": "ipython",
    "version": 3
   },
   "file_extension": ".py",
   "mimetype": "text/x-python",
   "name": "python",
   "nbconvert_exporter": "python",
   "pygments_lexer": "ipython3",
   "version": "3.11.2"
  }
 },
 "nbformat": 4,
 "nbformat_minor": 5
}
