{
 "cells": [
  {
   "cell_type": "markdown",
   "id": "f000b967-63bf-4090-b2b7-8f2c8b6a2a07",
   "metadata": {},
   "source": [
    "## Grammar Correction API\n",
    "---\n",
    "\n",
    "To access a grammar correction API, you first need to find a suitable API provider and sign up for an API key. Once you have your API key, you can use it to make requests to the API.\n",
    "\n",
    "Here's an example Python code snippet that demonstrates how to use the GrammarBot API to perform grammar corrections using the requests library:"
   ]
  },
  {
   "cell_type": "raw",
   "id": "f8d01681-af9d-483b-9613-18346c5979fd",
   "metadata": {},
   "source": [
    "################################\n",
    "# create RPA Virtual environment\n",
    "################################\n",
    "# py -m venv RPA\n",
    "# RPA\\Scripts\\activate.bat\n",
    "# import sys\n",
    "# sys.path\n",
    "# py -m pip --version\n",
    "\n",
    "############################################\n",
    "## MAKE SURE these packages are installed ##\n",
    "############################################\n",
    "# py -m pip install requests\n",
    "################################\n",
    "# sign up for API Key\n",
    "################################"
   ]
  },
  {
   "cell_type": "code",
   "execution_count": null,
   "id": "6b0c9fc9-1927-4458-a15f-0da219aca14c",
   "metadata": {},
   "outputs": [],
   "source": [
    "import requests\n",
    "\n",
    "# Set API endpoint and API key\n",
    "api_url = 'https://api.grammarbot.io/v2/check'\n",
    "api_key = 'YOUR_API_KEY'\n",
    "\n",
    "# Define request parameters\n",
    "params = {\n",
    "    'api_key': api_key,\n",
    "    'text': 'I has a apple.'\n",
    "}\n",
    "\n",
    "# Execute the request and print results\n",
    "response = requests.post(api_url, data=params)\n",
    "data = response.json()\n",
    "\n",
    "for match in data['matches']:\n",
    "    print(f'Suggested correction for \"{match[\"context\"][\"text\"]}\" at position {match[\"offset\"]}:')\n",
    "    print(match['message'])\n",
    "    print(match['replacements'])"
   ]
  },
  {
   "cell_type": "raw",
   "id": "1b58effe-c5db-4d0c-9778-98c899f3d39e",
   "metadata": {},
   "source": [
    "In this example, we are using the GrammarBot API to correct the grammar in the text \"I has a apple.\" You can modify the text parameter to perform corrections on other pieces of text. Make sure to consult the API documentation for details on the available endpoints and request parameters."
   ]
  }
 ],
 "metadata": {
  "kernelspec": {
   "display_name": "Python 3 (ipykernel)",
   "language": "python",
   "name": "python3"
  },
  "language_info": {
   "codemirror_mode": {
    "name": "ipython",
    "version": 3
   },
   "file_extension": ".py",
   "mimetype": "text/x-python",
   "name": "python",
   "nbconvert_exporter": "python",
   "pygments_lexer": "ipython3",
   "version": "3.11.2"
  }
 },
 "nbformat": 4,
 "nbformat_minor": 5
}
