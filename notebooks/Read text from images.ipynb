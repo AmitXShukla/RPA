{
 "cells": [
  {
   "cell_type": "markdown",
   "id": "7ad30548-2bed-422f-b232-b4c00d92350e",
   "metadata": {},
   "source": [
    "## Read text from images\n",
    "---\n",
    "#### write code to Read images text using tessect\n",
    "    \n",
    "To read text from images using Tesseract OCR in Python, we can use the pytesseract library, which is a Python wrapper for the Tesseract OCR engine. Here's an example code snippet:"
   ]
  },
  {
   "cell_type": "raw",
   "id": "b4a9ba38-a657-41ed-ac2e-83745fd42d33",
   "metadata": {},
   "source": [
    "################################\n",
    "# create RPA Virtual environment\n",
    "################################\n",
    "# py -m venv RPA\n",
    "# RPA\\Scripts\\activate.bat\n",
    "# import sys\n",
    "# sys.path\n",
    "# py -m pip --version\n",
    "\n",
    "############################################\n",
    "## MAKE SURE these packages are installed ##\n",
    "############################################\n",
    "# py -m pip install pytesseract\n",
    "# py -m pip install PIL\n",
    "################################"
   ]
  },
  {
   "cell_type": "code",
   "execution_count": null,
   "id": "e1eeb598-f7ea-47eb-85c0-d8c7321a7a95",
   "metadata": {},
   "outputs": [],
   "source": [
    "import pytesseract\n",
    "from PIL import Image\n",
    "\n",
    "def read_image_text(image_path):\n",
    "    \"\"\"\n",
    "    Reads text from an image file using Tesseract OCR.\n",
    "\n",
    "    Args:\n",
    "        image_path (str): The file path to the input image.\n",
    "\n",
    "    Returns:\n",
    "        str: The extracted text from the image.\n",
    "    \"\"\"\n",
    "    # Load the image file\n",
    "    image = Image.open(image_path)\n",
    "\n",
    "    # Use Tesseract OCR to extract the text from the image\n",
    "    text = pytesseract.image_to_string(image)\n",
    "\n",
    "    return text\n",
    "\n",
    "# Example usage\n",
    "image_path = \"example.png\"\n",
    "text = read_image_text(image_path)\n",
    "print(text)"
   ]
  },
  {
   "cell_type": "raw",
   "id": "f804f950-c3f3-4cd2-b247-dde2f601ab2b",
   "metadata": {},
   "source": [
    "In this code, we define a function called read_image_text that takes an input image file path and returns the extracted text from the image.\n",
    "\n",
    "The function first uses the PIL (Python Imaging Library) Image module to load the image file from the given file path.\n",
    "\n",
    "Next, the function uses the pytesseract library to extract the text from the image using the image_to_string() function. This function takes the image as input and returns the extracted text as a string.\n",
    "\n",
    "Finally, the function returns the extracted text.\n",
    "\n",
    "We can call the read_image_text function with example data, passing in an image file path. The function will return the extracted text from the image as a string. Note that Tesseract OCR is not perfect and may not be able to extract text accurately from all images."
   ]
  }
 ],
 "metadata": {
  "kernelspec": {
   "display_name": "Python 3 (ipykernel)",
   "language": "python",
   "name": "python3"
  },
  "language_info": {
   "codemirror_mode": {
    "name": "ipython",
    "version": 3
   },
   "file_extension": ".py",
   "mimetype": "text/x-python",
   "name": "python",
   "nbconvert_exporter": "python",
   "pygments_lexer": "ipython3",
   "version": "3.11.2"
  }
 },
 "nbformat": 4,
 "nbformat_minor": 5
}
