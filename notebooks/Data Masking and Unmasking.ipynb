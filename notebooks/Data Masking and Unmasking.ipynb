{
 "cells": [
  {
   "cell_type": "markdown",
   "id": "aa76103f-499a-4575-aa7f-a86e8619b069",
   "metadata": {},
   "source": [
    "# ask ChatGPT to write code for Data Masking and Unmasking\n",
    "---\n",
    "\n",
    "often times, We need to transmit Encrypted or Masked data.\n",
    "\n",
    "`To encrypt and decrypt a file, please refer to this notebook.`\n",
    "[File Encrypt and Decrypt](https://github.com/AmitXShukla/RPA/blob/main/notebooks/File%20Encrypt%20and%20Decrypt.ipynb)\n",
    "\n",
    "In this notebook, we will use ChatGPT coding skills to mask and unmask certain columns in a CSV File..\n",
    "\n",
    "- Data masking one column\n",
    "- data masking some chars\n",
    "- data masking without losing keys, using data mapping, with unique values generation/mapping"
   ]
  },
  {
   "cell_type": "code",
   "execution_count": null,
   "id": "2b5090d5-3d3a-4e38-a771-2991826e780e",
   "metadata": {},
   "outputs": [],
   "source": [
    "import pandas as pd\n",
    "\n",
    "# Read in the table\n",
    "\n",
    "df = pd.read_csv('../SampleData/sampleData.csv')\n",
    "\n",
    "# Define which columns to mask\n",
    "\n",
    "columns_to_mask = ['email', 'phone']\n",
    "\n",
    "# Mask the columns\n",
    "\n",
    "df[columns_to_mask] = '***MASKED***'\n",
    "\n",
    "# Save the masked table to a new file\n",
    "\n",
    "df.to_csv('../SampleData/masked_table.csv', index=False)\n",
    "\n",
    "# Unmask the columns by reading in the masked table and replacing the masked values with the original values\n",
    "\n",
    "masked_df = pd.read_csv('../SampleData/masked_table.csv')\n",
    "original_df = pd.read_csv('../SampleData/table.csv')\n",
    "\n",
    "for column in columns_to_mask:\n",
    "    masked_df[column] = original_df[column]\n",
    "\n",
    "# Save the unmasked table to a new file\n",
    "\n",
    "masked_df.to_csv('../SampleData/unmasked_table.csv', index=False)"
   ]
  },
  {
   "cell_type": "raw",
   "id": "69e2f9b9-40c9-4b5b-80f1-99ad3450c553",
   "metadata": {},
   "source": [
    "In this code, we first read in the table from a CSV file using the Pandas library. We then define which columns we want to mask by specifying their names in a list.\n",
    "\n",
    "To mask the columns, we simply assign the value \"***MASKED***\" to each cell in the specified columns.\n",
    "\n",
    "We then save the masked table to a new CSV file using the to_csv method of the Pandas DataFrame.\n",
    "\n",
    "To unmask the columns, we first read in the masked table from the CSV file we just created, as well as the original table from the original CSV file. We then loop through each column we want to unmask, and replace the masked values in the masked table with the original values from the original table.\n",
    "\n",
    "Finally, we save the unmasked table to a new CSV file using the to_csv method of the Pandas DataFrame."
   ]
  }
 ],
 "metadata": {
  "kernelspec": {
   "display_name": "Python 3 (ipykernel)",
   "language": "python",
   "name": "python3"
  },
  "language_info": {
   "codemirror_mode": {
    "name": "ipython",
    "version": 3
   },
   "file_extension": ".py",
   "mimetype": "text/x-python",
   "name": "python",
   "nbconvert_exporter": "python",
   "pygments_lexer": "ipython3",
   "version": "3.11.2"
  }
 },
 "nbformat": 4,
 "nbformat_minor": 5
}
