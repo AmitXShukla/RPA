{
 "cells": [
  {
   "cell_type": "markdown",
   "id": "6e515add-9be4-45f6-a4ea-04391a4a31ef",
   "metadata": {},
   "source": [
    "## Compress and Decompress Video file\n",
    "Python code that demonstrates how to compress and decompress a video file using the gzip and moviepy modules:"
   ]
  },
  {
   "cell_type": "code",
   "execution_count": null,
   "id": "6a82dc9c-4710-444f-b87c-dd694ff79565",
   "metadata": {},
   "outputs": [],
   "source": [
    "import gzip\n",
    "from moviepy.editor import VideoFileClip\n",
    "\n",
    "# Define the path to the video file we want to compress\n",
    "\n",
    "input_file = '/path/to/video/file.mp4'\n",
    "\n",
    "# Define the path to the compressed file we want to create\n",
    "\n",
    "compressed_file = '/path/to/compressed/file.mp4.gz'\n",
    "\n",
    "# Define the path to the decompressed file we want to create\n",
    "\n",
    "decompressed_file = '/path/to/decompressed/file.mp4'\n",
    "\n",
    "# Compress the video file\n",
    "\n",
    "with open(input_file, 'rb') as file_in, gzip.open(compressed_file, 'wb') as file_out:\n",
    "    video = VideoFileClip(file_in)\n",
    "    video.write_videofile(file_out, codec='libx264')\n",
    "\n",
    "# Decompress the video file\n",
    "\n",
    "with gzip.open(compressed_file, 'rb') as file_in, open(decompressed_file, 'wb') as file_out:\n",
    "    video = VideoFileClip(file_in)\n",
    "    video.write_videofile(file_out, codec='libx264')"
   ]
  },
  {
   "cell_type": "raw",
   "id": "de3a149b-c840-4e54-8882-75622be2ceef",
   "metadata": {},
   "source": [
    "In this code, we first define the path to the video file we want to compress. We also define the path to the compressed file we want to create and the path to the decompressed file we want to create.\n",
    "\n",
    "We compress the video file using the gzip.open function with the 'wb' mode to write binary data to the compressed file. We use the moviepy module to open the video file from the input file and export it to the compressed file using the video.write_videofile method with the codec argument set to 'libx264'.\n",
    "\n",
    "We decompress the video file using the gzip.open function with the 'rb' mode to read binary data from the compressed file. We use the moviepy module to open the video file from the compressed file and export it to the decompressed file using the video.write_videofile method with the codec argument set to 'libx264'."
   ]
  }
 ],
 "metadata": {
  "kernelspec": {
   "display_name": "Python 3 (ipykernel)",
   "language": "python",
   "name": "python3"
  },
  "language_info": {
   "codemirror_mode": {
    "name": "ipython",
    "version": 3
   },
   "file_extension": ".py",
   "mimetype": "text/x-python",
   "name": "python",
   "nbconvert_exporter": "python",
   "pygments_lexer": "ipython3",
   "version": "3.11.2"
  }
 },
 "nbformat": 4,
 "nbformat_minor": 5
}
