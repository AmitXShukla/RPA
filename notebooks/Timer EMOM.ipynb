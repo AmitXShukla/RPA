{
 "cells": [
  {
   "attachments": {},
   "cell_type": "markdown",
   "metadata": {},
   "source": [
    "## EMOM clock\n",
    "Here's some Python code to implement an EMOM (Every Minute On the Minute) clock that beeps every minute:"
   ]
  },
  {
   "cell_type": "code",
   "execution_count": 1,
   "metadata": {},
   "outputs": [
    {
     "name": "stdout",
     "output_type": "stream",
     "text": [
      "EMOM clock started!\n",
      "Beep!\n",
      "Beep!\n",
      "Beep!\n",
      "Beep!\n",
      "Beep!\n",
      "Beep!\n",
      "Beep!\n",
      "Beep!\n",
      "Beep!\n",
      "EMOM session finished!\n"
     ]
    }
   ],
   "source": [
    "import time\n",
    "import winsound\n",
    "\n",
    "EMOM_MINUTES = 10  # Adjust this value to set the duration of the EMOM session\n",
    "\n",
    "print(\"EMOM clock started!\")\n",
    "start_time = time.time()\n",
    "next_beep_time = start_time + 60  # Set the time for the first beep\n",
    "\n",
    "while time.time() < start_time + EMOM_MINUTES * 60:\n",
    "    if time.time() >= next_beep_time:\n",
    "        winsound.Beep(440, 500)  # Play a beep sound for 500ms\n",
    "        print(\"Beep!\")\n",
    "        next_beep_time += 60\n",
    "\n",
    "print(\"EMOM session finished!\")"
   ]
  },
  {
   "cell_type": "markdown",
   "metadata": {},
   "source": [
    "\n",
    "\n",
    "In this code, we first define the duration of the EMOM session (EMOM_MINUTES). We then print a message to indicate that the EMOM clock has started.\n",
    "\n",
    "We use the time module to keep track of the current time and calculate the time for the next beep. We also use the winsound module to play a beep sound at each interval.\n",
    "\n",
    "Inside the while loop, we check if the current time has reached the time for the next beep. If it has, we play the beep sound using the winsound.Beep() function, print a message to the console, and calculate the time for the next beep.\n",
    "\n",
    "Finally, we check if the total duration of the EMOM session has elapsed and print a message to indicate that the session is finished."
   ]
  }
 ],
 "metadata": {
  "kernelspec": {
   "display_name": "RPA",
   "language": "python",
   "name": "python3"
  },
  "language_info": {
   "codemirror_mode": {
    "name": "ipython",
    "version": 3
   },
   "file_extension": ".py",
   "mimetype": "text/x-python",
   "name": "python",
   "nbconvert_exporter": "python",
   "pygments_lexer": "ipython3",
   "version": "3.11.2"
  },
  "orig_nbformat": 4
 },
 "nbformat": 4,
 "nbformat_minor": 2
}
