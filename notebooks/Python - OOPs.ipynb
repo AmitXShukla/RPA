{
 "cells": [
  {
   "attachments": {},
   "cell_type": "markdown",
   "metadata": {},
   "source": [
    "## Python OOPs\n",
    "---\n",
    "\n",
    "A Complete guide to understand Python Object Oriented programming.\n",
    "\n",
    "This notebook is an informal tutorial to understand basic OOPs concepts implemented in Python.\n",
    "\n",
    "This blog is a fresh new approach to learn Python Concepts to help solve a real world problem. You will find this blog helpful in case you are wondering how Object oriented programming helps and implemented in data science projects.\n",
    "\n",
    "It is more focused on solving a real world problem with help of Python OOPs concepts instead of learning OOPs first to solve a problem.\n",
    "\n",
    "---"
   ]
  },
  {
   "attachments": {},
   "cell_type": "markdown",
   "metadata": {},
   "source": [
    "First of all, Let's talk about a real world problem we are trying to solve.\n",
    "\n",
    "In a typical Data Science or any other project, it's always about data.\n",
    "And Data has a state which is mostly defined as attributes.\n",
    "\n",
    "Let's take\n",
    "\n"
   ]
  },
  {
   "cell_type": "markdown",
   "metadata": {},
   "source": []
  }
 ],
 "metadata": {
  "kernelspec": {
   "display_name": "RPA",
   "language": "python",
   "name": "python3"
  },
  "language_info": {
   "codemirror_mode": {
    "name": "ipython",
    "version": 3
   },
   "file_extension": ".py",
   "mimetype": "text/x-python",
   "name": "python",
   "nbconvert_exporter": "python",
   "pygments_lexer": "ipython3",
   "version": "3.11.2"
  },
  "orig_nbformat": 4
 },
 "nbformat": 4,
 "nbformat_minor": 2
}
