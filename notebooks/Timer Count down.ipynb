{
 "cells": [
  {
   "cell_type": "code",
   "execution_count": null,
   "metadata": {},
   "outputs": [],
   "source": [
    "- [Count down timer]\n",
    "Here's some Python code that displays a countdown timer:\n",
    "import time\n",
    "\n",
    "# Define the countdown time in seconds\n",
    "\n",
    "countdown_time = 60\n",
    "\n",
    "# Start the countdown\n",
    "\n",
    "while countdown_time > 0:\n",
    "    print(\"Time remaining: {} seconds\".format(countdown_time))\n",
    "    time.sleep(1)\n",
    "    countdown_time -= 1\n",
    "\n",
    "# Countdown has ended\n",
    "\n",
    "print(\"Time's up!\")\n",
    "\n",
    "In this code, we first define the countdown time in seconds. We then start a while loop that runs until the countdown time reaches 0. Inside the loop, we print the time remaining in seconds using the format() function to insert the countdown_time variable into the string.\n",
    "\n",
    "We then pause the program execution for 1 second using the time.sleep() function and decrement the countdown_time variable by 1.\n",
    "\n",
    "When the countdown time reaches 0, we print a message to indicate that the countdown has ended."
   ]
  }
 ],
 "metadata": {
  "language_info": {
   "name": "python"
  },
  "orig_nbformat": 4
 },
 "nbformat": 4,
 "nbformat_minor": 2
}
