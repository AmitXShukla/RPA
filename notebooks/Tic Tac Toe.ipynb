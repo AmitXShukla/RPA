{
 "cells": [
  {
   "cell_type": "markdown",
   "id": "59bfabd4-f608-4724-b452-98cec854964a",
   "metadata": {},
   "source": [
    "## hey ChatGPT, write code for tic tac toe"
   ]
  },
  {
   "cell_type": "code",
   "execution_count": 7,
   "id": "4c08d8eb-2092-4b9b-826d-a46789ae1a1b",
   "metadata": {
    "tags": []
   },
   "outputs": [],
   "source": [
    "def print_board(board):\n",
    "    print(\"-------------\")\n",
    "    for i in range(3):\n",
    "        print(\"|\", end=\" \")\n",
    "        for j in range(3):\n",
    "            print(board[i][j], \"|\", end=\" \")\n",
    "        print()\n",
    "        print(\"-------------\")\n",
    "\n",
    "def check_win(board):\n",
    "    for i in range(3):\n",
    "        if board[i][0] == board[i][1] == board[i][2] and board[i][0] != \"-\":\n",
    "            return True\n",
    "        if board[0][i] == board[1][i] == board[2][i] and board[0][i] != \"-\":\n",
    "            return True\n",
    "    if board[0][0] == board[1][1] == board[2][2] and board[0][0] != \"-\":\n",
    "        return True\n",
    "    if board[0][2] == board[1][1] == board[2][0] and board[0][2] != \"-\":\n",
    "        return True\n",
    "    return False\n",
    "\n",
    "def tic_tac_toe():\n",
    "    board = [[\"-\", \"-\", \"-\"], [\"-\", \"-\", \"-\"], [\"-\", \"-\", \"-\"]]\n",
    "    player = \"X\"\n",
    "    while not check_win(board):\n",
    "        print_board(board)\n",
    "        row = int(input(\"Enter row (0, 1, or 2) for player \" + player + \": \"))\n",
    "        col = int(input(\"Enter column (0, 1, or 2) for player \" + player + \": \"))\n",
    "        if board[row][col] == \"-\":\n",
    "            board[row][col] = player\n",
    "            if player == \"X\":\n",
    "                player = \"O\"\n",
    "            else:\n",
    "                player = \"X\"\n",
    "        else:\n",
    "            print(\"That spot is taken. Try again.\")\n",
    "    print_board(board)\n",
    "    print(\"Player \" + player + \" wins!\")"
   ]
  },
  {
   "cell_type": "markdown",
   "id": "9e3e62cc-f50b-48fb-b59b-ff3d12f5ca30",
   "metadata": {
    "tags": []
   },
   "source": [
    "To start the game, simply call the tic_tac_toe() function. It will prompt each player to enter a row and column to place their mark (either \"X\" or \"O\") on the board, and will continue until one player wins or the game ends in a tie."
   ]
  },
  {
   "cell_type": "code",
   "execution_count": null,
   "id": "4ec8e71c-637e-4da7-81b3-f6594aa2838a",
   "metadata": {
    "tags": []
   },
   "outputs": [
    {
     "name": "stdout",
     "output_type": "stream",
     "text": [
      "-------------\n",
      "| - | - | - | \n",
      "-------------\n",
      "| - | - | - | \n",
      "-------------\n",
      "| - | - | - | \n",
      "-------------\n"
     ]
    },
    {
     "name": "stdin",
     "output_type": "stream",
     "text": [
      "Enter row (0, 1, or 2) for player X:  0\n",
      "Enter column (0, 1, or 2) for player X:  1\n"
     ]
    },
    {
     "name": "stdout",
     "output_type": "stream",
     "text": [
      "-------------\n",
      "| - | X | - | \n",
      "-------------\n",
      "| - | - | - | \n",
      "-------------\n",
      "| - | - | - | \n",
      "-------------\n"
     ]
    },
    {
     "name": "stdin",
     "output_type": "stream",
     "text": [
      "Enter row (0, 1, or 2) for player O:  0\n"
     ]
    }
   ],
   "source": [
    "tic_tac_toe()"
   ]
  },
  {
   "cell_type": "code",
   "execution_count": null,
   "id": "1a13af4c-fe02-4988-a9fa-bf08825def8b",
   "metadata": {},
   "outputs": [],
   "source": []
  }
 ],
 "metadata": {
  "kernelspec": {
   "display_name": "Python 3 (ipykernel)",
   "language": "python",
   "name": "python3"
  },
  "language_info": {
   "codemirror_mode": {
    "name": "ipython",
    "version": 3
   },
   "file_extension": ".py",
   "mimetype": "text/x-python",
   "name": "python",
   "nbconvert_exporter": "python",
   "pygments_lexer": "ipython3",
   "version": "3.11.2"
  }
 },
 "nbformat": 4,
 "nbformat_minor": 5
}
