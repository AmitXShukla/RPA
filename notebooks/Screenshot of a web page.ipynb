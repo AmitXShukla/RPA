{
 "cells": [
  {
   "attachments": {},
   "cell_type": "markdown",
   "id": "96cde766-7bcc-4119-9606-f3ba0a6b0aa2",
   "metadata": {},
   "source": [
    "## Screenshot of a web page\n",
    "\n",
    "---\n",
    "This tutorial will demonstrate how to capture a screenshot of a web page using Python Selenium and Pillow modules.\n",
    "\n",
    "Frequently, we require a snapshot of an email, webpage, online order, receipt, or other document. \n",
    "\n",
    "Most modern operating systems offer built-in tools to capture such screenshots online.\n",
    "\n",
    "However, in certain scenarios, the following code can help streamline the process of capturing multiple screenshots of web pages.\n",
    "\n",
    "The tutorial will cover the following:\n",
    "\n",
    "- Creating generic functions to access the webdriver and take screenshots\n",
    "- Extending this functionality to automate browsing and capture corresponding screenshots of multiple pages."
   ]
  },
  {
   "cell_type": "code",
   "execution_count": null,
   "id": "4ec9c8f5",
   "metadata": {},
   "outputs": [],
   "source": [
    "################################\n",
    "# create RPA Virtual environment\n",
    "################################\n",
    "# py -m venv RPA\n",
    "# RPA\\Scripts\\activate.bat\n",
    "# import sys\n",
    "# sys.path\n",
    "# py -m pip --version\n",
    "################################\n",
    "## MAKE SURE these packages\n",
    "## are installed\n",
    "################################\n",
    "# pip install selenium\n",
    "# pip install Pillow\n",
    "################################"
   ]
  },
  {
   "cell_type": "code",
   "execution_count": null,
   "id": "5da06f47",
   "metadata": {},
   "outputs": [],
   "source": [
    "# pip install Pillow\n",
    "# pip install selenium"
   ]
  },
  {
   "attachments": {},
   "cell_type": "markdown",
   "id": "bf9950b8",
   "metadata": {},
   "source": [
    "First step is to [download chrome web-driver](https://chromedriver.chromium.org/downloads). Please make sure, web-driver version matches with your chrome version.\n",
    "\n",
    "(Open Chrome -> Help -> About chrome -> check version).\n",
    "\n",
    "download appropriate version depending on machine OS and unzip/extract to a local folder."
   ]
  },
  {
   "attachments": {},
   "cell_type": "markdown",
   "id": "3cb85501",
   "metadata": {},
   "source": [
    "## ChatGPT generated code for taking a screenshot using chrome webdriver"
   ]
  },
  {
   "cell_type": "code",
   "execution_count": null,
   "id": "d83021db",
   "metadata": {},
   "outputs": [],
   "source": [
    "from selenium import webdriver\n",
    "from PIL import Image\n",
    "\n",
    "# Define the URL of the web page we want to screenshot\n",
    "\n",
    "url = 'https://finance.yahoo.com/quote/AAPL?p=AAPL&.tsrc=fin-srch'\n",
    "\n",
    "# Define the path to the webdriver executable (e.g., chromedriver.exe)\n",
    "\n",
    "# webdriver_path = '/path/to/webdriver/executable'\n",
    "webdriver_path = 'C:\\amit.la\\WIP\\RPA\\downloads\\chromedriver.exe'\n",
    "\n",
    "# Set up the webdriver\n",
    "\n",
    "options = webdriver.ChromeOptions()\n",
    "options.headless = True # Run the browser in headless mode to prevent a window from popping up\n",
    "driver = webdriver.Chrome(executable_path=webdriver_path, options=options)\n",
    "\n",
    "# Load the web page\n",
    "\n",
    "driver.get(url)\n",
    "\n",
    "# Take a screenshot of the entire page\n",
    "\n",
    "# screenshot = driver.find_element_by_tag_name('body').screenshot_as_png\n",
    "screenshot = driver.save_screenshot('../downloads/screenshot.png')\n",
    "\n",
    "# Close the webdriver\n",
    "\n",
    "driver.quit()\n",
    "\n",
    "# Save the screenshot to a file\n",
    "\n",
    "# with open('../SampleData/screenshot.png', 'wb') as file:\n",
    "#     file.write(screenshot)\n",
    "\n",
    "# Open the screenshot with Pillow to display it (optional)\n",
    "\n",
    "img = Image.open('../downloads/screenshot.png')\n",
    "img.show()"
   ]
  },
  {
   "attachments": {},
   "cell_type": "markdown",
   "id": "3b544210",
   "metadata": {},
   "source": [
    "In this code, we first define the URL of the web page we want to screenshot. We also define the path to the webdriver executable (e.g., chromedriver.exe for Google Chrome).\n",
    "\n",
    "We set up the webdriver using the webdriver.Chrome function and the options argument. We enable headless mode by setting options.headless to True, which runs the browser in the background without a visible window. We then load the web page using the driver.get method.\n",
    "\n",
    "We take a screenshot of the entire page using the driver.find_element_by_tag_name('body').screenshot_as_png method. This method captures the entire content of the web page, even if it extends beyond the visible area of the browser window.\n",
    "\n",
    "We close the webdriver using the driver.quit() method and save the screenshot to a file using the open function with the 'wb' mode to write binary data. Finally, we can open the screenshot with Pillow using the Image.open function and the show method (optional)."
   ]
  },
  {
   "cell_type": "code",
   "execution_count": null,
   "id": "7860fe83",
   "metadata": {},
   "outputs": [],
   "source": [
    "import os\n",
    "urls = {\n",
    "        \"AAPL.png\": \"https://finance.yahoo.com/quote/AAPL?p=AAPL&.tsrc=fin-srch\",\n",
    "        \"ORCL.png\": \"https://finance.yahoo.com/quote/ORCL?p=ORCL&.tsrc=fin-srch\",\n",
    "        \"TSLA.png\": \"https://finance.yahoo.com/quote/TSLA?p=TSLA&.tsrc=fin-srch\",\n",
    "        \"GOOG.png\": \"https://finance.yahoo.com/quote/GOOG?p=GOOG&.tsrc=fin-srch\",\n",
    "        \"MSFT.png\": \"https://finance.yahoo.com/quote/MSFT?p=MSFT&.tsrc=fin-srch\"\n",
    "    }"
   ]
  },
  {
   "cell_type": "code",
   "execution_count": null,
   "id": "3723fb5c",
   "metadata": {},
   "outputs": [],
   "source": [
    "def takeScreenshots(outputFileName, url):\n",
    "    driver.get(url)\n",
    "    driver.save_screenshot(os.path.join('../downloads/',outputFileName))"
   ]
  },
  {
   "cell_type": "code",
   "execution_count": null,
   "id": "461054ae",
   "metadata": {},
   "outputs": [],
   "source": [
    "for key,value in urls.items():\n",
    "    takeScreenshots(key, value)"
   ]
  },
  {
   "cell_type": "markdown",
   "id": "3e542f6d",
   "metadata": {},
   "source": []
  }
 ],
 "metadata": {
  "kernelspec": {
   "display_name": "Python 3 (ipykernel)",
   "language": "python",
   "name": "python3"
  },
  "language_info": {
   "codemirror_mode": {
    "name": "ipython",
    "version": 3
   },
   "file_extension": ".py",
   "mimetype": "text/x-python",
   "name": "python",
   "nbconvert_exporter": "python",
   "pygments_lexer": "ipython3",
   "version": "3.11.2"
  }
 },
 "nbformat": 4,
 "nbformat_minor": 5
}
